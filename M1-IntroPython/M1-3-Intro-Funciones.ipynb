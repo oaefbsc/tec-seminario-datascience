{
 "cells": [
  {
   "cell_type": "markdown",
   "metadata": {},
   "source": [
    "# Introducción a Python"
   ]
  },
  {
   "cell_type": "markdown",
   "metadata": {},
   "source": [
    "## Funciones no predefinidas (non-built-in functions)"
   ]
  },
  {
   "cell_type": "markdown",
   "metadata": {},
   "source": [
    "Python tiene distintas funciones matemáticas no predefinidas que pueden ser utilizadas al importar el **módulo** `math`. Este módulo es una librería que contiene la definición de diversas funciones matemáticas."
   ]
  },
  {
   "cell_type": "code",
   "execution_count": null,
   "metadata": {},
   "outputs": [],
   "source": [
    "# math\n",
    "import math"
   ]
  },
  {
   "cell_type": "code",
   "execution_count": null,
   "metadata": {},
   "outputs": [],
   "source": [
    "dir(math)"
   ]
  },
  {
   "cell_type": "markdown",
   "metadata": {},
   "source": [
    "La palabra reservada **import** importa el módulo deseado y **dir()** despliega el conjunto de funciones contenidas en el módulo"
   ]
  },
  {
   "cell_type": "code",
   "execution_count": null,
   "metadata": {},
   "outputs": [],
   "source": [
    "help(math.sqrt)"
   ]
  },
  {
   "cell_type": "code",
   "execution_count": null,
   "metadata": {},
   "outputs": [],
   "source": [
    "math.sqrt(25)"
   ]
  },
  {
   "cell_type": "code",
   "execution_count": null,
   "metadata": {},
   "outputs": [],
   "source": [
    "math.log2(16)"
   ]
  },
  {
   "cell_type": "code",
   "execution_count": null,
   "metadata": {},
   "outputs": [],
   "source": [
    "# math.f + tab\n",
    "math.factorial(5)"
   ]
  },
  {
   "cell_type": "markdown",
   "metadata": {},
   "source": [
    "## Definición de funciones"
   ]
  },
  {
   "cell_type": "markdown",
   "metadata": {},
   "source": [
    "Una **función** permite conjuntar expresiones y sentencias que realizan acciones específicas. \n",
    "\n",
    "En Python se define una función con un **nombre**, esta función puede o no recibir **argumentos**, ejecuta ciertas instrucciones dentro de ella y puede devolver o no un valor. Para ejectuar una función, ésta debe ser **llamada** o invocada enviándole, en la mayoría de los casos, el valor de los argumentos definidos en ella.\n",
    "En Python, toda función es un objeto."
   ]
  },
  {
   "cell_type": "code",
   "execution_count": null,
   "metadata": {},
   "outputs": [],
   "source": [
    "# foo pass\n",
    "def foo():\n",
    "    pass"
   ]
  },
  {
   "cell_type": "markdown",
   "metadata": {},
   "source": [
    "La palabra reservada `pass` es una operación *nula* que no causa ningún efecto en su ejecución."
   ]
  },
  {
   "cell_type": "code",
   "execution_count": null,
   "metadata": {},
   "outputs": [],
   "source": [
    "# saludo1\n",
    "def saludo1():\n",
    "     print(\"¡¡¡hello!!!\")"
   ]
  },
  {
   "cell_type": "code",
   "execution_count": null,
   "metadata": {},
   "outputs": [],
   "source": [
    "saludo()"
   ]
  },
  {
   "cell_type": "markdown",
   "metadata": {},
   "source": [
    "En Python se utiliza la palabra reservada `def` para definir una función, entre paréntesis `( )` los argumentos con los que opera la función y a continuación `:`. En Python el cuerpo de la función deberá respetar la indentación de cuatro espacios. El valor que devuelve la función va precedido de la palabra reservada `return`. "
   ]
  },
  {
   "cell_type": "code",
   "execution_count": null,
   "metadata": {},
   "outputs": [],
   "source": [
    "# saludo2\n",
    "def saludo2():\n",
    "    return \"!!hello!!\""
   ]
  },
  {
   "cell_type": "code",
   "execution_count": null,
   "metadata": {},
   "outputs": [],
   "source": [
    "s = saludo2()"
   ]
  },
  {
   "cell_type": "code",
   "execution_count": null,
   "metadata": {},
   "outputs": [],
   "source": [
    "print(s)"
   ]
  },
  {
   "cell_type": "code",
   "execution_count": null,
   "metadata": {},
   "outputs": [],
   "source": [
    "s = saludo1()"
   ]
  },
  {
   "cell_type": "code",
   "execution_count": null,
   "metadata": {},
   "outputs": [],
   "source": [
    "print(s)"
   ]
  },
  {
   "cell_type": "markdown",
   "metadata": {},
   "source": [
    "Una función que finaliza sin ejecutar una instrucción `return` devuelve un valor `None`.\n"
   ]
  },
  {
   "cell_type": "code",
   "execution_count": null,
   "metadata": {},
   "outputs": [],
   "source": [
    "# cuadrado\n",
    "def cuadrado(x):\n",
    "    return x ** 2"
   ]
  },
  {
   "cell_type": "code",
   "execution_count": null,
   "metadata": {},
   "outputs": [],
   "source": [
    "cuadrado(3)"
   ]
  },
  {
   "cell_type": "code",
   "execution_count": null,
   "metadata": {},
   "outputs": [],
   "source": [
    "xcuadrado = cuadrado(5)\n",
    "xcuadrado"
   ]
  },
  {
   "cell_type": "code",
   "execution_count": null,
   "metadata": {},
   "outputs": [],
   "source": [
    "# area\n",
    "def area(base, altura):\n",
    "    return base * altura / 2\n",
    "area(3, 4)"
   ]
  },
  {
   "cell_type": "code",
   "execution_count": null,
   "metadata": {},
   "outputs": [],
   "source": [
    "area(10, 7.45)"
   ]
  },
  {
   "cell_type": "code",
   "execution_count": null,
   "metadata": {},
   "outputs": [],
   "source": [
    "def perimetro(lado1, lado2, lado3):\n",
    "    return lado1 + lado2 + lado3\n",
    "perimetro(3, 4, 5)"
   ]
  },
  {
   "cell_type": "markdown",
   "metadata": {},
   "source": [
    "Un **parámetro** es un valor que la función espera recibir cuando sea llamada, con ellos realiza acciones. Una función puede esperar uno o más parámetros (que irán separados por una coma) o ninguno.\n",
    "Los parámetros son utilizados como **variables locales** dentro de la función."
   ]
  },
  {
   "cell_type": "markdown",
   "metadata": {},
   "source": [
    "En Python se permite asignar **valores por defecto** a los parámetros de las funciones, esto es que la función podrá ser llamada con menos argumentos de los que espera:"
   ]
  },
  {
   "cell_type": "code",
   "execution_count": null,
   "metadata": {},
   "outputs": [],
   "source": [
    "# saludo3\n",
    "def saludo3(nombre, mensaje='hola!!'): \n",
    "    print (nombre, mensaje) "
   ]
  },
  {
   "cell_type": "code",
   "execution_count": null,
   "metadata": {},
   "outputs": [],
   "source": [
    "saludo3('oscar', '¿qué tal?')"
   ]
  },
  {
   "cell_type": "code",
   "execution_count": null,
   "metadata": {},
   "outputs": [],
   "source": [
    "saludo3('oscar')"
   ]
  },
  {
   "cell_type": "code",
   "execution_count": null,
   "metadata": {},
   "outputs": [],
   "source": [
    "# error\n",
    "saludo3()"
   ]
  },
  {
   "cell_type": "code",
   "execution_count": null,
   "metadata": {},
   "outputs": [],
   "source": [
    "# saludo4\n",
    "def saludo4(nombre='Oscar', mensaje='hola!!'): \n",
    "    print (nombre, mensaje) "
   ]
  },
  {
   "cell_type": "code",
   "execution_count": null,
   "metadata": {},
   "outputs": [],
   "source": [
    "saludo4('Ximena', 'muy buenos días')"
   ]
  },
  {
   "cell_type": "code",
   "execution_count": null,
   "metadata": {},
   "outputs": [],
   "source": [
    "saludo4()"
   ]
  },
  {
   "cell_type": "markdown",
   "metadata": {},
   "source": [
    "## Diseño de funciones"
   ]
  },
  {
   "cell_type": "markdown",
   "metadata": {},
   "source": [
    "Para cualquier función predefinida (buil-in function) se puede obtener su descripción y ayuda sobre su funcionamiento con la función `help()`. Esta ayuda despliega las propiedades de la función, dado el caso, los tipos de parámetros que requiere y el tipo de valor de retorno."
   ]
  },
  {
   "cell_type": "code",
   "execution_count": null,
   "metadata": {},
   "outputs": [],
   "source": [
    "# Ayuda de las funciones\n",
    "help(abs)"
   ]
  },
  {
   "cell_type": "markdown",
   "metadata": {},
   "source": [
    "Los desarrolladres de Python definieron cierta estructura para que el usuario cree sus propias funciones.El diseño de cualquier función en Python sigue un conjunto de *convenciones* con el que se procura tener un manejo sencillo y transparente de la función, así como facilitar el proceso de corrección de errores."
   ]
  },
  {
   "cell_type": "code",
   "execution_count": null,
   "metadata": {},
   "outputs": [],
   "source": [
    "def area(base, altura):             # Header\n",
    "    '''(numero, numero) -> numero   # Type contract\n",
    "    \n",
    "    Regresa el area de un triangulo\n",
    "    con dimensiones base y altura.  # Description \n",
    "    \n",
    "    >>> area(10,5)                  # Examples \n",
    "    25.0\n",
    "    >>> area(2.5, 3)\n",
    "    3.75\n",
    "    '''\n",
    "    return base * altura / 2        # Body"
   ]
  },
  {
   "cell_type": "markdown",
   "metadata": {},
   "source": [
    "> La inclusión de ejemplos de uso y funcionamiento de la función son de gran utilidad para hacer *tests* de dicha función."
   ]
  },
  {
   "cell_type": "code",
   "execution_count": null,
   "metadata": {},
   "outputs": [],
   "source": [
    "help(area)"
   ]
  },
  {
   "cell_type": "code",
   "execution_count": null,
   "metadata": {},
   "outputs": [],
   "source": [
    "# func convert_to_celsius\n",
    "def convert_to_celsius(fahrenheit):\n",
    "    '''(number)-> float\n",
    "    \n",
    "    Return the number of Celsius degrees equivalente to \n",
    "    fahrenheit\n",
    "    \n",
    "    >>> convert_to_celsius(32)\n",
    "    0.0\n",
    "    >>> convert_to_celsius(212)\n",
    "    100.0\n",
    "    '''\n",
    "    return (fahrenheit - 32) * 5 / 9\n",
    "    "
   ]
  },
  {
   "cell_type": "code",
   "execution_count": null,
   "metadata": {},
   "outputs": [],
   "source": [
    "convert_to_celsius(32)"
   ]
  },
  {
   "cell_type": "code",
   "execution_count": null,
   "metadata": {},
   "outputs": [],
   "source": [
    "convert_to_celsius(212)"
   ]
  },
  {
   "cell_type": "code",
   "execution_count": null,
   "metadata": {},
   "outputs": [],
   "source": [
    "# help\n",
    "help(convert_to_celsius)"
   ]
  },
  {
   "cell_type": "code",
   "execution_count": null,
   "metadata": {},
   "outputs": [],
   "source": [
    "# perimeter\n",
    "def perimeter(side1, side2, side3):\n",
    "    '''(number, number, number) -> number\n",
    "    \n",
    "    Return the perimeter of the triangle with sides of\n",
    "    length side1, side2 and side3.\n",
    "    \n",
    "    >>> perimeter(3, 4, 5)\n",
    "    12\n",
    "    >>> perimeter(10.5, 6, 9.3)\n",
    "    25.8\n",
    "    '''\n",
    "    return side1 + side2 + side3                 "
   ]
  },
  {
   "cell_type": "code",
   "execution_count": null,
   "metadata": {},
   "outputs": [],
   "source": [
    "perimeter(3, 4, 5)"
   ]
  },
  {
   "cell_type": "code",
   "execution_count": null,
   "metadata": {},
   "outputs": [],
   "source": [
    "perimeter (10.5, 6, 9.3)"
   ]
  },
  {
   "cell_type": "code",
   "execution_count": null,
   "metadata": {},
   "outputs": [],
   "source": [
    "# semiperimeter\n",
    "def semiperimeter(side1, side2, side3):\n",
    "    ''' (number, number, number) -> float\n",
    "    \n",
    "    Return the semiperimeter of a triangle with sides of\n",
    "    length side1, side2, side3.\n",
    "    \n",
    "    >>> semiperimeter(3, 4, 5)\n",
    "    6.0\n",
    "    >>> semiperimeter(10.5, 6, 9.3)\n",
    "    12.9\n",
    "    '''\n",
    "    \n",
    "    return perimeter(side1, side2, side3)/2"
   ]
  },
  {
   "cell_type": "code",
   "execution_count": null,
   "metadata": {},
   "outputs": [],
   "source": [
    "semiperimeter(3,4,5)"
   ]
  },
  {
   "cell_type": "code",
   "execution_count": null,
   "metadata": {},
   "outputs": [],
   "source": [
    "semiperimeter(10.5, 6, 9.5)\n"
   ]
  },
  {
   "cell_type": "markdown",
   "metadata": {},
   "source": [
    "En el ejemplo anterior se reutiliza una función dentro de otra función. \n",
    "\n",
    "La ventaja de crear funciones es poder **reutilizarlas** cuando se requieran. Otro ejemplo sería:"
   ]
  },
  {
   "cell_type": "code",
   "execution_count": null,
   "metadata": {},
   "outputs": [],
   "source": [
    "max(area(3.8, 7.0), area(3.5, 6.8))"
   ]
  },
  {
   "cell_type": "markdown",
   "metadata": {},
   "source": [
    "**Ejemplo:**\n",
    "\n",
    "Se desea calcular el perímetro de un triángulo usando la **fórmula de Herón**: $$\\sqrt{s(s-l_1)(s-l_2)(s-l_3)}$$ donde $s$ es el semiperímetro y $l_1,l_2,l_3$ son los lados. "
   ]
  },
  {
   "cell_type": "code",
   "execution_count": null,
   "metadata": {},
   "outputs": [],
   "source": [
    "# función area_heron\n",
    "def area_heron(side1, side2, side3):\n",
    "    '''(number, number, number) -> float\n",
    "    \n",
    "    Return the area of a trinagle with sides of length\n",
    "    side1, side2, side3.\n",
    "    \n",
    "    >>> area_heron(3, 4, 5)\n",
    "    6.0\n",
    "    >>> area_heron(10.5, 6, 9.3)\n",
    "    27.73168584850189\n",
    "    '''\n",
    "    \n",
    "    semi = semiperimeter(side1, side2, side3)\n",
    "    area = math.sqrt(semi * (semi - side1) * (semi - side2) * (semi - side3))\n",
    "    return area"
   ]
  },
  {
   "cell_type": "markdown",
   "metadata": {},
   "source": [
    ">  Python permite crear funciones de usuario al estilo \"non-build-in fuctions\" las cuales pueden ser llamadas desde cualquiera otras funciones o archivos. Estas funciones de usuario son accesibles al importar el módulo en el que están definidas, así la función `f()` definida en el archivo `myfile.py` puede ser invocada al importar el módulo `myfile`."
   ]
  },
  {
   "cell_type": "code",
   "execution_count": null,
   "metadata": {},
   "outputs": [],
   "source": []
  }
 ],
 "metadata": {
  "kernelspec": {
   "display_name": "Python 3",
   "language": "python",
   "name": "python3"
  },
  "language_info": {
   "codemirror_mode": {
    "name": "ipython",
    "version": 3
   },
   "file_extension": ".py",
   "mimetype": "text/x-python",
   "name": "python",
   "nbconvert_exporter": "python",
   "pygments_lexer": "ipython3",
   "version": "3.6.5"
  }
 },
 "nbformat": 4,
 "nbformat_minor": 1
}

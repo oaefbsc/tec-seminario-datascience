{
 "cells": [
  {
   "cell_type": "markdown",
   "metadata": {},
   "source": [
    "# Introducción a Python"
   ]
  },
  {
   "cell_type": "markdown",
   "metadata": {},
   "source": [
    "## Lectura de archivos"
   ]
  },
  {
   "cell_type": "markdown",
   "metadata": {},
   "source": [
    "En Pythob, para leer un archivo, se utiliza la función ```open(filename, modo)``` donde `filename` es la ruta del archivo y `modo` puede ser 'r' de lectura, 'w' de escritura."
   ]
  },
  {
   "cell_type": "markdown",
   "metadata": {},
   "source": [
    "A manera de ejemplo utilizaremos el archivo **amorconstante.txt** ubicado en la directorio actual"
   ]
  },
  {
   "cell_type": "code",
   "execution_count": 7,
   "metadata": {},
   "outputs": [],
   "source": [
    "# path_filename = '/home/oscar/Escritorio/seminario-datascience/M1-IntroPython/amorconstante.txt'\n",
    "path_filename = './amorconstante.txt'"
   ]
  },
  {
   "cell_type": "code",
   "execution_count": null,
   "metadata": {},
   "outputs": [],
   "source": [
    "data_file  = open(path_filename , 'r')\n",
    "data_file.readline()"
   ]
  },
  {
   "cell_type": "markdown",
   "metadata": {},
   "source": [
    "El método ```readline()``` lee y devuelve una línea del archivo incluyendo el caracter de retorno de carro si existe."
   ]
  },
  {
   "cell_type": "code",
   "execution_count": null,
   "metadata": {},
   "outputs": [],
   "source": [
    "data_file.readline()"
   ]
  },
  {
   "cell_type": "code",
   "execution_count": null,
   "metadata": {},
   "outputs": [],
   "source": [
    "data_file.readline()"
   ]
  },
  {
   "cell_type": "code",
   "execution_count": null,
   "metadata": {},
   "outputs": [],
   "source": [
    "data_file.readline()"
   ]
  },
  {
   "cell_type": "markdown",
   "metadata": {},
   "source": [
    "Cuando existe una línea en blanco, el método `readline()` devuelve el caracter ```\\n```. Al final del archivo devolverá el caracter de cadena vacía ' '. "
   ]
  },
  {
   "cell_type": "markdown",
   "metadata": {},
   "source": [
    "El método ```close()``` cierra el archivo."
   ]
  },
  {
   "cell_type": "code",
   "execution_count": null,
   "metadata": {},
   "outputs": [],
   "source": [
    "data_file.close()"
   ]
  },
  {
   "cell_type": "markdown",
   "metadata": {},
   "source": [
    "Es posible iterar sobre el archivo usando un ciclo ```while``` hasta alcanzar el final del archivo."
   ]
  },
  {
   "cell_type": "code",
   "execution_count": null,
   "metadata": {},
   "outputs": [],
   "source": [
    "data_file = open(path_filename, 'r')\n",
    "line = data_file.readline()"
   ]
  },
  {
   "cell_type": "code",
   "execution_count": null,
   "metadata": {},
   "outputs": [],
   "source": [
    "while line != '':\n",
    "    print(line)\n",
    "    line = data_file.readline()"
   ]
  },
  {
   "cell_type": "code",
   "execution_count": null,
   "metadata": {},
   "outputs": [],
   "source": [
    "data_file.close()"
   ]
  },
  {
   "cell_type": "markdown",
   "metadata": {},
   "source": [
    "> El método ```readline()``` agrega el retorno de carro `\\n` a cada línea que lee, mismo que se despliega al escribirse dicha línea. Para evitar esto puede usarse ```print(line, end='')``` que indica el delimita la escritura excluyendo el retorno de carro."
   ]
  },
  {
   "cell_type": "code",
   "execution_count": null,
   "metadata": {},
   "outputs": [],
   "source": [
    "data_file = open(path_filename, 'r')\n",
    "line = data_file.readline()\n",
    "while line != '':\n",
    "    print(line, end='')\n",
    "    line = data_file.readline()"
   ]
  },
  {
   "cell_type": "code",
   "execution_count": null,
   "metadata": {},
   "outputs": [],
   "source": [
    "data_file.close()"
   ]
  },
  {
   "cell_type": "markdown",
   "metadata": {},
   "source": [
    "El uso del método ```readline()``` se recomienda para leer sólo una parte de interés del archivo. El método permite saltar el inicio del archivo y extraer ciertos segmentos importantes delimitados por un caracter o palabra."
   ]
  },
  {
   "cell_type": "code",
   "execution_count": null,
   "metadata": {},
   "outputs": [],
   "source": [
    "data_file = open(path_filename, 'r')\n",
    "\n",
    "line = data_file.readline()\n",
    "line = data_file.readline()\n",
    "line = data_file.readline()\n",
    "\n",
    "# lee hasta encontrar '\\n'\n",
    "while line != '\\n':\n",
    "    print(line, end='')\n",
    "    line = data_file.readline()"
   ]
  },
  {
   "cell_type": "code",
   "execution_count": null,
   "metadata": {},
   "outputs": [],
   "source": [
    "data_file.close()"
   ]
  },
  {
   "cell_type": "markdown",
   "metadata": {},
   "source": [
    "Para leer todas y cada una de las líneas del archivo se recomienda usar un ciclo ```for```. \n",
    "\n",
    "```for line in file:\n",
    "      process line```"
   ]
  },
  {
   "cell_type": "code",
   "execution_count": null,
   "metadata": {},
   "outputs": [],
   "source": [
    "path_filename = '/home/oscar/Escritorio/data/amorconstante.txt'\n",
    "data_file = open(path_filename, 'r')\n",
    "for line in data_file:\n",
    "    print(line, end='')  "
   ]
  },
  {
   "cell_type": "code",
   "execution_count": null,
   "metadata": {},
   "outputs": [],
   "source": [
    "data_file.close()"
   ]
  },
  {
   "cell_type": "markdown",
   "metadata": {},
   "source": [
    "Para leer archivos de mediano y pequeño tamaño se recomienda usar el método ```read()```. \n",
    "\n",
    "```file.read()```"
   ]
  },
  {
   "cell_type": "code",
   "execution_count": null,
   "metadata": {},
   "outputs": [],
   "source": [
    "path_filename = '/home/oscar/Escritorio/data/amorconstante.txt'\n",
    "data_file = open(path_filename, 'r')\n",
    "print(data_file.read()) "
   ]
  },
  {
   "cell_type": "code",
   "execution_count": null,
   "metadata": {},
   "outputs": [],
   "source": [
    "data_file.close()"
   ]
  },
  {
   "cell_type": "markdown",
   "metadata": {},
   "source": [
    "Otra forma para leer un archivo es por medio del uso del método ```readlines()``` el cual lee todas las líneas del archivo y las coloca en una lista, cada línea puede accederse por su índice.\n",
    "\n",
    "```list = file.readlines()```"
   ]
  },
  {
   "cell_type": "code",
   "execution_count": null,
   "metadata": {},
   "outputs": [],
   "source": [
    "path_filename = '/home/oscar/Escritorio/data/amorconstante.txt'\n",
    "data_file = open(path_filename, 'r')\n",
    "lines = data_file.readlines()"
   ]
  },
  {
   "cell_type": "code",
   "execution_count": null,
   "metadata": {},
   "outputs": [],
   "source": [
    "type(lines)"
   ]
  },
  {
   "cell_type": "code",
   "execution_count": null,
   "metadata": {},
   "outputs": [],
   "source": [
    "for line in lines:\n",
    "    print(line, end='')"
   ]
  },
  {
   "cell_type": "code",
   "execution_count": null,
   "metadata": {},
   "outputs": [],
   "source": [
    "data_file.close()"
   ]
  },
  {
   "cell_type": "code",
   "execution_count": null,
   "metadata": {},
   "outputs": [],
   "source": [
    "lines[0]"
   ]
  },
  {
   "cell_type": "code",
   "execution_count": null,
   "metadata": {},
   "outputs": [],
   "source": [
    "lines[1]"
   ]
  },
  {
   "cell_type": "code",
   "execution_count": null,
   "metadata": {},
   "outputs": [],
   "source": [
    "lines[2]"
   ]
  },
  {
   "cell_type": "markdown",
   "metadata": {},
   "source": [
    "## Escritura de archivos"
   ]
  },
  {
   "cell_type": "markdown",
   "metadata": {},
   "source": [
    "Un archivo puede abrirse para escritura con la opción ```w```. Usando el método ```write(str)``` se puede agregar una línea (sin el retorno de carro ```\\n```) al archivo."
   ]
  },
  {
   "cell_type": "code",
   "execution_count": null,
   "metadata": {},
   "outputs": [],
   "source": [
    "path_from_filename  = '/home/oscar/Escritorio/data/amorconstante.txt'\n",
    "path_to_filename = '/home/oscar/Escritorio/data/amorconstante_copy.txt'"
   ]
  },
  {
   "cell_type": "code",
   "execution_count": null,
   "metadata": {},
   "outputs": [],
   "source": [
    "from_file = open(path_from_filename, 'r')\n",
    "contents = from_file.read()\n",
    "from_file.close()"
   ]
  },
  {
   "cell_type": "code",
   "execution_count": null,
   "metadata": {},
   "outputs": [],
   "source": [
    "contents"
   ]
  },
  {
   "cell_type": "code",
   "execution_count": null,
   "metadata": {},
   "outputs": [],
   "source": [
    "to_filename = open(path_to_filename, 'w')\n",
    "to_filename.write(\"Copia\\n\")"
   ]
  },
  {
   "cell_type": "code",
   "execution_count": null,
   "metadata": {},
   "outputs": [],
   "source": [
    "to_filename.write(contents)\n",
    "to_filename.close()"
   ]
  },
  {
   "cell_type": "markdown",
   "metadata": {},
   "source": [
    "El método ```open()``` en modo escritura `w` abre el archivo; si el archivo existe lo sobre-escribe, si no existe el archivo lo crea."
   ]
  },
  {
   "cell_type": "markdown",
   "metadata": {},
   "source": [
    "El método `open()` y el **modo de apertura** está relacionado con la finalidad de se desea lograr. Esto implica lectura, escritura, sobre-escritura, crearlo, crearlo y escribirlo. Cada vez que se abre un archivo se crea un **puntero** que se posiciona dentro del archivo en un lugar específico y que va modificando su posición.\n",
    "\n",
    "La apertura en los modos lectura y escritura, así como la ubicación del puntero se muestran a continuación:\n",
    "\n",
    "|**Indicador** |**Modo de apertura**|**Ubicación del puntero**|\n",
    "|------------- |------------------- |-------------------------|\n",
    "|'r'           |Solo lectura        |Al inicio del archivo    |\n",
    "|'r+'          |Lectura y escritura |Al inicio del archivo    |\n",
    "|'w'           |Solo escritura. Sobre-escribe o crea el archivo|Al inicio del archivo    |\n",
    "|'w+'          |Escritura y lectura. Sobre-escribe o crea el archivo|Al inicio del archivo|\n",
    "\n",
    "Una buena referencia sobre el objeto file, los modos de apertura y la posición del puntero se puede encontrar en [ObjetoFile](https://librosweb.es/libro/python/capitulo-9/sobre-el-objeto-file.html)"
   ]
  },
  {
   "cell_type": "code",
   "execution_count": null,
   "metadata": {},
   "outputs": [],
   "source": []
  }
 ],
 "metadata": {
  "kernelspec": {
   "display_name": "Python 3",
   "language": "python",
   "name": "python3"
  },
  "language_info": {
   "codemirror_mode": {
    "name": "ipython",
    "version": 3
   },
   "file_extension": ".py",
   "mimetype": "text/x-python",
   "name": "python",
   "nbconvert_exporter": "python",
   "pygments_lexer": "ipython3",
   "version": "3.6.5"
  },
  "widgets": {
   "state": {},
   "version": "1.1.2"
  }
 },
 "nbformat": 4,
 "nbformat_minor": 1
}

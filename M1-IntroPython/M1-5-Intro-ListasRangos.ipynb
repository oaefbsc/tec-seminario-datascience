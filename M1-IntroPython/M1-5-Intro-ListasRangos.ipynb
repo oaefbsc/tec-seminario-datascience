{
 "cells": [
  {
   "cell_type": "markdown",
   "metadata": {},
   "source": [
    "# Introducción a Python"
   ]
  },
  {
   "cell_type": "markdown",
   "metadata": {},
   "source": [
    "## Listas"
   ]
  },
  {
   "cell_type": "markdown",
   "metadata": {},
   "source": [
    "Una **lista** es un tipo especial de objeto en Python el cual es iterable e inmutable. Las listas pueden contener datos del mismo tipo o de tipos diferentes.\n",
    "\n",
    "La forma general para definir una lista es: ```[expr1, expr2,...,exprn]```"
   ]
  },
  {
   "cell_type": "code",
   "execution_count": null,
   "metadata": {},
   "outputs": [],
   "source": [
    "# lista valores\n",
    "valores = [80, 90, 70]"
   ]
  },
  {
   "cell_type": "code",
   "execution_count": null,
   "metadata": {},
   "outputs": [],
   "source": [
    "type(valores)"
   ]
  },
  {
   "cell_type": "markdown",
   "metadata": {},
   "source": [
    "Los elementos de una lista tienen un índice asociado y puede usarse sobre ellas la notación de slice."
   ]
  },
  {
   "cell_type": "code",
   "execution_count": null,
   "metadata": {},
   "outputs": [],
   "source": [
    "# índices\n",
    "valores[1]"
   ]
  },
  {
   "cell_type": "code",
   "execution_count": null,
   "metadata": {},
   "outputs": [],
   "source": [
    "valores[2]"
   ]
  },
  {
   "cell_type": "code",
   "execution_count": null,
   "metadata": {},
   "outputs": [],
   "source": [
    "# slicing\n",
    "valores[0:2]"
   ]
  },
  {
   "cell_type": "code",
   "execution_count": null,
   "metadata": {},
   "outputs": [],
   "source": [
    "valores[0:]"
   ]
  },
  {
   "cell_type": "code",
   "execution_count": null,
   "metadata": {},
   "outputs": [],
   "source": [
    "# in\n",
    "80 in valores"
   ]
  },
  {
   "cell_type": "code",
   "execution_count": null,
   "metadata": {},
   "outputs": [],
   "source": [
    "60 in valores"
   ]
  },
  {
   "cell_type": "markdown",
   "metadata": {},
   "source": [
    "Algunas built-in functions para los objetos lista son:\n",
    "* ```len(list)``` - devuelve la longitud de la lista\n",
    "* ```min(list)``` - devuelve el valor mínimo dentro de la lista\n",
    "* ```max(list)``` - devuelve el valor máximo dentro de la lista\n",
    "* ```sum(list)``` - devuelve la suma de los elementos de la lista"
   ]
  },
  {
   "cell_type": "code",
   "execution_count": null,
   "metadata": {},
   "outputs": [],
   "source": [
    "# len\n",
    "len(valores)"
   ]
  },
  {
   "cell_type": "code",
   "execution_count": null,
   "metadata": {},
   "outputs": [],
   "source": [
    "#max \n",
    "max(valores)"
   ]
  },
  {
   "cell_type": "code",
   "execution_count": null,
   "metadata": {},
   "outputs": [],
   "source": [
    "# sum\n",
    "sum(valores)"
   ]
  },
  {
   "cell_type": "code",
   "execution_count": null,
   "metadata": {},
   "outputs": [],
   "source": [
    "# materias\n",
    "materias = ['bio', 'cs', 'math', 'history']\n",
    "len(materias)"
   ]
  },
  {
   "cell_type": "markdown",
   "metadata": {},
   "source": [
    "Las funciones ```min()``` y ```max()``` para listas con elementos ```str``` consideran el orden alfabético."
   ]
  },
  {
   "cell_type": "code",
   "execution_count": null,
   "metadata": {},
   "outputs": [],
   "source": [
    "# max\n",
    "max(materias)"
   ]
  },
  {
   "cell_type": "code",
   "execution_count": null,
   "metadata": {},
   "outputs": [],
   "source": [
    "# min\n",
    "min(materias)"
   ]
  },
  {
   "cell_type": "code",
   "execution_count": null,
   "metadata": {},
   "outputs": [],
   "source": [
    "# error\n",
    "sum(materias)"
   ]
  },
  {
   "cell_type": "markdown",
   "metadata": {},
   "source": [
    "Una lista puede contener elementos de distintos tipos y puede iterarse sobre la lista usando un ciclo ```for```."
   ]
  },
  {
   "cell_type": "code",
   "execution_count": null,
   "metadata": {},
   "outputs": [],
   "source": [
    "street_address = [10, 'Main Street']"
   ]
  },
  {
   "cell_type": "code",
   "execution_count": null,
   "metadata": {},
   "outputs": [],
   "source": [
    "for val in valores:\n",
    "    print(val)"
   ]
  },
  {
   "cell_type": "code",
   "execution_count": null,
   "metadata": {},
   "outputs": [],
   "source": [
    "for item in materias:\n",
    "    print(item)"
   ]
  },
  {
   "cell_type": "markdown",
   "metadata": {},
   "source": [
    "Para conocer la ayuda sobre los metodos implementados para las listas se usa ```help(list)```. \n",
    "\n",
    "Las listas son objetos mutables y varios métodos pueden modificarlas:\n",
    "* ```append()```\n",
    "* ```extend()```\n",
    "* ```pop()```\n",
    "* ```remove()```\n",
    "* ```reverse()```\n",
    "* ```sort()```\n",
    "* ```insert()```\n",
    "\n",
    "Algunos métodos que no modifican las listas son:\n",
    "* ```count()``` \n",
    "* ```index()```  "
   ]
  },
  {
   "cell_type": "code",
   "execution_count": null,
   "metadata": {},
   "outputs": [],
   "source": [
    "colores = []\n",
    "prompt = 'Ingresa un color...'\n",
    "color = input(prompt)"
   ]
  },
  {
   "cell_type": "code",
   "execution_count": null,
   "metadata": {},
   "outputs": [],
   "source": [
    "color"
   ]
  },
  {
   "cell_type": "code",
   "execution_count": null,
   "metadata": {},
   "outputs": [],
   "source": [
    "colores"
   ]
  },
  {
   "cell_type": "code",
   "execution_count": null,
   "metadata": {},
   "outputs": [],
   "source": [
    "while color !='':\n",
    "    colores.append(color) #añade elementos a la lista\n",
    "    color = input(prompt)"
   ]
  },
  {
   "cell_type": "code",
   "execution_count": null,
   "metadata": {},
   "outputs": [],
   "source": [
    "colores"
   ]
  },
  {
   "cell_type": "code",
   "execution_count": null,
   "metadata": {},
   "outputs": [],
   "source": [
    "#añade a la lista otra lista de elementos\n",
    "colores.extend(['rosa', 'gris'])\n",
    "colores"
   ]
  },
  {
   "cell_type": "code",
   "execution_count": null,
   "metadata": {},
   "outputs": [],
   "source": [
    "# elimina el último elemento de la lista\n",
    "colores.pop() "
   ]
  },
  {
   "cell_type": "code",
   "execution_count": null,
   "metadata": {},
   "outputs": [],
   "source": [
    "colores"
   ]
  },
  {
   "cell_type": "code",
   "execution_count": null,
   "metadata": {},
   "outputs": [],
   "source": [
    "# elimina el elemento con el índice especificado\n",
    "colores.pop(2)"
   ]
  },
  {
   "cell_type": "code",
   "execution_count": null,
   "metadata": {},
   "outputs": [],
   "source": [
    "colores"
   ]
  },
  {
   "cell_type": "code",
   "execution_count": null,
   "metadata": {},
   "outputs": [],
   "source": [
    "# elimina elementos de la lista. Error si no está en la lista.\n",
    "colours.remove('blanco')"
   ]
  },
  {
   "cell_type": "code",
   "execution_count": null,
   "metadata": {},
   "outputs": [],
   "source": [
    "# regresa el numero de ocurrencias del elemento en la lista\n",
    "colores.count ('azul')"
   ]
  },
  {
   "cell_type": "code",
   "execution_count": null,
   "metadata": {},
   "outputs": [],
   "source": [
    "if 'azul' in colores:\n",
    "    colores.remove('azul')"
   ]
  },
  {
   "cell_type": "code",
   "execution_count": null,
   "metadata": {},
   "outputs": [],
   "source": [
    "colores"
   ]
  },
  {
   "cell_type": "code",
   "execution_count": null,
   "metadata": {},
   "outputs": [],
   "source": [
    "# añade a la lista elementos de otra lista\n",
    "colores.extend(['violeta', 'negro', 'café', 'morado'])"
   ]
  },
  {
   "cell_type": "code",
   "execution_count": null,
   "metadata": {},
   "outputs": [],
   "source": [
    "colores"
   ]
  },
  {
   "cell_type": "code",
   "execution_count": null,
   "metadata": {},
   "outputs": [],
   "source": [
    "# ordena los elementos de la lista\n",
    "colores.sort() \n",
    "colores"
   ]
  },
  {
   "cell_type": "code",
   "execution_count": null,
   "metadata": {},
   "outputs": [],
   "source": [
    "#inserta un elemento en una posición especifica de la lista.\n",
    "colores.insert(-2, 'blanco')\n",
    "colores"
   ]
  },
  {
   "cell_type": "code",
   "execution_count": null,
   "metadata": {},
   "outputs": [],
   "source": [
    "# devuelve el índice de la primera ocurrencia de un elemento dentro\n",
    "# de la lista, error si no se encuentra.\n",
    "colores.index('blanco')"
   ]
  },
  {
   "cell_type": "code",
   "execution_count": null,
   "metadata": {},
   "outputs": [],
   "source": [
    "if 'rosa' in colores:\n",
    "    where = colores.index('rosa')\n",
    "    colores.pop(where)"
   ]
  },
  {
   "cell_type": "code",
   "execution_count": null,
   "metadata": {},
   "outputs": [],
   "source": [
    "colores"
   ]
  },
  {
   "cell_type": "markdown",
   "metadata": {},
   "source": [
    "> El paso de una lista a una función es por **referencia**, lo cual permite que la lista pueda sea modificada por la función. Cuando se envía una lista a una función se crea un **alias** para la lista. "
   ]
  },
  {
   "cell_type": "code",
   "execution_count": null,
   "metadata": {},
   "outputs": [],
   "source": [
    "# duplica\n",
    "def duplica_indices(lst):\n",
    "    '''(list of int) -> NoneType\n",
    "    \n",
    "    Duplica cada elemento de lst, iniciando desde \n",
    "    el índice 0\n",
    "    '''\n",
    "    \n",
    "    i = 0\n",
    "    while i < len(lst):\n",
    "        lst[i] = lst[i]  * 2\n",
    "        i = i + 2"
   ]
  },
  {
   "cell_type": "code",
   "execution_count": null,
   "metadata": {},
   "outputs": [],
   "source": [
    "lista = [11, 12, 13, 14, 15, 16, 17]\n",
    "print(lista)\n",
    "duplica_indices(lista)\n",
    "print(lista)"
   ]
  },
  {
   "cell_type": "markdown",
   "metadata": {},
   "source": [
    "Las listas son tipos de datos **mutables**, no lo son los ```int```, ```float```, ```double``` y ```str```.\n",
    "\n",
    "Por lo tanto, una función que modifique un parámetro debe especificarlo en el ```docstring``` de la función, si no se indica la modificación explícitamente, la función no debería hacerlo."
   ]
  },
  {
   "cell_type": "markdown",
   "metadata": {},
   "source": [
    "## Rangos"
   ]
  },
  {
   "cell_type": "markdown",
   "metadata": {},
   "source": [
    "La función rango ```range()``` genera un objeto iterable de tipo ```range``` el cual consiste en una lista de números generados desde un valor inicial, hasta otro final y eventualmente una separación determinada : ```range([start,] stop[, step]) -> range object```.   "
   ]
  },
  {
   "cell_type": "code",
   "execution_count": null,
   "metadata": {},
   "outputs": [],
   "source": [
    "# range (n)\n",
    "range(10)"
   ]
  },
  {
   "cell_type": "code",
   "execution_count": null,
   "metadata": {},
   "outputs": [],
   "source": [
    "# type\n",
    "type(range(10))"
   ]
  },
  {
   "cell_type": "code",
   "execution_count": null,
   "metadata": {},
   "outputs": [],
   "source": [
    "# iter range\n",
    "for num in range(10):\n",
    "    print(num)"
   ]
  },
  {
   "cell_type": "code",
   "execution_count": null,
   "metadata": {},
   "outputs": [],
   "source": [
    "# str, len\n",
    "s = 'computer sciences'\n",
    "len(s)"
   ]
  },
  {
   "cell_type": "code",
   "execution_count": null,
   "metadata": {},
   "outputs": [],
   "source": [
    "# iter range(len)\n",
    "for i in range(len(s)):\n",
    "    print (i)"
   ]
  },
  {
   "cell_type": "code",
   "execution_count": null,
   "metadata": {},
   "outputs": [],
   "source": [
    "# iter range(ini, len)\n",
    "for i in range(3, len(s)):\n",
    "    print(i)"
   ]
  },
  {
   "cell_type": "code",
   "execution_count": null,
   "metadata": {},
   "outputs": [],
   "source": [
    "# iter range(ini, len, step)\n",
    "for i in range(5, len(s), 2):\n",
    "    print(i)"
   ]
  },
  {
   "cell_type": "markdown",
   "metadata": {},
   "source": [
    "## Ciclo For sobre índices"
   ]
  },
  {
   "cell_type": "markdown",
   "metadata": {},
   "source": [
    "**Ejercicio:**\n",
    "\n",
    "Se desea comparar los caracteres contigüos de una cadena y contabilizar aquellos pares que sean iguales."
   ]
  },
  {
   "cell_type": "markdown",
   "metadata": {},
   "source": [
    "**Descripción:**\n",
    "\n",
    "Se hará una serie de comparaciones ```s[0],s[1]```, ```s[1],s[2]```, ... , ```s[-2],s[-1]```; en general se comparará cada pareja ```s[i],s[i+1]```.\n",
    "\n",
    "Se requerirá entonces iterar desde el índice ```s[0]``` hasta ```s[len(s)-1]```, la generación de índices se puede hacer usando ```range()```."
   ]
  },
  {
   "cell_type": "code",
   "execution_count": null,
   "metadata": {},
   "outputs": [],
   "source": [
    "# string\n",
    "s='abccdeffggh'\n",
    "s"
   ]
  },
  {
   "cell_type": "code",
   "execution_count": null,
   "metadata": {},
   "outputs": [],
   "source": [
    "# error\n",
    "i = len(s)\n",
    "print(s[i])"
   ]
  },
  {
   "cell_type": "code",
   "execution_count": null,
   "metadata": {},
   "outputs": [],
   "source": [
    "# len - 1\n",
    "i = len(s)-1\n",
    "print(s[i])"
   ]
  },
  {
   "cell_type": "code",
   "execution_count": null,
   "metadata": {},
   "outputs": [],
   "source": [
    "# range(k) ~ [0,k)\n",
    "for i in range(len(s)-1):\n",
    "    print(i, s[i], s[i+1])\n",
    "\n"
   ]
  },
  {
   "cell_type": "code",
   "execution_count": null,
   "metadata": {},
   "outputs": [],
   "source": [
    "# cuenta_adjacentes_repetidos\n",
    "def cuenta_adjacentes_repetidos(s):\n",
    "    '''(str) -> int\n",
    "    \n",
    "    Regresa el número de ocurrencias en las dos caracteres\n",
    "    adyacentes dentro de la cadena s son iguales.\n",
    "    \n",
    "    >>> cuenta_adjacentes_repetidos('abccdeffggh')\n",
    "    3\n",
    "    '''\n",
    "    \n",
    "    repetido = 0\n",
    "    \n",
    "    for i in range(len(s)-1):\n",
    "        if s[i] == s[i+1]:\n",
    "            repetido = repetido +1 \n",
    "    \n",
    "    return repetido\n",
    "    "
   ]
  },
  {
   "cell_type": "code",
   "execution_count": null,
   "metadata": {},
   "outputs": [],
   "source": [
    "cuenta_adjacentes_repetidos('abccdeffggh')"
   ]
  },
  {
   "cell_type": "markdown",
   "metadata": {},
   "source": [
    "**Ejercicio:**\n",
    "\n",
    "Se desea intercabiar cada elemento de una lista proporcionada una posición a la izquierda. El primer elemento cambia a la última posición.\n",
    "\n",
    "**Entrada:** ```['a', 'b', 'c', 'd']```\n",
    "\n",
    "**Salida:** ```['b', 'c', 'd', 'a']```"
   ]
  },
  {
   "cell_type": "code",
   "execution_count": null,
   "metadata": {},
   "outputs": [],
   "source": [
    "# funcion cambia_izquierda\n",
    "def cambia_izquierda(L):\n",
    "    '''(list) -> NoneType\n",
    "    \n",
    "    Intercambia cada item en L una posición a la\n",
    "    izquierda e intercambia el primer item a la\n",
    "    última posición.\n",
    "\n",
    "    Precondicion: len(L) >= 1\n",
    "    \n",
    "    >>> cambia_izquierda(['a', 'b', 'c', 'd'])\n",
    "    ['b', 'c', 'd', 'a']\n",
    "    '''\n",
    "    \n",
    "    \n",
    "    first_item = L[0]\n",
    "    \n",
    "    for i in range(1,len(L)):\n",
    "        L[i-1] = L[i]\n",
    "    \n",
    "    L[-1] = first_item"
   ]
  },
  {
   "cell_type": "code",
   "execution_count": null,
   "metadata": {},
   "outputs": [],
   "source": [
    "L = ['a','b','c','d']"
   ]
  },
  {
   "cell_type": "code",
   "execution_count": null,
   "metadata": {},
   "outputs": [],
   "source": [
    "cambia_izquierda(L)\n",
    "print(L)"
   ]
  },
  {
   "cell_type": "markdown",
   "metadata": {},
   "source": [
    "## Listas paralelas y cadenas"
   ]
  },
  {
   "cell_type": "markdown",
   "metadata": {},
   "source": [
    "**Ejercicio:**\n",
    "\n",
    "Se desea sumar los elementos de dos listas de la misma longitud. Cada suma corresponde a los elementos de ambas listas en la misma posición. \n",
    "\n",
    "**Entrada:** ```[1,2,3], [2,4,2]```\n",
    "\n",
    "**Salida:** ```[3,6,5]```\n"
   ]
  },
  {
   "cell_type": "code",
   "execution_count": null,
   "metadata": {},
   "outputs": [],
   "source": [
    "# funcion suma_items\n",
    "def suma_items(lista1, lista2):\n",
    "    '''(list of number, list of number) -> list of number\n",
    "    \n",
    "    Devuelve una nueva lista en la cual cada item es\n",
    "    la suma de los items en la misma posición de las\n",
    "    lista1 y lista2\n",
    "    \n",
    "    Precondicion: len(lista1) == len(lista2)\n",
    "    \n",
    "    >>> suma_items([1,2,3], [2,4,2])\n",
    "    [3,6,5]\n",
    "    '''\n",
    "    \n",
    "    suma_lista = []\n",
    "    \n",
    "    for i in range(len(lista1)):\n",
    "        suma_lista.append(lista1[i] + lista2[i])\n",
    "        \n",
    "    return suma_lista        "
   ]
  },
  {
   "cell_type": "code",
   "execution_count": null,
   "metadata": {},
   "outputs": [],
   "source": [
    "suma_items([1,2,3], [2,4,2])"
   ]
  },
  {
   "cell_type": "markdown",
   "metadata": {},
   "source": [
    "**Ejercicio:**\n",
    "\n",
    "Se desea contabilizar el número de coincidencias de caracteres en la misma posición dadas dos cadenas de la misma longitud.\n",
    "\n",
    "**Entrada:** ```'caras, 'camas'```\n",
    "\n",
    "**Salida:** ```4```"
   ]
  },
  {
   "cell_type": "code",
   "execution_count": null,
   "metadata": {},
   "outputs": [],
   "source": [
    "# funcion cuenta_coincidencias\n",
    "def cuenta_coincidencias(s1,s2):\n",
    "    ''' (str, str) -> int\n",
    "    \n",
    "    Devuelve el numero de ocurrencias en s1 que\n",
    "    contienen el mismo caracter en la posición \n",
    "    correspondiente en la cadena s2.\n",
    "    \n",
    "    Precondicion: len(s1) == len(s2)\n",
    "    \n",
    "    >>> cuenta_coincidencias('hola', 'hilo')\n",
    "    2\n",
    "    >>> cuenta_coincidencias('caras', 'camas')\n",
    "    4\n",
    "    '''\n",
    "    \n",
    "    num_matches = 0\n",
    "    \n",
    "    for i in range(len(s1)):\n",
    "        if s1[i] == s2[i]:\n",
    "            num_matches = num_matches + 1\n",
    "    \n",
    "    return num_matches"
   ]
  },
  {
   "cell_type": "code",
   "execution_count": null,
   "metadata": {},
   "outputs": [],
   "source": [
    "cuenta_coincidencias('hola', 'hilo')"
   ]
  },
  {
   "cell_type": "code",
   "execution_count": null,
   "metadata": {},
   "outputs": [],
   "source": [
    "cuenta_coincidencias('caras', 'camas')"
   ]
  },
  {
   "cell_type": "markdown",
   "metadata": {},
   "source": [
    "## Listas anidadas"
   ]
  },
  {
   "cell_type": "markdown",
   "metadata": {},
   "source": [
    "Una lista puede contener otras listas de la misma o diferente longitud ```list[list1, list2, ... , listn]```"
   ]
  },
  {
   "cell_type": "code",
   "execution_count": null,
   "metadata": {},
   "outputs": [],
   "source": [
    "# parciales\n",
    "parciales = [['parcial1', 80],['parcial2', 90],['parcial3', 70]]"
   ]
  },
  {
   "cell_type": "code",
   "execution_count": null,
   "metadata": {
    "scrolled": true
   },
   "outputs": [],
   "source": [
    "# len\n",
    "len(parciales)"
   ]
  },
  {
   "cell_type": "code",
   "execution_count": null,
   "metadata": {},
   "outputs": [],
   "source": [
    "# index 0\n",
    "parciales[0]"
   ]
  },
  {
   "cell_type": "code",
   "execution_count": null,
   "metadata": {},
   "outputs": [],
   "source": [
    "# index 2\n",
    "parciales[2]"
   ]
  },
  {
   "cell_type": "code",
   "execution_count": null,
   "metadata": {},
   "outputs": [],
   "source": [
    "# len list1\n",
    "len(parciales[1])"
   ]
  },
  {
   "cell_type": "code",
   "execution_count": null,
   "metadata": {},
   "outputs": [],
   "source": [
    "# iter parciales\n",
    "for parcial in parciales:\n",
    "    print(parcial)"
   ]
  },
  {
   "cell_type": "code",
   "execution_count": null,
   "metadata": {},
   "outputs": [],
   "source": [
    "# list index index\n",
    "parciales[0][0]"
   ]
  },
  {
   "cell_type": "code",
   "execution_count": null,
   "metadata": {},
   "outputs": [],
   "source": [
    "parciales[0][1]"
   ]
  },
  {
   "cell_type": "code",
   "execution_count": null,
   "metadata": {},
   "outputs": [],
   "source": [
    "parciales[2][1]"
   ]
  },
  {
   "cell_type": "markdown",
   "metadata": {},
   "source": [
    "**Ejercicio:**\n",
    "\n",
    "Se desea calcular el promedio de calificacines. Las notas registradas son listas que contienen una cadena que describe la calificación y un número que es el valor de la calificación.\n",
    "\n",
    "**Entrada:** ```['A1', 80],['A2', 90],['A3', 75],['A4', 100]```\n",
    "\n",
    "**Salida:** ```4```"
   ]
  },
  {
   "cell_type": "code",
   "execution_count": null,
   "metadata": {},
   "outputs": [],
   "source": [
    "# calcula promedio\n",
    "def calcula_promedio(notas):\n",
    "    ''' (list of list of (str, number]) -> float\n",
    "    \n",
    "    Devuelve el promedio de las calificaciones en notas\n",
    "       \n",
    "    >>> calcula_promedio([['A1', 80],['A2', 90],['A3', 70],['A4', 100]])\n",
    "    85.0\n",
    "    '''\n",
    "    \n",
    "    total = 0\n",
    "    \n",
    "    for item in notas:\n",
    "        total = total + item[1]\n",
    "        \n",
    "    return total / len(notas)"
   ]
  },
  {
   "cell_type": "code",
   "execution_count": null,
   "metadata": {},
   "outputs": [],
   "source": [
    "calcula_promedio([['A1', 80],['A2', 90],['A3', 70],['A4', 100]])"
   ]
  },
  {
   "cell_type": "markdown",
   "metadata": {},
   "source": [
    "## Ciclos anidados"
   ]
  },
  {
   "cell_type": "code",
   "execution_count": null,
   "metadata": {},
   "outputs": [],
   "source": [
    "notas = [[70, 75, 80],[70, 80, 90, 100],[80, 100]]\n",
    "historia = notas[0]\n",
    "historia"
   ]
  },
  {
   "cell_type": "code",
   "execution_count": null,
   "metadata": {},
   "outputs": [],
   "source": [
    "total = 0\n",
    "for nota in historia:\n",
    "    total+= nota\n",
    "print(total)"
   ]
  },
  {
   "cell_type": "code",
   "execution_count": null,
   "metadata": {},
   "outputs": [],
   "source": [
    "# promedios\n",
    "def promedios(notas):\n",
    "    '''(list of list of number) -> list of float\n",
    "    \n",
    "    Regresa una lista nueva en la cual cada item es el promedio\n",
    "    de las calificaciones correspondientes a cada lista de\n",
    "    calificaciones en la lista completa de notas.\n",
    "    \n",
    "    >>> promedios([[70, 75, 80],[70, 80, 90, 100],[80, 100]])\n",
    "    [75.0, 85.0, 90.0]\n",
    "    '''\n",
    "    promedios_list = []\n",
    "    \n",
    "    for notas_list in notas:\n",
    "        # Calcula el promedio de notas_list y lo agreaga\n",
    "        # a la lista promedios_list.\n",
    "        total = 0\n",
    "        for item in notas_list:\n",
    "            total = total + item\n",
    "        \n",
    "        promedios_list.append(total / len(notas_list))\n",
    "                        \n",
    "    return promedios_list"
   ]
  },
  {
   "cell_type": "code",
   "execution_count": null,
   "metadata": {},
   "outputs": [],
   "source": [
    "promedios([[70, 75, 80],[70, 80, 90, 100],[80, 100]])"
   ]
  }
 ],
 "metadata": {
  "kernelspec": {
   "display_name": "Python 3",
   "language": "python",
   "name": "python3"
  },
  "language_info": {
   "codemirror_mode": {
    "name": "ipython",
    "version": 3
   },
   "file_extension": ".py",
   "mimetype": "text/x-python",
   "name": "python",
   "nbconvert_exporter": "python",
   "pygments_lexer": "ipython3",
   "version": "3.6.5"
  }
 },
 "nbformat": 4,
 "nbformat_minor": 1
}

{
 "cells": [
  {
   "cell_type": "markdown",
   "metadata": {},
   "source": [
    "# Introducción a Python"
   ]
  },
  {
   "cell_type": "markdown",
   "metadata": {},
   "source": [
    "## Control de Flujo"
   ]
  },
  {
   "cell_type": "markdown",
   "metadata": {},
   "source": [
    "Una estructura o sentencia de control, es un bloque de código que permite ejecutar instrucciones de manera controlada. En la mayoría de lenguajes se manejan dos estructuras de control:\n",
    "\n",
    "* Estructuras de control condicionales\n",
    "* Estructuras de control iterativas\n"
   ]
  },
  {
   "cell_type": "markdown",
   "metadata": {},
   "source": [
    "### IF-ELSE"
   ]
  },
  {
   "cell_type": "markdown",
   "metadata": {},
   "source": [
    "`if-else` es una estructura de control condicional que tiene la siguiente sintáxis en Python:"
   ]
  },
  {
   "cell_type": "markdown",
   "metadata": {},
   "source": [
    "```python\n",
    "if expression:\n",
    "    statement\n",
    "elif expression:  // 0 o more elif clauses\n",
    "    statement\n",
    "else:\n",
    "    statemet\n",
    "```"
   ]
  },
  {
   "cell_type": "code",
   "execution_count": null,
   "metadata": {},
   "outputs": [],
   "source": [
    "a = 8"
   ]
  },
  {
   "cell_type": "code",
   "execution_count": null,
   "metadata": {},
   "outputs": [],
   "source": [
    "if a < 10:\n",
    "    print ('a es menor a 10')\n",
    "else:\n",
    "    print ('a no es menor a 10')"
   ]
  },
  {
   "cell_type": "code",
   "execution_count": null,
   "metadata": {},
   "outputs": [],
   "source": [
    "a = 10"
   ]
  },
  {
   "cell_type": "code",
   "execution_count": null,
   "metadata": {},
   "outputs": [],
   "source": [
    "# clasic example\n",
    "if a < 10:\n",
    "    print ('a es menor a 10')\n",
    "elif a == 10:\n",
    "    print ('a es igual a 10')\n",
    "else:\n",
    "    print('a es mayor que 10')"
   ]
  },
  {
   "cell_type": "code",
   "execution_count": null,
   "metadata": {},
   "outputs": [],
   "source": [
    "# vuelos reporte_estado\n",
    "def reporte_estado(tiempo_planeado, tiempo_estimado):\n",
    "    '''(numero, numero) -> str\n",
    "    \n",
    "    Devuelve el estado del vuelo: 'on time', 'early',\n",
    "    'delayed' para un vuelo con horario de llegada como\n",
    "    tiempo_planeado, y tiempo de llegada estimada actual\n",
    "    como tiempo_estimado.\n",
    "    \n",
    "    Pre-conditions:\n",
    "    0.0 <= tiempo_planeado < 24 y\n",
    "    0.0 <= tiempo_estimado < 24\n",
    "    \n",
    "    >>> reporte_estado(14.3, 14.3)\n",
    "    'on time'\n",
    "    >>> reporte_estado(12.5, 11.5)\n",
    "    'on time'\n",
    "    >>> reporte_estado(9.0, 9.5)\n",
    "    'on time'\n",
    "    \n",
    "    '''\n",
    "       \n",
    "    if tiempo_planeado == tiempo_estimado:\n",
    "        return 'on time'\n",
    "    elif tiempo_planeado > tiempo_estimado:\n",
    "        return 'early'\n",
    "    else:\n",
    "        return 'delayed'"
   ]
  },
  {
   "cell_type": "code",
   "execution_count": null,
   "metadata": {},
   "outputs": [],
   "source": [
    "reporte_estado(14.3, 14.3)"
   ]
  },
  {
   "cell_type": "code",
   "execution_count": null,
   "metadata": {},
   "outputs": [],
   "source": [
    "reporte_estado(12.5, 11.5)"
   ]
  },
  {
   "cell_type": "code",
   "execution_count": null,
   "metadata": {},
   "outputs": [],
   "source": [
    "reporte_estado(9.0, 9.5)"
   ]
  },
  {
   "cell_type": "markdown",
   "metadata": {},
   "source": [
    "Ciertas soluciones a problemas que implican evaluar expresiones booleanas evitan el uso de `if-else`.\n"
   ]
  },
  {
   "cell_type": "code",
   "execution_count": null,
   "metadata": {},
   "outputs": [],
   "source": [
    "# evaluar par\n",
    "num = 10"
   ]
  },
  {
   "cell_type": "code",
   "execution_count": null,
   "metadata": {},
   "outputs": [],
   "source": [
    "if num % 2 == 0:\n",
    "    print(True)\n",
    "else:\n",
    "    print(False)"
   ]
  },
  {
   "cell_type": "code",
   "execution_count": null,
   "metadata": {},
   "outputs": [],
   "source": [
    "def es_par(num):\n",
    "    '''(int) -> bool\n",
    "    \n",
    "    Devuelve si num es par.\n",
    "    \n",
    "    >>> es_par(4)\n",
    "    True\n",
    "    >>> es_par(77)\n",
    "    False\n",
    "    '''\n",
    "    \n",
    "    return num % 2 == 0"
   ]
  },
  {
   "cell_type": "code",
   "execution_count": null,
   "metadata": {},
   "outputs": [],
   "source": [
    "es_par(10)"
   ]
  },
  {
   "cell_type": "markdown",
   "metadata": {},
   "source": [
    "## Ciclo While"
   ]
  },
  {
   "cell_type": "markdown",
   "metadata": {},
   "source": [
    "La sentencia `while` repite un conjunto de instrucciones mientras que cierta condición sea verdadera.\n",
    "while tiene la sintaxis siguiente:\n",
    "\n",
    "```python\n",
    "while expression:\n",
    "    statements\n",
    "```\n",
    "\n",
    "`while` es una sentencia de control repetitiva"
   ]
  },
  {
   "cell_type": "code",
   "execution_count": null,
   "metadata": {},
   "outputs": [],
   "source": [
    "# while num 2\n",
    "num = 2\n",
    "while num < 100:\n",
    "    num = num * 2\n",
    "    print(num)"
   ]
  },
  {
   "cell_type": "code",
   "execution_count": null,
   "metadata": {},
   "outputs": [],
   "source": [
    "# while num 10\n",
    "num = 10\n",
    "while num < 100:\n",
    "    num = num * 2\n",
    "    print(num)"
   ]
  },
  {
   "cell_type": "code",
   "execution_count": null,
   "metadata": {},
   "outputs": [],
   "source": [
    "s = 'Hola'\n",
    "i = 0\n",
    "while not(s[i] in 'aeiouAEIOU'):\n",
    "    print(s[i])\n",
    "    i = i + 1"
   ]
  },
  {
   "cell_type": "code",
   "execution_count": null,
   "metadata": {},
   "outputs": [],
   "source": [
    "# out of index\n",
    "s = 'xyz'\n",
    "i = 0\n",
    "while not(s[i] in 'aeiouAEIOU'):\n",
    "    print(s[i])\n",
    "    i = i + 1"
   ]
  },
  {
   "cell_type": "markdown",
   "metadata": {},
   "source": [
    "Si se hace referencia a un indice fuera del tamaño de la cadena python envía un error `IndexError`."
   ]
  },
  {
   "cell_type": "code",
   "execution_count": null,
   "metadata": {},
   "outputs": [],
   "source": [
    "i = 0\n",
    "s = 'xyz'\n",
    "while i < len(s) and not (s[i] in 'aeiouAEIOU'):\n",
    "    print (s[i])\n",
    "    i = i+1"
   ]
  },
  {
   "cell_type": "code",
   "execution_count": null,
   "metadata": {},
   "outputs": [],
   "source": [
    "def up_to_vowel(s):\n",
    "    ''' (str) -> str\n",
    "    \n",
    "    Regresa una subcadena de s desde el indice 0\n",
    "    hasta la primera vocal en s sin incluirla.\n",
    "    \n",
    "    >>> up_to_vowel('hello')\n",
    "    'h'\n",
    "    >>> up_to_vowel('there')\n",
    "    'th'\n",
    "    >>> up_to_vowel('cs')\n",
    "    'cs'\n",
    "    '''\n",
    "    \n",
    "    # before_vowel contiene todos los caracteres\n",
    "    # encontrados antes de la primera vocal\n",
    "  \n",
    "    before_vowel = ''\n",
    "    i = 0\n",
    "    \n",
    "    # Acumula los caracteres no vocales desde el incio de la cadena\n",
    "    while i < len(s) and not(s[i] in 'aeiouAEIOU'):\n",
    "        before_vowel = before_vowel + s[i]\n",
    "        i = i + 1\n",
    "    \n",
    "    return before_vowel"
   ]
  },
  {
   "cell_type": "code",
   "execution_count": null,
   "metadata": {},
   "outputs": [],
   "source": [
    "up_to_vowel('Hello')"
   ]
  },
  {
   "cell_type": "code",
   "execution_count": null,
   "metadata": {},
   "outputs": [],
   "source": [
    "up_to_vowel('there')"
   ]
  },
  {
   "cell_type": "code",
   "execution_count": null,
   "metadata": {},
   "outputs": [],
   "source": [
    "up_to_vowel('cs')"
   ]
  },
  {
   "cell_type": "code",
   "execution_count": null,
   "metadata": {},
   "outputs": [],
   "source": [
    "def get_answer(prompt):\n",
    "    ''' (str) -> str\n",
    "    \n",
    "    Usa la entrada de datos para solicitar\n",
    "    al usuario la respuesta \"yes\" o \"no\" y\n",
    "    continuar hasta obtener una respuesta\n",
    "    válida. Regresa la respuesta.\n",
    "    \n",
    "    '''\n",
    "    answer = input (prompt)\n",
    "    while not (answer == 'yes' or answer == 'no'):\n",
    "        answer = input(prompt)\n",
    "        \n",
    "    return answer"
   ]
  },
  {
   "cell_type": "code",
   "execution_count": null,
   "metadata": {},
   "outputs": [],
   "source": [
    "get_answer(\"¿Estás cansado? Responde 'yes' o 'no'...\")"
   ]
  },
  {
   "cell_type": "markdown",
   "metadata": {},
   "source": [
    "## Ciclo For"
   ]
  },
  {
   "cell_type": "markdown",
   "metadata": {},
   "source": [
    "La sentencia `for` repite un conjunto de instrucciones o sentencias tantas veces como itere sobre los elementos de un conjunto.\n",
    "\n",
    "Un ciclo `for` puede iterar sobre una caden:\n",
    "\n",
    "``` python\n",
    "for variable in cadena:\n",
    "    body\n",
    "```"
   ]
  },
  {
   "cell_type": "code",
   "execution_count": null,
   "metadata": {},
   "outputs": [],
   "source": [
    "cadena = \"Python programming\""
   ]
  },
  {
   "cell_type": "code",
   "execution_count": null,
   "metadata": {},
   "outputs": [],
   "source": [
    "for val in cadena:\n",
    "    print(val)"
   ]
  },
  {
   "cell_type": "code",
   "execution_count": null,
   "metadata": {},
   "outputs": [],
   "source": [
    "def count_vowels(s):\n",
    "    ''' (str) -> int\n",
    "    \n",
    "    Regresa el número de vocales en S.\n",
    "    \n",
    "    >>> count_vowels('Happy Anniversary!')\n",
    "    5\n",
    "    >>> count_vowels('xyz')\n",
    "    0\n",
    "    '''\n",
    "    \n",
    "    num_vowels = 0\n",
    "    for char in s:\n",
    "        if char in 'aeiouAEIOU':\n",
    "            num_vowels = num_vowels + 1\n",
    "    \n",
    "    return num_vowels"
   ]
  },
  {
   "cell_type": "code",
   "execution_count": null,
   "metadata": {},
   "outputs": [],
   "source": [
    "count_vowels('Happy Anniversary!')"
   ]
  },
  {
   "cell_type": "code",
   "execution_count": null,
   "metadata": {},
   "outputs": [],
   "source": [
    "count_vowels('xyz')"
   ]
  },
  {
   "cell_type": "code",
   "execution_count": null,
   "metadata": {},
   "outputs": [],
   "source": [
    "def colect_vowels(s):\n",
    "    ''' (str) -> str\n",
    "    \n",
    "    Regresa las vocales dentro de s.\n",
    "    \n",
    "    >>> count_vowels('Happy Anniversary!')\n",
    "    aAiea\n",
    "    >>> count_vowels('xyz')\n",
    "    0\n",
    "    '''\n",
    "    vowels = ''\n",
    "    for char in s:\n",
    "        if char in 'aeiouAEIOU':\n",
    "            vowels = vowels + char\n",
    "    \n",
    "    return vowels"
   ]
  },
  {
   "cell_type": "code",
   "execution_count": null,
   "metadata": {},
   "outputs": [],
   "source": [
    "colect_vowels('Happy Anniversary!')"
   ]
  },
  {
   "cell_type": "code",
   "execution_count": null,
   "metadata": {},
   "outputs": [],
   "source": [
    "colect_vowels('xyz')"
   ]
  },
  {
   "cell_type": "code",
   "execution_count": null,
   "metadata": {},
   "outputs": [],
   "source": [
    "colores = ['rojo', 'azul', 'amarillo', 'negro', 'verde']"
   ]
  },
  {
   "cell_type": "code",
   "execution_count": null,
   "metadata": {},
   "outputs": [],
   "source": [
    "for color in colores:\n",
    "    print (color)"
   ]
  }
 ],
 "metadata": {
  "kernelspec": {
   "display_name": "Python 3",
   "language": "python",
   "name": "python3"
  },
  "language_info": {
   "codemirror_mode": {
    "name": "ipython",
    "version": 3
   },
   "file_extension": ".py",
   "mimetype": "text/x-python",
   "name": "python",
   "nbconvert_exporter": "python",
   "pygments_lexer": "ipython3",
   "version": "3.6.5"
  }
 },
 "nbformat": 4,
 "nbformat_minor": 2
}

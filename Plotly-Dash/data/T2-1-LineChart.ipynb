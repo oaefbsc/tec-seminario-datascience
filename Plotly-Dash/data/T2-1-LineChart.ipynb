{
 "cells": [
  {
   "cell_type": "markdown",
   "metadata": {},
   "source": [
    "# Plotly"
   ]
  },
  {
   "cell_type": "markdown",
   "metadata": {},
   "source": [
    "Para ejecutar **Plotly** y **Dash** primero es necesario instalar los paquetes `plotly` y `dash` así como sus dependencias. En la carpeta del curso se encuentra el archivo `requirements.txt` que contiene los módulos a instalar. La instalación de estos puede hacerse mediante `pip` o `conda`. En la carpeta donde se encuentra el archivo de requirimientos escribir el comando: `pip install -r requirements.txt`.\n",
    "\n",
    "Con los paquetes y dependencias instalados podemos comenzar a trabajar con Plotly."
   ]
  },
  {
   "cell_type": "markdown",
   "metadata": {},
   "source": [
    "En las recursos del curso de Udemy se ofrece un documento de referencia de todos los ejemplos y ejercicios realizados, no obstante para tener una referencia completa de Plotly se recomienda revisar la sección **Full Reference** en el sitio web de Plotly."
   ]
  },
  {
   "cell_type": "markdown",
   "metadata": {},
   "source": [
    "## Introducción\n",
    "Plotly es una librería que permite hacer gráficos interactivos de excelente calidad. Plotly tiene una interface de programación de aplicaciónes (API) para Python, estudiaremos a continuacion los elementos que contiene esta API. "
   ]
  },
  {
   "cell_type": "code",
   "execution_count": 2,
   "metadata": {},
   "outputs": [
    {
     "data": {
      "text/html": [
       "\n",
       "        <iframe\n",
       "            width=\"100%\"\n",
       "            height=\"350\"\n",
       "            src=\"https://plot.ly/python/\"\n",
       "            frameborder=\"0\"\n",
       "            allowfullscreen\n",
       "        ></iframe>\n",
       "        "
      ],
      "text/plain": [
       "<IPython.lib.display.IFrame at 0x7fdaa804c128>"
      ]
     },
     "execution_count": 2,
     "metadata": {},
     "output_type": "execute_result"
    }
   ],
   "source": [
    "from IPython.display import IFrame\n",
    "IFrame('https://plot.ly/python/', width='100%', height=350)"
   ]
  },
  {
   "cell_type": "markdown",
   "metadata": {},
   "source": [
    "Iniciemos la introduccion a **Plotly** con un ejemplo básico. "
   ]
  },
  {
   "cell_type": "code",
   "execution_count": 2,
   "metadata": {},
   "outputs": [],
   "source": [
    "import numpy as np\n",
    "import scipy as sp\n",
    "import pandas as pd\n",
    "\n",
    "import plotly.offline as pyo\n",
    "import plotly.graph_objs as go"
   ]
  },
  {
   "cell_type": "code",
   "execution_count": 4,
   "metadata": {},
   "outputs": [],
   "source": [
    "np.random.seed(42)"
   ]
  },
  {
   "cell_type": "code",
   "execution_count": 5,
   "metadata": {},
   "outputs": [],
   "source": [
    "random_x = np.random.randint(1, 101,100)\n",
    "random_y = np.random.randint(1, 101,100)"
   ]
  },
  {
   "cell_type": "code",
   "execution_count": 6,
   "metadata": {},
   "outputs": [],
   "source": [
    "data = [go.Scatter(x = random_x, y = random_y, mode = 'markers')]"
   ]
  },
  {
   "cell_type": "code",
   "execution_count": 7,
   "metadata": {},
   "outputs": [
    {
     "data": {
      "text/plain": [
       "'file:///home/oscar/Escritorio/Plotly-Dash/data/scatter-temp-plot.html'"
      ]
     },
     "execution_count": 7,
     "metadata": {},
     "output_type": "execute_result"
    }
   ],
   "source": [
    "pyo.plot(data, filename = 'scatter-temp-plot.html')"
   ]
  },
  {
   "cell_type": "markdown",
   "metadata": {},
   "source": [
    "Por ahora no se insertarán los gráficos directamente en el notebook pues se requieren recursos directamente de la API de Plotly lo cual requiere una cuenta de usuario (gratuita). Los gráficos se generarán en archivos con extensión `.html` y podrán ser visualizados en una pestaña adicional del navegador."
   ]
  },
  {
   "cell_type": "markdown",
   "metadata": {},
   "source": [
    "Para modelar o estilizar un gráfico, es necesario definir características a cada elemento del gráfico. La API de Plotly ofrece un variado número de características y opciones para modificar el estilo del gráfico. La mayoría de las características se especifican por medio de diccionarios. El método `Layout()` contendrá todos los elementos a estilizar y sus características."
   ]
  },
  {
   "cell_type": "code",
   "execution_count": 8,
   "metadata": {},
   "outputs": [],
   "source": [
    "mydata =[go.Scatter(x = random_x, y = random_y,\n",
    "                  mode = 'markers',\n",
    "                  marker = dict(\n",
    "                      size = 8,\n",
    "                      color = 'rgb(118, 212, 220)',\n",
    "                      symbol = 'square',\n",
    "                      line = {'width': 1}\n",
    "                    )\n",
    "            )\n",
    "    ] "
   ]
  },
  {
   "cell_type": "code",
   "execution_count": 11,
   "metadata": {},
   "outputs": [],
   "source": [
    "mylayout = go.Layout(title = 'Hello FIrst Plot',\n",
    "                     xaxis = {'title': 'My X axis'},\n",
    "                     yaxis = dict(title = 'My Y axis'), # alternativa a {k:v} en los diccionarios\n",
    "                     hovermode = 'closest')"
   ]
  },
  {
   "cell_type": "code",
   "execution_count": 12,
   "metadata": {},
   "outputs": [
    {
     "data": {
      "text/plain": [
       "'file:///home/oscar/Escritorio/Plotly-Dash/data/scatter-temp-plot.html'"
      ]
     },
     "execution_count": 12,
     "metadata": {},
     "output_type": "execute_result"
    }
   ],
   "source": [
    "fig = go.Figure(data = mydata, layout = mylayout) # alternativamente fig = dic(data=, layout=)\n",
    "pyo.plot(fig, filename = 'scatter-temp-plot.html')"
   ]
  },
  {
   "cell_type": "markdown",
   "metadata": {},
   "source": [
    "Revisar https://htmlcolorcodes.com/es/ para obtener códigos de colores RGB "
   ]
  },
  {
   "cell_type": "markdown",
   "metadata": {},
   "source": [
    "## Line Chart"
   ]
  },
  {
   "cell_type": "code",
   "execution_count": 13,
   "metadata": {},
   "outputs": [],
   "source": [
    "np.random.seed(56)"
   ]
  },
  {
   "cell_type": "code",
   "execution_count": 14,
   "metadata": {},
   "outputs": [],
   "source": [
    "x_values = np.linspace(0,1,100)\n",
    "y_values = np.random.randn(100)"
   ]
  },
  {
   "cell_type": "code",
   "execution_count": 15,
   "metadata": {},
   "outputs": [
    {
     "data": {
      "text/plain": [
       "'file:///home/oscar/Escritorio/Plotly-Dash/data/temp-plot.html'"
      ]
     },
     "execution_count": 15,
     "metadata": {},
     "output_type": "execute_result"
    }
   ],
   "source": [
    "# en la documentación se sigue la convención de usar trace para\n",
    "# colocar las caracteristicas del objeto a graficar\n",
    "trace = go.Scatter(\n",
    "            x = x_values,\n",
    "            y = y_values + 5,\n",
    "            mode = 'markers',\n",
    "            name = 'mymarkers'\n",
    "        )\n",
    "\n",
    "data = [trace]\n",
    "\n",
    "layout = go.Layout(\n",
    "            title = 'Line Charts'\n",
    "    )\n",
    "\n",
    "fig = go.Figure(data = data, layout = layout)\n",
    "\n",
    "pyo.plot(fig)"
   ]
  },
  {
   "cell_type": "markdown",
   "metadata": {},
   "source": [
    "Elaboremos varios gráficos en un solo lienzo (varios plots en un solo figure) definiendo nuevos objetos `trace` y agregándolos a `data`."
   ]
  },
  {
   "cell_type": "code",
   "execution_count": 13,
   "metadata": {},
   "outputs": [
    {
     "data": {
      "text/plain": [
       "'file:///home/oscar/Escritorio/Plotly-Dash/data/temp-plot.html'"
      ]
     },
     "execution_count": 13,
     "metadata": {},
     "output_type": "execute_result"
    }
   ],
   "source": [
    "trace0 = go.Scatter(\n",
    "            x = x_values,\n",
    "            y = y_values + 5,\n",
    "            mode = 'markers',\n",
    "            name = 'mymarkers'\n",
    "        )\n",
    "\n",
    "trace1 = go.Scatter(\n",
    "            x = x_values,\n",
    "            y = y_values,\n",
    "            mode = 'lines',\n",
    "            name = 'mylines'\n",
    "        )\n",
    "\n",
    "trace2 = go.Scatter(\n",
    "            x = x_values,\n",
    "            y = y_values-5,\n",
    "            mode = 'lines+markers',\n",
    "            name = 'mylinesmarkers'\n",
    "        )\n",
    "\n",
    "data = [trace0, trace1, trace2]\n",
    "\n",
    "layout = go.Layout(\n",
    "            title = 'Line Charts'\n",
    "    )\n",
    "\n",
    "fig = go.Figure(data = data, layout = layout)\n",
    "\n",
    "pyo.plot(fig)"
   ]
  },
  {
   "cell_type": "markdown",
   "metadata": {},
   "source": [
    "### Line Chart con datos reales\n",
    "Utilicemos datos de la estimación anual de la población en EUA auxiliándonos de Pandas"
   ]
  },
  {
   "cell_type": "code",
   "execution_count": 4,
   "metadata": {},
   "outputs": [],
   "source": [
    "#mainpath = \"/home/oscar/Escritorio/Plotly-Dash/data/\"\n",
    "#filename = \"nst-est2017-alldata.csv\"\n",
    "#fullpath = mainpath + filename\n",
    "filename = 'nst-est2017-alldata.csv'\n",
    "\n",
    "dataframe1 = pd.read_csv(filename)"
   ]
  },
  {
   "cell_type": "code",
   "execution_count": 5,
   "metadata": {},
   "outputs": [
    {
     "data": {
      "text/html": [
       "<div>\n",
       "<style scoped>\n",
       "    .dataframe tbody tr th:only-of-type {\n",
       "        vertical-align: middle;\n",
       "    }\n",
       "\n",
       "    .dataframe tbody tr th {\n",
       "        vertical-align: top;\n",
       "    }\n",
       "\n",
       "    .dataframe thead th {\n",
       "        text-align: right;\n",
       "    }\n",
       "</style>\n",
       "<table border=\"1\" class=\"dataframe\">\n",
       "  <thead>\n",
       "    <tr style=\"text-align: right;\">\n",
       "      <th></th>\n",
       "      <th>SUMLEV</th>\n",
       "      <th>REGION</th>\n",
       "      <th>DIVISION</th>\n",
       "      <th>STATE</th>\n",
       "      <th>NAME</th>\n",
       "      <th>CENSUS2010POP</th>\n",
       "      <th>ESTIMATESBASE2010</th>\n",
       "      <th>POPESTIMATE2010</th>\n",
       "      <th>POPESTIMATE2011</th>\n",
       "      <th>POPESTIMATE2012</th>\n",
       "      <th>...</th>\n",
       "      <th>RDOMESTICMIG2015</th>\n",
       "      <th>RDOMESTICMIG2016</th>\n",
       "      <th>RDOMESTICMIG2017</th>\n",
       "      <th>RNETMIG2011</th>\n",
       "      <th>RNETMIG2012</th>\n",
       "      <th>RNETMIG2013</th>\n",
       "      <th>RNETMIG2014</th>\n",
       "      <th>RNETMIG2015</th>\n",
       "      <th>RNETMIG2016</th>\n",
       "      <th>RNETMIG2017</th>\n",
       "    </tr>\n",
       "  </thead>\n",
       "  <tbody>\n",
       "    <tr>\n",
       "      <th>0</th>\n",
       "      <td>10.0</td>\n",
       "      <td>0</td>\n",
       "      <td>0</td>\n",
       "      <td>0.0</td>\n",
       "      <td>United States</td>\n",
       "      <td>308745538.0</td>\n",
       "      <td>308758105.0</td>\n",
       "      <td>309338421.0</td>\n",
       "      <td>311644280.0</td>\n",
       "      <td>313993272.0</td>\n",
       "      <td>...</td>\n",
       "      <td>0.000000</td>\n",
       "      <td>0.000000</td>\n",
       "      <td>0.000000</td>\n",
       "      <td>2.720900</td>\n",
       "      <td>2.920371</td>\n",
       "      <td>2.883643</td>\n",
       "      <td>3.173228</td>\n",
       "      <td>3.516743</td>\n",
       "      <td>3.513394</td>\n",
       "      <td>3.423941</td>\n",
       "    </tr>\n",
       "    <tr>\n",
       "      <th>1</th>\n",
       "      <td>20.0</td>\n",
       "      <td>1</td>\n",
       "      <td>0</td>\n",
       "      <td>0.0</td>\n",
       "      <td>Northeast Region</td>\n",
       "      <td>55317240.0</td>\n",
       "      <td>55318350.0</td>\n",
       "      <td>55388349.0</td>\n",
       "      <td>55642659.0</td>\n",
       "      <td>55860261.0</td>\n",
       "      <td>...</td>\n",
       "      <td>-6.103092</td>\n",
       "      <td>-6.619089</td>\n",
       "      <td>-5.559570</td>\n",
       "      <td>1.467950</td>\n",
       "      <td>0.779137</td>\n",
       "      <td>0.605873</td>\n",
       "      <td>-0.082832</td>\n",
       "      <td>-0.903931</td>\n",
       "      <td>-1.307503</td>\n",
       "      <td>-0.288930</td>\n",
       "    </tr>\n",
       "    <tr>\n",
       "      <th>2</th>\n",
       "      <td>20.0</td>\n",
       "      <td>2</td>\n",
       "      <td>0</td>\n",
       "      <td>0.0</td>\n",
       "      <td>Midwest Region</td>\n",
       "      <td>66927001.0</td>\n",
       "      <td>66929794.0</td>\n",
       "      <td>66973360.0</td>\n",
       "      <td>67141501.0</td>\n",
       "      <td>67318295.0</td>\n",
       "      <td>...</td>\n",
       "      <td>-3.458531</td>\n",
       "      <td>-3.307295</td>\n",
       "      <td>-2.304640</td>\n",
       "      <td>-1.187519</td>\n",
       "      <td>-1.010696</td>\n",
       "      <td>-0.120354</td>\n",
       "      <td>-0.752477</td>\n",
       "      <td>-1.323952</td>\n",
       "      <td>-1.160735</td>\n",
       "      <td>-0.191323</td>\n",
       "    </tr>\n",
       "    <tr>\n",
       "      <th>3</th>\n",
       "      <td>20.0</td>\n",
       "      <td>3</td>\n",
       "      <td>0</td>\n",
       "      <td>0.0</td>\n",
       "      <td>South Region</td>\n",
       "      <td>114555744.0</td>\n",
       "      <td>114563024.0</td>\n",
       "      <td>114869241.0</td>\n",
       "      <td>116060993.0</td>\n",
       "      <td>117291728.0</td>\n",
       "      <td>...</td>\n",
       "      <td>3.788037</td>\n",
       "      <td>3.592695</td>\n",
       "      <td>2.900528</td>\n",
       "      <td>5.544289</td>\n",
       "      <td>5.831747</td>\n",
       "      <td>5.362083</td>\n",
       "      <td>6.317310</td>\n",
       "      <td>7.336162</td>\n",
       "      <td>7.113818</td>\n",
       "      <td>6.304010</td>\n",
       "    </tr>\n",
       "    <tr>\n",
       "      <th>4</th>\n",
       "      <td>20.0</td>\n",
       "      <td>4</td>\n",
       "      <td>0</td>\n",
       "      <td>0.0</td>\n",
       "      <td>West Region</td>\n",
       "      <td>71945553.0</td>\n",
       "      <td>71946937.0</td>\n",
       "      <td>72107471.0</td>\n",
       "      <td>72799127.0</td>\n",
       "      <td>73522988.0</td>\n",
       "      <td>...</td>\n",
       "      <td>1.613450</td>\n",
       "      <td>2.099001</td>\n",
       "      <td>1.475519</td>\n",
       "      <td>2.798796</td>\n",
       "      <td>3.521423</td>\n",
       "      <td>3.396627</td>\n",
       "      <td>4.163576</td>\n",
       "      <td>5.067452</td>\n",
       "      <td>5.488965</td>\n",
       "      <td>4.737979</td>\n",
       "    </tr>\n",
       "  </tbody>\n",
       "</table>\n",
       "<p>5 rows × 121 columns</p>\n",
       "</div>"
      ],
      "text/plain": [
       "   SUMLEV REGION DIVISION  STATE              NAME  CENSUS2010POP  \\\n",
       "0    10.0      0        0    0.0     United States    308745538.0   \n",
       "1    20.0      1        0    0.0  Northeast Region     55317240.0   \n",
       "2    20.0      2        0    0.0    Midwest Region     66927001.0   \n",
       "3    20.0      3        0    0.0      South Region    114555744.0   \n",
       "4    20.0      4        0    0.0       West Region     71945553.0   \n",
       "\n",
       "   ESTIMATESBASE2010  POPESTIMATE2010  POPESTIMATE2011  POPESTIMATE2012  \\\n",
       "0        308758105.0      309338421.0      311644280.0      313993272.0   \n",
       "1         55318350.0       55388349.0       55642659.0       55860261.0   \n",
       "2         66929794.0       66973360.0       67141501.0       67318295.0   \n",
       "3        114563024.0      114869241.0      116060993.0      117291728.0   \n",
       "4         71946937.0       72107471.0       72799127.0       73522988.0   \n",
       "\n",
       "      ...       RDOMESTICMIG2015  RDOMESTICMIG2016  RDOMESTICMIG2017  \\\n",
       "0     ...               0.000000          0.000000          0.000000   \n",
       "1     ...              -6.103092         -6.619089         -5.559570   \n",
       "2     ...              -3.458531         -3.307295         -2.304640   \n",
       "3     ...               3.788037          3.592695          2.900528   \n",
       "4     ...               1.613450          2.099001          1.475519   \n",
       "\n",
       "   RNETMIG2011  RNETMIG2012  RNETMIG2013  RNETMIG2014  RNETMIG2015  \\\n",
       "0     2.720900     2.920371     2.883643     3.173228     3.516743   \n",
       "1     1.467950     0.779137     0.605873    -0.082832    -0.903931   \n",
       "2    -1.187519    -1.010696    -0.120354    -0.752477    -1.323952   \n",
       "3     5.544289     5.831747     5.362083     6.317310     7.336162   \n",
       "4     2.798796     3.521423     3.396627     4.163576     5.067452   \n",
       "\n",
       "   RNETMIG2016  RNETMIG2017  \n",
       "0     3.513394     3.423941  \n",
       "1    -1.307503    -0.288930  \n",
       "2    -1.160735    -0.191323  \n",
       "3     7.113818     6.304010  \n",
       "4     5.488965     4.737979  \n",
       "\n",
       "[5 rows x 121 columns]"
      ]
     },
     "execution_count": 5,
     "metadata": {},
     "output_type": "execute_result"
    }
   ],
   "source": [
    "dataframe1.head()"
   ]
  },
  {
   "cell_type": "code",
   "execution_count": 6,
   "metadata": {
    "scrolled": true
   },
   "outputs": [
    {
     "data": {
      "text/plain": [
       "(59, 121)"
      ]
     },
     "execution_count": 6,
     "metadata": {},
     "output_type": "execute_result"
    }
   ],
   "source": [
    "dataframe1.shape"
   ]
  },
  {
   "cell_type": "code",
   "execution_count": 7,
   "metadata": {},
   "outputs": [
    {
     "data": {
      "text/plain": [
       "Index(['SUMLEV', 'REGION', 'DIVISION', 'STATE', 'NAME', 'CENSUS2010POP',\n",
       "       'ESTIMATESBASE2010', 'POPESTIMATE2010', 'POPESTIMATE2011',\n",
       "       'POPESTIMATE2012',\n",
       "       ...\n",
       "       'RDOMESTICMIG2015', 'RDOMESTICMIG2016', 'RDOMESTICMIG2017',\n",
       "       'RNETMIG2011', 'RNETMIG2012', 'RNETMIG2013', 'RNETMIG2014',\n",
       "       'RNETMIG2015', 'RNETMIG2016', 'RNETMIG2017'],\n",
       "      dtype='object', length=121)"
      ]
     },
     "execution_count": 7,
     "metadata": {},
     "output_type": "execute_result"
    }
   ],
   "source": [
    "dataframe1.columns"
   ]
  },
  {
   "cell_type": "code",
   "execution_count": 8,
   "metadata": {},
   "outputs": [],
   "source": [
    "df_filter = dataframe1['DIVISION'] == '1'"
   ]
  },
  {
   "cell_type": "code",
   "execution_count": 9,
   "metadata": {},
   "outputs": [],
   "source": [
    "dataframe2 = dataframe1[df_filter]"
   ]
  },
  {
   "cell_type": "code",
   "execution_count": 10,
   "metadata": {},
   "outputs": [
    {
     "data": {
      "text/html": [
       "<div>\n",
       "<style scoped>\n",
       "    .dataframe tbody tr th:only-of-type {\n",
       "        vertical-align: middle;\n",
       "    }\n",
       "\n",
       "    .dataframe tbody tr th {\n",
       "        vertical-align: top;\n",
       "    }\n",
       "\n",
       "    .dataframe thead th {\n",
       "        text-align: right;\n",
       "    }\n",
       "</style>\n",
       "<table border=\"1\" class=\"dataframe\">\n",
       "  <thead>\n",
       "    <tr style=\"text-align: right;\">\n",
       "      <th></th>\n",
       "      <th>SUMLEV</th>\n",
       "      <th>REGION</th>\n",
       "      <th>DIVISION</th>\n",
       "      <th>STATE</th>\n",
       "      <th>NAME</th>\n",
       "      <th>CENSUS2010POP</th>\n",
       "      <th>ESTIMATESBASE2010</th>\n",
       "      <th>POPESTIMATE2010</th>\n",
       "      <th>POPESTIMATE2011</th>\n",
       "      <th>POPESTIMATE2012</th>\n",
       "      <th>...</th>\n",
       "      <th>RDOMESTICMIG2015</th>\n",
       "      <th>RDOMESTICMIG2016</th>\n",
       "      <th>RDOMESTICMIG2017</th>\n",
       "      <th>RNETMIG2011</th>\n",
       "      <th>RNETMIG2012</th>\n",
       "      <th>RNETMIG2013</th>\n",
       "      <th>RNETMIG2014</th>\n",
       "      <th>RNETMIG2015</th>\n",
       "      <th>RNETMIG2016</th>\n",
       "      <th>RNETMIG2017</th>\n",
       "    </tr>\n",
       "  </thead>\n",
       "  <tbody>\n",
       "    <tr>\n",
       "      <th>11</th>\n",
       "      <td>40.0</td>\n",
       "      <td>1</td>\n",
       "      <td>1</td>\n",
       "      <td>9.0</td>\n",
       "      <td>Connecticut</td>\n",
       "      <td>3574097.0</td>\n",
       "      <td>3574114.0</td>\n",
       "      <td>3580171.0</td>\n",
       "      <td>3591927.0</td>\n",
       "      <td>3597705.0</td>\n",
       "      <td>...</td>\n",
       "      <td>-8.376089</td>\n",
       "      <td>-8.106331</td>\n",
       "      <td>-6.206914</td>\n",
       "      <td>0.993851</td>\n",
       "      <td>-0.542726</td>\n",
       "      <td>-0.420268</td>\n",
       "      <td>-2.479362</td>\n",
       "      <td>-3.464252</td>\n",
       "      <td>-3.112421</td>\n",
       "      <td>-1.257548</td>\n",
       "    </tr>\n",
       "    <tr>\n",
       "      <th>24</th>\n",
       "      <td>40.0</td>\n",
       "      <td>1</td>\n",
       "      <td>1</td>\n",
       "      <td>23.0</td>\n",
       "      <td>Maine</td>\n",
       "      <td>1328361.0</td>\n",
       "      <td>1328362.0</td>\n",
       "      <td>1327568.0</td>\n",
       "      <td>1327968.0</td>\n",
       "      <td>1328101.0</td>\n",
       "      <td>...</td>\n",
       "      <td>-0.781424</td>\n",
       "      <td>1.807361</td>\n",
       "      <td>4.032798</td>\n",
       "      <td>0.685361</td>\n",
       "      <td>0.178459</td>\n",
       "      <td>0.392308</td>\n",
       "      <td>1.301528</td>\n",
       "      <td>0.389959</td>\n",
       "      <td>3.000731</td>\n",
       "      <td>5.216532</td>\n",
       "    </tr>\n",
       "    <tr>\n",
       "      <th>26</th>\n",
       "      <td>40.0</td>\n",
       "      <td>1</td>\n",
       "      <td>1</td>\n",
       "      <td>25.0</td>\n",
       "      <td>Massachusetts</td>\n",
       "      <td>6547629.0</td>\n",
       "      <td>6547808.0</td>\n",
       "      <td>6564943.0</td>\n",
       "      <td>6612178.0</td>\n",
       "      <td>6659627.0</td>\n",
       "      <td>...</td>\n",
       "      <td>-3.270088</td>\n",
       "      <td>-4.423353</td>\n",
       "      <td>-3.374712</td>\n",
       "      <td>4.364383</td>\n",
       "      <td>4.266338</td>\n",
       "      <td>5.211370</td>\n",
       "      <td>4.538697</td>\n",
       "      <td>3.276287</td>\n",
       "      <td>2.261905</td>\n",
       "      <td>3.246090</td>\n",
       "    </tr>\n",
       "    <tr>\n",
       "      <th>34</th>\n",
       "      <td>40.0</td>\n",
       "      <td>1</td>\n",
       "      <td>1</td>\n",
       "      <td>33.0</td>\n",
       "      <td>New Hampshire</td>\n",
       "      <td>1316470.0</td>\n",
       "      <td>1316460.0</td>\n",
       "      <td>1316700.0</td>\n",
       "      <td>1318345.0</td>\n",
       "      <td>1320923.0</td>\n",
       "      <td>...</td>\n",
       "      <td>-0.850002</td>\n",
       "      <td>1.333509</td>\n",
       "      <td>3.500622</td>\n",
       "      <td>-0.403029</td>\n",
       "      <td>0.632751</td>\n",
       "      <td>0.061281</td>\n",
       "      <td>3.793602</td>\n",
       "      <td>0.852258</td>\n",
       "      <td>3.037729</td>\n",
       "      <td>5.170643</td>\n",
       "    </tr>\n",
       "    <tr>\n",
       "      <th>44</th>\n",
       "      <td>40.0</td>\n",
       "      <td>1</td>\n",
       "      <td>1</td>\n",
       "      <td>44.0</td>\n",
       "      <td>Rhode Island</td>\n",
       "      <td>1052567.0</td>\n",
       "      <td>1052945.0</td>\n",
       "      <td>1053169.0</td>\n",
       "      <td>1052154.0</td>\n",
       "      <td>1052761.0</td>\n",
       "      <td>...</td>\n",
       "      <td>-4.218510</td>\n",
       "      <td>-4.093718</td>\n",
       "      <td>-3.640649</td>\n",
       "      <td>-2.170688</td>\n",
       "      <td>-0.991964</td>\n",
       "      <td>-1.139847</td>\n",
       "      <td>1.029624</td>\n",
       "      <td>0.368598</td>\n",
       "      <td>0.526146</td>\n",
       "      <td>0.891742</td>\n",
       "    </tr>\n",
       "  </tbody>\n",
       "</table>\n",
       "<p>5 rows × 121 columns</p>\n",
       "</div>"
      ],
      "text/plain": [
       "    SUMLEV REGION DIVISION  STATE           NAME  CENSUS2010POP  \\\n",
       "11    40.0      1        1    9.0    Connecticut      3574097.0   \n",
       "24    40.0      1        1   23.0          Maine      1328361.0   \n",
       "26    40.0      1        1   25.0  Massachusetts      6547629.0   \n",
       "34    40.0      1        1   33.0  New Hampshire      1316470.0   \n",
       "44    40.0      1        1   44.0   Rhode Island      1052567.0   \n",
       "\n",
       "    ESTIMATESBASE2010  POPESTIMATE2010  POPESTIMATE2011  POPESTIMATE2012  \\\n",
       "11          3574114.0        3580171.0        3591927.0        3597705.0   \n",
       "24          1328362.0        1327568.0        1327968.0        1328101.0   \n",
       "26          6547808.0        6564943.0        6612178.0        6659627.0   \n",
       "34          1316460.0        1316700.0        1318345.0        1320923.0   \n",
       "44          1052945.0        1053169.0        1052154.0        1052761.0   \n",
       "\n",
       "       ...       RDOMESTICMIG2015  RDOMESTICMIG2016  RDOMESTICMIG2017  \\\n",
       "11     ...              -8.376089         -8.106331         -6.206914   \n",
       "24     ...              -0.781424          1.807361          4.032798   \n",
       "26     ...              -3.270088         -4.423353         -3.374712   \n",
       "34     ...              -0.850002          1.333509          3.500622   \n",
       "44     ...              -4.218510         -4.093718         -3.640649   \n",
       "\n",
       "    RNETMIG2011  RNETMIG2012  RNETMIG2013  RNETMIG2014  RNETMIG2015  \\\n",
       "11     0.993851    -0.542726    -0.420268    -2.479362    -3.464252   \n",
       "24     0.685361     0.178459     0.392308     1.301528     0.389959   \n",
       "26     4.364383     4.266338     5.211370     4.538697     3.276287   \n",
       "34    -0.403029     0.632751     0.061281     3.793602     0.852258   \n",
       "44    -2.170688    -0.991964    -1.139847     1.029624     0.368598   \n",
       "\n",
       "    RNETMIG2016  RNETMIG2017  \n",
       "11    -3.112421    -1.257548  \n",
       "24     3.000731     5.216532  \n",
       "26     2.261905     3.246090  \n",
       "34     3.037729     5.170643  \n",
       "44     0.526146     0.891742  \n",
       "\n",
       "[5 rows x 121 columns]"
      ]
     },
     "execution_count": 10,
     "metadata": {},
     "output_type": "execute_result"
    }
   ],
   "source": [
    "dataframe2.head()"
   ]
  },
  {
   "cell_type": "code",
   "execution_count": 11,
   "metadata": {},
   "outputs": [
    {
     "data": {
      "text/plain": [
       "(6, 121)"
      ]
     },
     "execution_count": 11,
     "metadata": {},
     "output_type": "execute_result"
    }
   ],
   "source": [
    "dataframe2.shape"
   ]
  },
  {
   "cell_type": "code",
   "execution_count": 12,
   "metadata": {},
   "outputs": [
    {
     "data": {
      "text/html": [
       "<div>\n",
       "<style scoped>\n",
       "    .dataframe tbody tr th:only-of-type {\n",
       "        vertical-align: middle;\n",
       "    }\n",
       "\n",
       "    .dataframe tbody tr th {\n",
       "        vertical-align: top;\n",
       "    }\n",
       "\n",
       "    .dataframe thead th {\n",
       "        text-align: right;\n",
       "    }\n",
       "</style>\n",
       "<table border=\"1\" class=\"dataframe\">\n",
       "  <thead>\n",
       "    <tr style=\"text-align: right;\">\n",
       "      <th></th>\n",
       "      <th>SUMLEV</th>\n",
       "      <th>REGION</th>\n",
       "      <th>DIVISION</th>\n",
       "      <th>STATE</th>\n",
       "      <th>CENSUS2010POP</th>\n",
       "      <th>ESTIMATESBASE2010</th>\n",
       "      <th>POPESTIMATE2010</th>\n",
       "      <th>POPESTIMATE2011</th>\n",
       "      <th>POPESTIMATE2012</th>\n",
       "      <th>POPESTIMATE2013</th>\n",
       "      <th>...</th>\n",
       "      <th>RDOMESTICMIG2015</th>\n",
       "      <th>RDOMESTICMIG2016</th>\n",
       "      <th>RDOMESTICMIG2017</th>\n",
       "      <th>RNETMIG2011</th>\n",
       "      <th>RNETMIG2012</th>\n",
       "      <th>RNETMIG2013</th>\n",
       "      <th>RNETMIG2014</th>\n",
       "      <th>RNETMIG2015</th>\n",
       "      <th>RNETMIG2016</th>\n",
       "      <th>RNETMIG2017</th>\n",
       "    </tr>\n",
       "    <tr>\n",
       "      <th>NAME</th>\n",
       "      <th></th>\n",
       "      <th></th>\n",
       "      <th></th>\n",
       "      <th></th>\n",
       "      <th></th>\n",
       "      <th></th>\n",
       "      <th></th>\n",
       "      <th></th>\n",
       "      <th></th>\n",
       "      <th></th>\n",
       "      <th></th>\n",
       "      <th></th>\n",
       "      <th></th>\n",
       "      <th></th>\n",
       "      <th></th>\n",
       "      <th></th>\n",
       "      <th></th>\n",
       "      <th></th>\n",
       "      <th></th>\n",
       "      <th></th>\n",
       "      <th></th>\n",
       "    </tr>\n",
       "  </thead>\n",
       "  <tbody>\n",
       "    <tr>\n",
       "      <th>Connecticut</th>\n",
       "      <td>40.0</td>\n",
       "      <td>1</td>\n",
       "      <td>1</td>\n",
       "      <td>9.0</td>\n",
       "      <td>3574097.0</td>\n",
       "      <td>3574114.0</td>\n",
       "      <td>3580171.0</td>\n",
       "      <td>3591927.0</td>\n",
       "      <td>3597705.0</td>\n",
       "      <td>3602470.0</td>\n",
       "      <td>...</td>\n",
       "      <td>-8.376089</td>\n",
       "      <td>-8.106331</td>\n",
       "      <td>-6.206914</td>\n",
       "      <td>0.993851</td>\n",
       "      <td>-0.542726</td>\n",
       "      <td>-0.420268</td>\n",
       "      <td>-2.479362</td>\n",
       "      <td>-3.464252</td>\n",
       "      <td>-3.112421</td>\n",
       "      <td>-1.257548</td>\n",
       "    </tr>\n",
       "    <tr>\n",
       "      <th>Maine</th>\n",
       "      <td>40.0</td>\n",
       "      <td>1</td>\n",
       "      <td>1</td>\n",
       "      <td>23.0</td>\n",
       "      <td>1328361.0</td>\n",
       "      <td>1328362.0</td>\n",
       "      <td>1327568.0</td>\n",
       "      <td>1327968.0</td>\n",
       "      <td>1328101.0</td>\n",
       "      <td>1327975.0</td>\n",
       "      <td>...</td>\n",
       "      <td>-0.781424</td>\n",
       "      <td>1.807361</td>\n",
       "      <td>4.032798</td>\n",
       "      <td>0.685361</td>\n",
       "      <td>0.178459</td>\n",
       "      <td>0.392308</td>\n",
       "      <td>1.301528</td>\n",
       "      <td>0.389959</td>\n",
       "      <td>3.000731</td>\n",
       "      <td>5.216532</td>\n",
       "    </tr>\n",
       "    <tr>\n",
       "      <th>Massachusetts</th>\n",
       "      <td>40.0</td>\n",
       "      <td>1</td>\n",
       "      <td>1</td>\n",
       "      <td>25.0</td>\n",
       "      <td>6547629.0</td>\n",
       "      <td>6547808.0</td>\n",
       "      <td>6564943.0</td>\n",
       "      <td>6612178.0</td>\n",
       "      <td>6659627.0</td>\n",
       "      <td>6711138.0</td>\n",
       "      <td>...</td>\n",
       "      <td>-3.270088</td>\n",
       "      <td>-4.423353</td>\n",
       "      <td>-3.374712</td>\n",
       "      <td>4.364383</td>\n",
       "      <td>4.266338</td>\n",
       "      <td>5.211370</td>\n",
       "      <td>4.538697</td>\n",
       "      <td>3.276287</td>\n",
       "      <td>2.261905</td>\n",
       "      <td>3.246090</td>\n",
       "    </tr>\n",
       "    <tr>\n",
       "      <th>New Hampshire</th>\n",
       "      <td>40.0</td>\n",
       "      <td>1</td>\n",
       "      <td>1</td>\n",
       "      <td>33.0</td>\n",
       "      <td>1316470.0</td>\n",
       "      <td>1316460.0</td>\n",
       "      <td>1316700.0</td>\n",
       "      <td>1318345.0</td>\n",
       "      <td>1320923.0</td>\n",
       "      <td>1322622.0</td>\n",
       "      <td>...</td>\n",
       "      <td>-0.850002</td>\n",
       "      <td>1.333509</td>\n",
       "      <td>3.500622</td>\n",
       "      <td>-0.403029</td>\n",
       "      <td>0.632751</td>\n",
       "      <td>0.061281</td>\n",
       "      <td>3.793602</td>\n",
       "      <td>0.852258</td>\n",
       "      <td>3.037729</td>\n",
       "      <td>5.170643</td>\n",
       "    </tr>\n",
       "    <tr>\n",
       "      <th>Rhode Island</th>\n",
       "      <td>40.0</td>\n",
       "      <td>1</td>\n",
       "      <td>1</td>\n",
       "      <td>44.0</td>\n",
       "      <td>1052567.0</td>\n",
       "      <td>1052945.0</td>\n",
       "      <td>1053169.0</td>\n",
       "      <td>1052154.0</td>\n",
       "      <td>1052761.0</td>\n",
       "      <td>1052784.0</td>\n",
       "      <td>...</td>\n",
       "      <td>-4.218510</td>\n",
       "      <td>-4.093718</td>\n",
       "      <td>-3.640649</td>\n",
       "      <td>-2.170688</td>\n",
       "      <td>-0.991964</td>\n",
       "      <td>-1.139847</td>\n",
       "      <td>1.029624</td>\n",
       "      <td>0.368598</td>\n",
       "      <td>0.526146</td>\n",
       "      <td>0.891742</td>\n",
       "    </tr>\n",
       "  </tbody>\n",
       "</table>\n",
       "<p>5 rows × 120 columns</p>\n",
       "</div>"
      ],
      "text/plain": [
       "               SUMLEV REGION DIVISION  STATE  CENSUS2010POP  \\\n",
       "NAME                                                          \n",
       "Connecticut      40.0      1        1    9.0      3574097.0   \n",
       "Maine            40.0      1        1   23.0      1328361.0   \n",
       "Massachusetts    40.0      1        1   25.0      6547629.0   \n",
       "New Hampshire    40.0      1        1   33.0      1316470.0   \n",
       "Rhode Island     40.0      1        1   44.0      1052567.0   \n",
       "\n",
       "               ESTIMATESBASE2010  POPESTIMATE2010  POPESTIMATE2011  \\\n",
       "NAME                                                                 \n",
       "Connecticut            3574114.0        3580171.0        3591927.0   \n",
       "Maine                  1328362.0        1327568.0        1327968.0   \n",
       "Massachusetts          6547808.0        6564943.0        6612178.0   \n",
       "New Hampshire          1316460.0        1316700.0        1318345.0   \n",
       "Rhode Island           1052945.0        1053169.0        1052154.0   \n",
       "\n",
       "               POPESTIMATE2012  POPESTIMATE2013     ...       \\\n",
       "NAME                                                ...        \n",
       "Connecticut          3597705.0        3602470.0     ...        \n",
       "Maine                1328101.0        1327975.0     ...        \n",
       "Massachusetts        6659627.0        6711138.0     ...        \n",
       "New Hampshire        1320923.0        1322622.0     ...        \n",
       "Rhode Island         1052761.0        1052784.0     ...        \n",
       "\n",
       "               RDOMESTICMIG2015  RDOMESTICMIG2016  RDOMESTICMIG2017  \\\n",
       "NAME                                                                  \n",
       "Connecticut           -8.376089         -8.106331         -6.206914   \n",
       "Maine                 -0.781424          1.807361          4.032798   \n",
       "Massachusetts         -3.270088         -4.423353         -3.374712   \n",
       "New Hampshire         -0.850002          1.333509          3.500622   \n",
       "Rhode Island          -4.218510         -4.093718         -3.640649   \n",
       "\n",
       "               RNETMIG2011  RNETMIG2012  RNETMIG2013  RNETMIG2014  \\\n",
       "NAME                                                                \n",
       "Connecticut       0.993851    -0.542726    -0.420268    -2.479362   \n",
       "Maine             0.685361     0.178459     0.392308     1.301528   \n",
       "Massachusetts     4.364383     4.266338     5.211370     4.538697   \n",
       "New Hampshire    -0.403029     0.632751     0.061281     3.793602   \n",
       "Rhode Island     -2.170688    -0.991964    -1.139847     1.029624   \n",
       "\n",
       "               RNETMIG2015  RNETMIG2016  RNETMIG2017  \n",
       "NAME                                                  \n",
       "Connecticut      -3.464252    -3.112421    -1.257548  \n",
       "Maine             0.389959     3.000731     5.216532  \n",
       "Massachusetts     3.276287     2.261905     3.246090  \n",
       "New Hampshire     0.852258     3.037729     5.170643  \n",
       "Rhode Island      0.368598     0.526146     0.891742  \n",
       "\n",
       "[5 rows x 120 columns]"
      ]
     },
     "execution_count": 12,
     "metadata": {},
     "output_type": "execute_result"
    }
   ],
   "source": [
    "dataframe2.set_index('NAME', inplace = True)\n",
    "dataframe2.head()"
   ]
  },
  {
   "cell_type": "code",
   "execution_count": 13,
   "metadata": {},
   "outputs": [],
   "source": [
    "# filtra columnas con una comprehensión de lista\n",
    "list_population_cols = [col for col in dataframe2.columns if col.startswith('POP')]"
   ]
  },
  {
   "cell_type": "code",
   "execution_count": 14,
   "metadata": {},
   "outputs": [],
   "source": [
    "dataframe2 = dataframe2[list_population_cols]"
   ]
  },
  {
   "cell_type": "code",
   "execution_count": 15,
   "metadata": {},
   "outputs": [
    {
     "data": {
      "text/plain": [
       "(6, 8)"
      ]
     },
     "execution_count": 15,
     "metadata": {},
     "output_type": "execute_result"
    }
   ],
   "source": [
    "dataframe2.shape"
   ]
  },
  {
   "cell_type": "code",
   "execution_count": 16,
   "metadata": {},
   "outputs": [
    {
     "data": {
      "text/plain": [
       "POPESTIMATE2010    1327568.0\n",
       "POPESTIMATE2011    1327968.0\n",
       "Name: Maine, dtype: float64"
      ]
     },
     "execution_count": 16,
     "metadata": {},
     "output_type": "execute_result"
    }
   ],
   "source": [
    "# especifica indice de renglón y columnas por etiqueta con df.loc()\n",
    "dataframe2.loc['Maine', ['POPESTIMATE2010', 'POPESTIMATE2011']]"
   ]
  },
  {
   "cell_type": "code",
   "execution_count": 17,
   "metadata": {},
   "outputs": [
    {
     "data": {
      "text/plain": [
       "'file://C:\\\\Users\\\\Examen\\\\Desktop\\\\tec-seminario-datascience-master\\\\Plotly-Dash\\\\data\\\\temp-plot.html'"
      ]
     },
     "execution_count": 17,
     "metadata": {},
     "output_type": "execute_result"
    }
   ],
   "source": [
    "# grafica la población estimada por año para cada estado\n",
    "# itera sobre cada estado en la columna index usando un listcomprehension\n",
    "data = [go.Scatter(\n",
    "            x = dataframe2.columns,\n",
    "            y = dataframe2.loc[state_name],\n",
    "            mode = 'lines',\n",
    "            name = state_name\n",
    "        ) for state_name in dataframe2.index  \n",
    "]\n",
    "\n",
    "pyo.plot(data)"
   ]
  },
  {
   "cell_type": "markdown",
   "metadata": {},
   "source": [
    "### Ejercicio\n",
    "Usando el archivo `2010YumaAZ.csv`, elaborar una LineChart que grafique la temperatura de los 7 días de la semana en una sola gráfica. Utilizar un `for-loop` para asignar a cada día su propia traza. "
   ]
  },
  {
   "cell_type": "code",
   "execution_count": 30,
   "metadata": {},
   "outputs": [],
   "source": [
    "# import here\n",
    "import numpy as np\n",
    "import pandas as pd\n",
    "\n",
    "import plotly.offline as pyo\n",
    "import plotly.graph_objs as go"
   ]
  },
  {
   "cell_type": "code",
   "execution_count": 43,
   "metadata": {},
   "outputs": [],
   "source": [
    "# create a pandas DataFrame from 2010YumaAZ.csv\n",
    "\n",
    "mainpath = \"/home/oscar/Escritorio/Plotly-Dash/data/\"\n",
    "filename = \"2010YumaAZ.csv\"\n",
    "fullpath = mainpath + filename\n",
    "dataframe = pd.read_csv(fullpath)\n",
    "\n",
    "# create a day list \n",
    "\n",
    "days = dataframe['DAY'].unique().tolist()\n"
   ]
  },
  {
   "cell_type": "code",
   "execution_count": 44,
   "metadata": {},
   "outputs": [
    {
     "data": {
      "text/plain": [
       "(168, 4)"
      ]
     },
     "execution_count": 44,
     "metadata": {},
     "output_type": "execute_result"
    }
   ],
   "source": [
    "dataframe.shape"
   ]
  },
  {
   "cell_type": "code",
   "execution_count": 45,
   "metadata": {},
   "outputs": [
    {
     "data": {
      "text/html": [
       "<div>\n",
       "<style scoped>\n",
       "    .dataframe tbody tr th:only-of-type {\n",
       "        vertical-align: middle;\n",
       "    }\n",
       "\n",
       "    .dataframe tbody tr th {\n",
       "        vertical-align: top;\n",
       "    }\n",
       "\n",
       "    .dataframe thead th {\n",
       "        text-align: right;\n",
       "    }\n",
       "</style>\n",
       "<table border=\"1\" class=\"dataframe\">\n",
       "  <thead>\n",
       "    <tr style=\"text-align: right;\">\n",
       "      <th></th>\n",
       "      <th>LST_DATE</th>\n",
       "      <th>DAY</th>\n",
       "      <th>LST_TIME</th>\n",
       "      <th>T_HR_AVG</th>\n",
       "    </tr>\n",
       "  </thead>\n",
       "  <tbody>\n",
       "    <tr>\n",
       "      <th>0</th>\n",
       "      <td>20100601</td>\n",
       "      <td>TUESDAY</td>\n",
       "      <td>0:00</td>\n",
       "      <td>25.2</td>\n",
       "    </tr>\n",
       "    <tr>\n",
       "      <th>1</th>\n",
       "      <td>20100601</td>\n",
       "      <td>TUESDAY</td>\n",
       "      <td>1:00</td>\n",
       "      <td>24.1</td>\n",
       "    </tr>\n",
       "    <tr>\n",
       "      <th>2</th>\n",
       "      <td>20100601</td>\n",
       "      <td>TUESDAY</td>\n",
       "      <td>2:00</td>\n",
       "      <td>24.4</td>\n",
       "    </tr>\n",
       "    <tr>\n",
       "      <th>3</th>\n",
       "      <td>20100601</td>\n",
       "      <td>TUESDAY</td>\n",
       "      <td>3:00</td>\n",
       "      <td>24.9</td>\n",
       "    </tr>\n",
       "    <tr>\n",
       "      <th>4</th>\n",
       "      <td>20100601</td>\n",
       "      <td>TUESDAY</td>\n",
       "      <td>4:00</td>\n",
       "      <td>22.8</td>\n",
       "    </tr>\n",
       "    <tr>\n",
       "      <th>5</th>\n",
       "      <td>20100601</td>\n",
       "      <td>TUESDAY</td>\n",
       "      <td>5:00</td>\n",
       "      <td>19.8</td>\n",
       "    </tr>\n",
       "    <tr>\n",
       "      <th>6</th>\n",
       "      <td>20100601</td>\n",
       "      <td>TUESDAY</td>\n",
       "      <td>6:00</td>\n",
       "      <td>18.8</td>\n",
       "    </tr>\n",
       "    <tr>\n",
       "      <th>7</th>\n",
       "      <td>20100601</td>\n",
       "      <td>TUESDAY</td>\n",
       "      <td>7:00</td>\n",
       "      <td>21.2</td>\n",
       "    </tr>\n",
       "    <tr>\n",
       "      <th>8</th>\n",
       "      <td>20100601</td>\n",
       "      <td>TUESDAY</td>\n",
       "      <td>8:00</td>\n",
       "      <td>24.2</td>\n",
       "    </tr>\n",
       "    <tr>\n",
       "      <th>9</th>\n",
       "      <td>20100601</td>\n",
       "      <td>TUESDAY</td>\n",
       "      <td>9:00</td>\n",
       "      <td>27.1</td>\n",
       "    </tr>\n",
       "  </tbody>\n",
       "</table>\n",
       "</div>"
      ],
      "text/plain": [
       "   LST_DATE      DAY LST_TIME  T_HR_AVG\n",
       "0  20100601  TUESDAY     0:00      25.2\n",
       "1  20100601  TUESDAY     1:00      24.1\n",
       "2  20100601  TUESDAY     2:00      24.4\n",
       "3  20100601  TUESDAY     3:00      24.9\n",
       "4  20100601  TUESDAY     4:00      22.8\n",
       "5  20100601  TUESDAY     5:00      19.8\n",
       "6  20100601  TUESDAY     6:00      18.8\n",
       "7  20100601  TUESDAY     7:00      21.2\n",
       "8  20100601  TUESDAY     8:00      24.2\n",
       "9  20100601  TUESDAY     9:00      27.1"
      ]
     },
     "execution_count": 45,
     "metadata": {},
     "output_type": "execute_result"
    }
   ],
   "source": [
    "dataframe.head(10)"
   ]
  },
  {
   "cell_type": "code",
   "execution_count": 46,
   "metadata": {},
   "outputs": [
    {
     "data": {
      "text/plain": [
       "['TUESDAY', 'WEDNESDAY', 'THURSDAY', 'FRIDAY', 'SATURDAY', 'SUNDAY', 'MONDAY']"
      ]
     },
     "execution_count": 46,
     "metadata": {},
     "output_type": "execute_result"
    }
   ],
   "source": [
    "days"
   ]
  },
  {
   "cell_type": "code",
   "execution_count": 47,
   "metadata": {},
   "outputs": [],
   "source": [
    "# use a for-loop (or list comprehension to create traces for the data list)\n",
    "\n",
    "data = []\n",
    "for day in days:\n",
    "    day_filter = dataframe['DAY'] == day\n",
    "    data_day = dataframe[day_filter]\n",
    "    \n",
    "    x_values = data_day['LST_TIME']\n",
    "    y_values = data_day['T_HR_AVG']\n",
    "    \n",
    "    trace = go.Scatter(\n",
    "                x = x_values,\n",
    "                y = y_values,\n",
    "                mode = 'lines',\n",
    "                name = day\n",
    "                )\n",
    "    data.append(trace)"
   ]
  },
  {
   "cell_type": "code",
   "execution_count": 48,
   "metadata": {},
   "outputs": [
    {
     "data": {
      "text/plain": [
       "[Scatter({\n",
       "     'mode': 'lines',\n",
       "     'name': 'TUESDAY',\n",
       "     'x': array(['0:00', '1:00', '2:00', '3:00', '4:00', '5:00', '6:00', '7:00', '8:00',\n",
       "                 '9:00', '10:00', '11:00', '12:00', '13:00', '14:00', '15:00', '16:00',\n",
       "                 '17:00', '18:00', '19:00', '20:00', '21:00', '22:00', '23:00'],\n",
       "                dtype=object),\n",
       "     'y': array([25.2, 24.1, 24.4, 24.9, 22.8, 19.8, 18.8, 21.2, 24.2, 27.1, 29.3, 30.6,\n",
       "                 32.6, 34. , 34. , 34.9, 34.6, 33.8, 33.5, 32.8, 31. , 29. , 27.6, 26.3])\n",
       " }), Scatter({\n",
       "     'mode': 'lines',\n",
       "     'name': 'WEDNESDAY',\n",
       "     'x': array(['0:00', '1:00', '2:00', '3:00', '4:00', '5:00', '6:00', '7:00', '8:00',\n",
       "                 '9:00', '10:00', '11:00', '12:00', '13:00', '14:00', '15:00', '16:00',\n",
       "                 '17:00', '18:00', '19:00', '20:00', '21:00', '22:00', '23:00'],\n",
       "                dtype=object),\n",
       "     'y': array([23.8, 20.6, 19.1, 18.4, 18.9, 18.2, 17.9, 20.2, 23.8, 26.1, 27.9, 29.3,\n",
       "                 30.9, 32.2, 33.1, 33.7, 34.5, 34.7, 34.8, 34.2, 32.8, 31. , 28.7, 25.5])\n",
       " }), Scatter({\n",
       "     'mode': 'lines',\n",
       "     'name': 'THURSDAY',\n",
       "     'x': array(['0:00', '1:00', '2:00', '3:00', '4:00', '5:00', '6:00', '7:00', '8:00',\n",
       "                 '9:00', '10:00', '11:00', '12:00', '13:00', '14:00', '15:00', '16:00',\n",
       "                 '17:00', '18:00', '19:00', '20:00', '21:00', '22:00', '23:00'],\n",
       "                dtype=object),\n",
       "     'y': array([24.3, 23.1, 21.8, 19.8, 18.5, 19.2, 19.7, 20.7, 23.2, 26.1, 28.6, 30.8,\n",
       "                 32.3, 33.8, 34.9, 35.8, 35.9, 36.3, 35.8, 35.4, 34.2, 32.7, 31.1, 28.6])\n",
       " }), Scatter({\n",
       "     'mode': 'lines',\n",
       "     'name': 'FRIDAY',\n",
       "     'x': array(['0:00', '1:00', '2:00', '3:00', '4:00', '5:00', '6:00', '7:00', '8:00',\n",
       "                 '9:00', '10:00', '11:00', '12:00', '13:00', '14:00', '15:00', '16:00',\n",
       "                 '17:00', '18:00', '19:00', '20:00', '21:00', '22:00', '23:00'],\n",
       "                dtype=object),\n",
       "     'y': array([26.4, 25.4, 24.2, 23.6, 22.5, 21. , 21.3, 22.5, 24.7, 28.1, 30.6, 32.5,\n",
       "                 33.9, 35.5, 36.6, 37.2, 37.8, 38.1, 38.2, 37.4, 36. , 34.4, 32.6, 30.1])\n",
       " }), Scatter({\n",
       "     'mode': 'lines',\n",
       "     'name': 'SATURDAY',\n",
       "     'x': array(['0:00', '1:00', '2:00', '3:00', '4:00', '5:00', '6:00', '7:00', '8:00',\n",
       "                 '9:00', '10:00', '11:00', '12:00', '13:00', '14:00', '15:00', '16:00',\n",
       "                 '17:00', '18:00', '19:00', '20:00', '21:00', '22:00', '23:00'],\n",
       "                dtype=object),\n",
       "     'y': array([28.3, 27.3, 26.3, 25.3, 24.7, 24.7, 23.9, 24.7, 27.7, 30.4, 32.6, 34.8,\n",
       "                 36.4, 37.2, 38.4, 39.7, 40. , 40.4, 40.1, 39. , 37.3, 35.7, 33.9, 31.4])\n",
       " }), Scatter({\n",
       "     'mode': 'lines',\n",
       "     'name': 'SUNDAY',\n",
       "     'x': array(['0:00', '1:00', '2:00', '3:00', '4:00', '5:00', '6:00', '7:00', '8:00',\n",
       "                 '9:00', '10:00', '11:00', '12:00', '13:00', '14:00', '15:00', '16:00',\n",
       "                 '17:00', '18:00', '19:00', '20:00', '21:00', '22:00', '23:00'],\n",
       "                dtype=object),\n",
       "     'y': array([29.7, 28.6, 26.9, 25.9, 25.2, 24.8, 23.9, 26.1, 27.9, 30.5, 33.7, 35.6,\n",
       "                 36.9, 38.4, 39.2, 40.2, 40.6, 40.6, 40.3, 39.5, 37.9, 36.5, 35. , 32.9])\n",
       " }), Scatter({\n",
       "     'mode': 'lines',\n",
       "     'name': 'MONDAY',\n",
       "     'x': array(['0:00', '1:00', '2:00', '3:00', '4:00', '5:00', '6:00', '7:00', '8:00',\n",
       "                 '9:00', '10:00', '11:00', '12:00', '13:00', '14:00', '15:00', '16:00',\n",
       "                 '17:00', '18:00', '19:00', '20:00', '21:00', '22:00', '23:00'],\n",
       "                dtype=object),\n",
       "     'y': array([30.9, 28.7, 26.9, 25.2, 24.1, 24.3, 23.4, 25.7, 28.5, 30.7, 32.5, 34.1,\n",
       "                 36.1, 37.6, 39. , 40.2, 40.3, 40.2, 40.1, 39.4, 38.5, 37. , 34.7, 32.6])\n",
       " })]"
      ]
     },
     "execution_count": 48,
     "metadata": {},
     "output_type": "execute_result"
    }
   ],
   "source": [
    "data"
   ]
  },
  {
   "cell_type": "code",
   "execution_count": 39,
   "metadata": {},
   "outputs": [],
   "source": [
    "# define el Layout\n",
    "\n",
    "layout = go.Layout(title = 'Daily temp avgs')"
   ]
  },
  {
   "cell_type": "code",
   "execution_count": 40,
   "metadata": {},
   "outputs": [
    {
     "data": {
      "text/plain": [
       "'file:///home/oscar/Escritorio/Plotly-Dash/data/temp-plot.html'"
      ]
     },
     "execution_count": 40,
     "metadata": {},
     "output_type": "execute_result"
    }
   ],
   "source": [
    "# create a figure from data ad Layout and the figure\n",
    "\n",
    "fig = go.Figure(data = data, layout = layout)\n",
    "pyo.plot(data)"
   ]
  },
  {
   "cell_type": "markdown",
   "metadata": {},
   "source": [
    "Vamos a revisar dos códigos que también resuelven el ejercicio:\n",
    "\n",
    "* La primera opción, itera sobre la lista días y crea una lista de diccionarios que genera`go. Scatter()`. Dentro de esta función se aplica un **filtro** por día al dataframe para construir el vector `y`, no así para el vector `x`. Esto es de difícil lectura y comprensión pues por una parte el filtro tiene una sintaxis un tanto engorrosa, además la función `Scatter()`, a pesar de la diferecia de longitud en los vectores, no devuelve error y utiliza tantas tuplas `(x,y)` como le sea posible.\n",
    "* La segunda opción es finamente elegante pues utiliza comprehensión de listas. Utiliza una lista de diccionarios, sin el uso de la función `Scatter()` por tanto utiliza la sintaxis {k,v} iterando sobre el campo `['DAY']` agrupado con `unique()`. No obstante continúa utilizando el filtro anterior y no construye `trace` como en las dos opciones anteriores."
   ]
  },
  {
   "cell_type": "code",
   "execution_count": 41,
   "metadata": {},
   "outputs": [
    {
     "data": {
      "text/plain": [
       "'file:///home/oscar/Escritorio/Plotly-Dash/data/temp-plot.html'"
      ]
     },
     "execution_count": 41,
     "metadata": {},
     "output_type": "execute_result"
    }
   ],
   "source": [
    "# primera opción\n",
    "\n",
    "data = []\n",
    "\n",
    "for day in days:\n",
    "    trace = go.Scatter(\n",
    "                x = dataframe['LST_TIME'],\n",
    "                y = dataframe[dataframe['DAY'] == day]['T_HR_AVG'],\n",
    "                mode = 'lines',\n",
    "                name = day\n",
    "                )\n",
    "    data.append(trace)\n",
    "\n",
    "layout = go.Layout(title = 'Daily temp avgs')\n",
    "\n",
    "fig = go.Figure(data = data, layout = layout)\n",
    "pyo.plot(data)"
   ]
  },
  {
   "cell_type": "code",
   "execution_count": 42,
   "metadata": {},
   "outputs": [
    {
     "data": {
      "text/plain": [
       "'file:///home/oscar/Escritorio/Plotly-Dash/data/temp-plot.html'"
      ]
     },
     "execution_count": 42,
     "metadata": {},
     "output_type": "execute_result"
    }
   ],
   "source": [
    "# segunda opción\n",
    "\n",
    "data = [{\n",
    "    'x': dataframe['LST_TIME'],\n",
    "    'y': dataframe[dataframe['DAY'] == day]['T_HR_AVG'],\n",
    "    'mode': 'lines',\n",
    "    'name': day,\n",
    "} for day in dataframe['DAY'].unique() ]\n",
    "    \n",
    "layout = go.Layout(title = 'Daily temp avgs')\n",
    "\n",
    "fig = go.Figure(data = data, layout = layout)\n",
    "pyo.plot(data)"
   ]
  },
  {
   "cell_type": "code",
   "execution_count": null,
   "metadata": {},
   "outputs": [],
   "source": []
  }
 ],
 "metadata": {
  "kernelspec": {
   "display_name": "Python 3",
   "language": "python",
   "name": "python3"
  },
  "language_info": {
   "codemirror_mode": {
    "name": "ipython",
    "version": 3
   },
   "file_extension": ".py",
   "mimetype": "text/x-python",
   "name": "python",
   "nbconvert_exporter": "python",
   "pygments_lexer": "ipython3",
   "version": "3.6.4"
  }
 },
 "nbformat": 4,
 "nbformat_minor": 2
}

{
 "cells": [
  {
   "cell_type": "markdown",
   "metadata": {},
   "source": [
    "# Dash Callbacks"
   ]
  },
  {
   "cell_type": "markdown",
   "metadata": {},
   "source": [
    "Una vez que hemos revisado los componentes HTML y los componentes CSS comenzaremos a trabajar con el diseño de los dashboards. Por medio de llamadas *callbacks* se hará la interaccón y conexión con estos componentes. Los pasos para crear un *callback* son los siguientes:\n",
    "* Crear una función que regrese una salida esperada\n",
    "* Utililizar un decorador en la función creada\n",
    "    * Establecer una salida al ID del componente\n",
    "    * Establecer un entrada al ID del componente\n",
    "* Conectar las propiedades deseadas"
   ]
  },
  {
   "cell_type": "code",
   "execution_count": 1,
   "metadata": {},
   "outputs": [],
   "source": [
    "from jupyter_plotly_dash import JupyterDash\n",
    "\n",
    "import dash_html_components as html\n",
    "import dash_core_components as dcc\n",
    "from dash.dependencies import Input, Output  # permite crear los callbacks"
   ]
  },
  {
   "cell_type": "code",
   "execution_count": 2,
   "metadata": {},
   "outputs": [],
   "source": [
    "app = JupyterDash('CallbackExample')\n",
    "\n",
    "app.layout = html.Div([\n",
    "                dcc.Input(id = 'my-id', value = 'Initial Text', type = 'text'),\n",
    "                html.Div(id = 'my-div')\n",
    "            ])\n",
    "\n",
    "@app.callback(Output(component_id = 'my-div', component_property = 'children'),\n",
    "            [Input(component_id = 'my-id', component_property = 'value')]\n",
    "            )\n",
    "def update_output_div(input_value):\n",
    "    return \"You entered: {}\".format(input_value)"
   ]
  },
  {
   "cell_type": "code",
   "execution_count": 3,
   "metadata": {},
   "outputs": [
    {
     "data": {
      "text/html": [
       "<div>\n",
       "  <iframe src=\"/app/endpoints/01a13da789b54bf68e3d97b973fcbb0d/\" width=800 height=600 frameborder=\"0\"></iframe>\n",
       "  <hr/><a href=\"/app/endpoints/01a13da789b54bf68e3d97b973fcbb0d/\" target=\"_new\">Open in new window</a> for /app/endpoints/01a13da789b54bf68e3d97b973fcbb0d/\n",
       "</div>"
      ],
      "text/plain": [
       "<jupyter_plotly_dash.dash_wrapper.JupyterDash at 0x7f141348fa90>"
      ]
     },
     "execution_count": 3,
     "metadata": {},
     "output_type": "execute_result"
    }
   ],
   "source": [
    "app #nota el botón undo!!"
   ]
  },
  {
   "cell_type": "markdown",
   "metadata": {},
   "source": [
    "## Dash Callbacks para gráficos"
   ]
  },
  {
   "cell_type": "code",
   "execution_count": 27,
   "metadata": {},
   "outputs": [],
   "source": [
    "from jupyter_plotly_dash import JupyterDash\n",
    "\n",
    "import dash_html_components as html\n",
    "import dash_core_components as dcc\n",
    "from dash.dependencies import Input, Output\n",
    "import plotly.graph_objs as go\n",
    "import pandas as pd"
   ]
  },
  {
   "cell_type": "code",
   "execution_count": 28,
   "metadata": {},
   "outputs": [],
   "source": [
    "mainpath = \"/home/oscar/Documentos/udemy/plotly-dash-joseport/Plotly-Dashboards-with-Dash-master/\"\n",
    "filename = \"Data/gapminderDataFiveYear.csv\"\n",
    "fullpath = mainpath + filename\n",
    "\n",
    "data = pd.read_csv(fullpath)"
   ]
  },
  {
   "cell_type": "code",
   "execution_count": 29,
   "metadata": {},
   "outputs": [
    {
     "data": {
      "text/html": [
       "<div>\n",
       "<style scoped>\n",
       "    .dataframe tbody tr th:only-of-type {\n",
       "        vertical-align: middle;\n",
       "    }\n",
       "\n",
       "    .dataframe tbody tr th {\n",
       "        vertical-align: top;\n",
       "    }\n",
       "\n",
       "    .dataframe thead th {\n",
       "        text-align: right;\n",
       "    }\n",
       "</style>\n",
       "<table border=\"1\" class=\"dataframe\">\n",
       "  <thead>\n",
       "    <tr style=\"text-align: right;\">\n",
       "      <th></th>\n",
       "      <th>country</th>\n",
       "      <th>year</th>\n",
       "      <th>pop</th>\n",
       "      <th>continent</th>\n",
       "      <th>lifeExp</th>\n",
       "      <th>gdpPercap</th>\n",
       "    </tr>\n",
       "  </thead>\n",
       "  <tbody>\n",
       "    <tr>\n",
       "      <th>0</th>\n",
       "      <td>Afghanistan</td>\n",
       "      <td>1952</td>\n",
       "      <td>8425333.0</td>\n",
       "      <td>Asia</td>\n",
       "      <td>28.801</td>\n",
       "      <td>779.445314</td>\n",
       "    </tr>\n",
       "    <tr>\n",
       "      <th>1</th>\n",
       "      <td>Afghanistan</td>\n",
       "      <td>1957</td>\n",
       "      <td>9240934.0</td>\n",
       "      <td>Asia</td>\n",
       "      <td>30.332</td>\n",
       "      <td>820.853030</td>\n",
       "    </tr>\n",
       "    <tr>\n",
       "      <th>2</th>\n",
       "      <td>Afghanistan</td>\n",
       "      <td>1962</td>\n",
       "      <td>10267083.0</td>\n",
       "      <td>Asia</td>\n",
       "      <td>31.997</td>\n",
       "      <td>853.100710</td>\n",
       "    </tr>\n",
       "    <tr>\n",
       "      <th>3</th>\n",
       "      <td>Afghanistan</td>\n",
       "      <td>1967</td>\n",
       "      <td>11537966.0</td>\n",
       "      <td>Asia</td>\n",
       "      <td>34.020</td>\n",
       "      <td>836.197138</td>\n",
       "    </tr>\n",
       "    <tr>\n",
       "      <th>4</th>\n",
       "      <td>Afghanistan</td>\n",
       "      <td>1972</td>\n",
       "      <td>13079460.0</td>\n",
       "      <td>Asia</td>\n",
       "      <td>36.088</td>\n",
       "      <td>739.981106</td>\n",
       "    </tr>\n",
       "  </tbody>\n",
       "</table>\n",
       "</div>"
      ],
      "text/plain": [
       "       country  year         pop continent  lifeExp   gdpPercap\n",
       "0  Afghanistan  1952   8425333.0      Asia   28.801  779.445314\n",
       "1  Afghanistan  1957   9240934.0      Asia   30.332  820.853030\n",
       "2  Afghanistan  1962  10267083.0      Asia   31.997  853.100710\n",
       "3  Afghanistan  1967  11537966.0      Asia   34.020  836.197138\n",
       "4  Afghanistan  1972  13079460.0      Asia   36.088  739.981106"
      ]
     },
     "execution_count": 29,
     "metadata": {},
     "output_type": "execute_result"
    }
   ],
   "source": [
    "data.head()"
   ]
  },
  {
   "cell_type": "code",
   "execution_count": 30,
   "metadata": {},
   "outputs": [],
   "source": [
    "app = JupyterDash('DashCallbackExample')\n",
    "\n",
    "\n",
    "year_options = []\n",
    "for year in data['year'].unique():\n",
    "    year_options.append({'label': str(year), 'value':year})\n",
    "\n",
    "app.layout = html.Div([\n",
    "                    dcc.Graph(id = 'graph'),\n",
    "                    dcc.Dropdown(id = 'year-picker', options = year_options,\n",
    "                                 value = data['year'].min())\n",
    "                    ])\n",
    "\n",
    "#se puede omitir el nombre de los parámetros y especificarloss en orden\n",
    "@app.callback(Output(component_id = 'graph', component_property = 'figure'), \n",
    "                     [Input('year-picker', 'value')])\n",
    "def update_figure(selected_year):\n",
    "    \n",
    "    # data only for selected year from dropdown\n",
    "    filtered_data = data[data['year'] == selected_year]\n",
    "    \n",
    "    traces = []\n",
    "    \n",
    "    for continent_name in filtered_data['continent'].unique():\n",
    "        data_by_continent = filtered_data[filtered_data['continent']==continent_name]\n",
    "        traces.append(go.Scatter(\n",
    "            x = data_by_continent['gdpPercap'],\n",
    "            y = data_by_continent['lifeExp'],\n",
    "            mode = 'markers',\n",
    "            opacity = 0.7,\n",
    "            marker = {'size': 10},\n",
    "            name = continent_name\n",
    "                     ))\n",
    "        \n",
    "    return {'data': traces,\n",
    "           'layout':go.Layout(title = 'My Plot',\n",
    "                             xaxis = {'title': 'GDP per Cap', 'type':'log'},\n",
    "                             yaxis = {'title': 'Life Expectancy'} \n",
    "                             )}"
   ]
  },
  {
   "cell_type": "code",
   "execution_count": 31,
   "metadata": {},
   "outputs": [
    {
     "data": {
      "text/html": [
       "<div>\n",
       "  <iframe src=\"/app/endpoints/abec29e7c78e4ea48575e5bcf91b3973/\" width=800 height=600 frameborder=\"0\"></iframe>\n",
       "  <hr/><a href=\"/app/endpoints/abec29e7c78e4ea48575e5bcf91b3973/\" target=\"_new\">Open in new window</a> for /app/endpoints/abec29e7c78e4ea48575e5bcf91b3973/\n",
       "</div>"
      ],
      "text/plain": [
       "<jupyter_plotly_dash.dash_wrapper.JupyterDash at 0x7f14120ea080>"
      ]
     },
     "execution_count": 31,
     "metadata": {},
     "output_type": "execute_result"
    }
   ],
   "source": [
    "app"
   ]
  },
  {
   "cell_type": "markdown",
   "metadata": {},
   "source": [
    "## Multiple inputs"
   ]
  },
  {
   "cell_type": "markdown",
   "metadata": {},
   "source": [
    "Hemos visto una salida gráfica para una entrada de texto. Ahora veremos la manera de implementar un Dashboard que capture varias entradas y tenga una sola salida en un mismo gráfico."
   ]
  },
  {
   "cell_type": "code",
   "execution_count": 32,
   "metadata": {},
   "outputs": [],
   "source": [
    "from jupyter_plotly_dash import JupyterDash\n",
    "\n",
    "import dash_html_components as html\n",
    "import dash_core_components as dcc\n",
    "from dash.dependencies import Input, Output\n",
    "import plotly.graph_objs as go\n",
    "import pandas as pd"
   ]
  },
  {
   "cell_type": "code",
   "execution_count": 38,
   "metadata": {},
   "outputs": [],
   "source": [
    "mainpath = \"/home/oscar/Documentos/udemy/plotly-dash-joseport/Plotly-Dashboards-with-Dash-master/\"\n",
    "filename = \"Data/mpg.csv\"\n",
    "fullpath = mainpath + filename"
   ]
  },
  {
   "cell_type": "code",
   "execution_count": 39,
   "metadata": {},
   "outputs": [],
   "source": [
    "data = pd.read_csv(fullpath)"
   ]
  },
  {
   "cell_type": "code",
   "execution_count": 40,
   "metadata": {},
   "outputs": [
    {
     "data": {
      "text/html": [
       "<div>\n",
       "<style scoped>\n",
       "    .dataframe tbody tr th:only-of-type {\n",
       "        vertical-align: middle;\n",
       "    }\n",
       "\n",
       "    .dataframe tbody tr th {\n",
       "        vertical-align: top;\n",
       "    }\n",
       "\n",
       "    .dataframe thead th {\n",
       "        text-align: right;\n",
       "    }\n",
       "</style>\n",
       "<table border=\"1\" class=\"dataframe\">\n",
       "  <thead>\n",
       "    <tr style=\"text-align: right;\">\n",
       "      <th></th>\n",
       "      <th>mpg</th>\n",
       "      <th>cylinders</th>\n",
       "      <th>displacement</th>\n",
       "      <th>horsepower</th>\n",
       "      <th>weight</th>\n",
       "      <th>acceleration</th>\n",
       "      <th>model_year</th>\n",
       "      <th>origin</th>\n",
       "      <th>name</th>\n",
       "    </tr>\n",
       "  </thead>\n",
       "  <tbody>\n",
       "    <tr>\n",
       "      <th>0</th>\n",
       "      <td>18.0</td>\n",
       "      <td>8</td>\n",
       "      <td>307.0</td>\n",
       "      <td>130</td>\n",
       "      <td>3504</td>\n",
       "      <td>12.0</td>\n",
       "      <td>70</td>\n",
       "      <td>1</td>\n",
       "      <td>chevrolet chevelle malibu</td>\n",
       "    </tr>\n",
       "    <tr>\n",
       "      <th>1</th>\n",
       "      <td>15.0</td>\n",
       "      <td>8</td>\n",
       "      <td>350.0</td>\n",
       "      <td>165</td>\n",
       "      <td>3693</td>\n",
       "      <td>11.5</td>\n",
       "      <td>70</td>\n",
       "      <td>1</td>\n",
       "      <td>buick skylark 320</td>\n",
       "    </tr>\n",
       "    <tr>\n",
       "      <th>2</th>\n",
       "      <td>18.0</td>\n",
       "      <td>8</td>\n",
       "      <td>318.0</td>\n",
       "      <td>150</td>\n",
       "      <td>3436</td>\n",
       "      <td>11.0</td>\n",
       "      <td>70</td>\n",
       "      <td>1</td>\n",
       "      <td>plymouth satellite</td>\n",
       "    </tr>\n",
       "    <tr>\n",
       "      <th>3</th>\n",
       "      <td>16.0</td>\n",
       "      <td>8</td>\n",
       "      <td>304.0</td>\n",
       "      <td>150</td>\n",
       "      <td>3433</td>\n",
       "      <td>12.0</td>\n",
       "      <td>70</td>\n",
       "      <td>1</td>\n",
       "      <td>amc rebel sst</td>\n",
       "    </tr>\n",
       "    <tr>\n",
       "      <th>4</th>\n",
       "      <td>17.0</td>\n",
       "      <td>8</td>\n",
       "      <td>302.0</td>\n",
       "      <td>140</td>\n",
       "      <td>3449</td>\n",
       "      <td>10.5</td>\n",
       "      <td>70</td>\n",
       "      <td>1</td>\n",
       "      <td>ford torino</td>\n",
       "    </tr>\n",
       "  </tbody>\n",
       "</table>\n",
       "</div>"
      ],
      "text/plain": [
       "    mpg  cylinders  displacement horsepower  weight  acceleration  model_year  \\\n",
       "0  18.0          8         307.0        130    3504          12.0          70   \n",
       "1  15.0          8         350.0        165    3693          11.5          70   \n",
       "2  18.0          8         318.0        150    3436          11.0          70   \n",
       "3  16.0          8         304.0        150    3433          12.0          70   \n",
       "4  17.0          8         302.0        140    3449          10.5          70   \n",
       "\n",
       "   origin                       name  \n",
       "0       1  chevrolet chevelle malibu  \n",
       "1       1          buick skylark 320  \n",
       "2       1         plymouth satellite  \n",
       "3       1              amc rebel sst  \n",
       "4       1                ford torino  "
      ]
     },
     "execution_count": 40,
     "metadata": {},
     "output_type": "execute_result"
    }
   ],
   "source": [
    "data.head()"
   ]
  },
  {
   "cell_type": "code",
   "execution_count": 41,
   "metadata": {},
   "outputs": [],
   "source": [
    "app = JupyterDash(\"DashCallbackMultInputs\")\n",
    "\n",
    "#['mpg', 'hp', 'displacement']\n",
    "features = data.columns\n",
    "\n",
    "app.layout = html.Div([\n",
    "                html.Div([\n",
    "                    dcc.Dropdown(id = 'xaxis',\n",
    "                                options = [{'label': i, 'value': i} for i in features], # crea options con comprehlist\n",
    "                                value = 'displacement')\n",
    "                ], style = {'width': '48%', 'display': 'inline-block'}),\n",
    "                html.Div([\n",
    "                    dcc.Dropdown(id ='yaxis',\n",
    "                                options = [{'label': i, 'value': i} for i in features],\n",
    "                                value = 'mpg')\n",
    "                ], style = {'width': '48%', 'display': 'inline-block'}),\n",
    "                dcc.Graph(id='feature-graphic')\n",
    "], style={'pading':10})\n",
    "\n",
    "\n",
    "@app.callback(Output('feature-graphic', 'figure'), #component_id, component_property\n",
    "             [Input('xaxis', 'value'),\n",
    "              Input('yaxis', 'value')\n",
    "             ])\n",
    "def update_graph(xaxis_name, yaxis_name):\n",
    "    return {'data':[go.Scatter(x = data[xaxis_name],\n",
    "                               y = data[yaxis_name],\n",
    "                               text = data['name'],\n",
    "                               mode = 'markers',\n",
    "                               marker = {'size':10,\n",
    "                                         'opacity': 0.5,\n",
    "                                         'line': {'width':0.5, 'color':'white'}\n",
    "                                        },\n",
    "                               )],\n",
    "            'layout': go.Layout(title = 'My Dashboard for MPG',\n",
    "                                xaxis = {'title':xaxis_name},\n",
    "                                yaxis = {'title':yaxis_name},\n",
    "                                hovermode = 'closest')\n",
    "           }"
   ]
  },
  {
   "cell_type": "code",
   "execution_count": 42,
   "metadata": {},
   "outputs": [
    {
     "data": {
      "text/html": [
       "<div>\n",
       "  <iframe src=\"/app/endpoints/df04dd3a5dcd4df582124b1dca49706a/\" width=800 height=600 frameborder=\"0\"></iframe>\n",
       "  <hr/><a href=\"/app/endpoints/df04dd3a5dcd4df582124b1dca49706a/\" target=\"_new\">Open in new window</a> for /app/endpoints/df04dd3a5dcd4df582124b1dca49706a/\n",
       "</div>"
      ],
      "text/plain": [
       "<jupyter_plotly_dash.dash_wrapper.JupyterDash at 0x7f14120ef0f0>"
      ]
     },
     "execution_count": 42,
     "metadata": {},
     "output_type": "execute_result"
    }
   ],
   "source": [
    "app"
   ]
  },
  {
   "cell_type": "markdown",
   "metadata": {},
   "source": [
    "## Multiple Outputs"
   ]
  },
  {
   "cell_type": "markdown",
   "metadata": {},
   "source": [
    "Anteriormente se vio la manera de crear multiples entradas conectadas al dashboard. Para obtener multiples salidas será necesario crear multiples pares function/callbacks-decorators en el script. Veremos un ejemplo de un dashboard que proporciona una de múltiples salidas."
   ]
  },
  {
   "cell_type": "code",
   "execution_count": 21,
   "metadata": {},
   "outputs": [],
   "source": [
    "from jupyter_plotly_dash import JupyterDash\n",
    "\n",
    "import dash_html_components as html\n",
    "import dash_core_components as dcc\n",
    "from dash.dependencies import Input, Output\n",
    "import plotly.graph_objs as go\n",
    "import pandas as pd\n",
    "\n",
    "import base64  # despliega imágenes en un html"
   ]
  },
  {
   "cell_type": "code",
   "execution_count": 22,
   "metadata": {},
   "outputs": [],
   "source": [
    "mainpath = \"/home/oscar/Documentos/udemy/plotly-dash-joseport/Plotly-Dashboards-with-Dash-master/\"\n",
    "filename = \"Data/wheels.csv\"\n",
    "fullpath = mainpath + filename\n",
    "\n",
    "data = pd.read_csv(fullpath)"
   ]
  },
  {
   "cell_type": "code",
   "execution_count": 23,
   "metadata": {},
   "outputs": [
    {
     "data": {
      "text/html": [
       "<div>\n",
       "<style scoped>\n",
       "    .dataframe tbody tr th:only-of-type {\n",
       "        vertical-align: middle;\n",
       "    }\n",
       "\n",
       "    .dataframe tbody tr th {\n",
       "        vertical-align: top;\n",
       "    }\n",
       "\n",
       "    .dataframe thead th {\n",
       "        text-align: right;\n",
       "    }\n",
       "</style>\n",
       "<table border=\"1\" class=\"dataframe\">\n",
       "  <thead>\n",
       "    <tr style=\"text-align: right;\">\n",
       "      <th></th>\n",
       "      <th>wheels</th>\n",
       "      <th>color</th>\n",
       "      <th>image</th>\n",
       "    </tr>\n",
       "  </thead>\n",
       "  <tbody>\n",
       "    <tr>\n",
       "      <th>0</th>\n",
       "      <td>1</td>\n",
       "      <td>red</td>\n",
       "      <td>redunicycle.jpg</td>\n",
       "    </tr>\n",
       "    <tr>\n",
       "      <th>1</th>\n",
       "      <td>1</td>\n",
       "      <td>blue</td>\n",
       "      <td>blueunicycle.jpg</td>\n",
       "    </tr>\n",
       "    <tr>\n",
       "      <th>2</th>\n",
       "      <td>1</td>\n",
       "      <td>yellow</td>\n",
       "      <td>yellowunicycle.jpg</td>\n",
       "    </tr>\n",
       "    <tr>\n",
       "      <th>3</th>\n",
       "      <td>2</td>\n",
       "      <td>red</td>\n",
       "      <td>redbicycle.jpg</td>\n",
       "    </tr>\n",
       "    <tr>\n",
       "      <th>4</th>\n",
       "      <td>2</td>\n",
       "      <td>blue</td>\n",
       "      <td>bluemotorcycle.jpg</td>\n",
       "    </tr>\n",
       "  </tbody>\n",
       "</table>\n",
       "</div>"
      ],
      "text/plain": [
       "   wheels   color               image\n",
       "0       1     red     redunicycle.jpg\n",
       "1       1    blue    blueunicycle.jpg\n",
       "2       1  yellow  yellowunicycle.jpg\n",
       "3       2     red      redbicycle.jpg\n",
       "4       2    blue  bluemotorcycle.jpg"
      ]
     },
     "execution_count": 23,
     "metadata": {},
     "output_type": "execute_result"
    }
   ],
   "source": [
    "data.head()"
   ]
  },
  {
   "cell_type": "code",
   "execution_count": 24,
   "metadata": {},
   "outputs": [],
   "source": [
    "app = JupyterDash('DashCallbackMultOutputs')\n",
    "\n",
    "def encode_image(image_file):\n",
    "    encoded = base64.b64encode(open(image_file, 'rb').read())\n",
    "    return 'data:image/png;base64, {}'.format(encoded.decode())\n",
    "\n",
    "\n",
    "app.layout = html.Div([\n",
    "                dcc.RadioItems(id = 'wheels',\n",
    "                               options = [{'label': i, 'value': i} for i in data['wheels'].unique()],\n",
    "                               value = 1\n",
    "                               ),\n",
    "                html.Div(id = 'wheels-output'),\n",
    "                html.Hr(), #pinta una línea\n",
    "                dcc.RadioItems(id = 'colors',\n",
    "                                options = [{'label': i, 'value': i} for i in data['color'].unique()],\n",
    "                                value = 'blue'\n",
    "                              ),\n",
    "                html.Div(id = 'colors-output'),\n",
    "                html.Img(id = 'display-image', src='children', height = 300)\n",
    "], style={'fontFamily':'helvetica', 'fontSize': 18 })\n",
    "\n",
    "@app.callback(Output('wheels-output', 'children'),\n",
    "              [Input('wheels', 'value')])\n",
    "def callback_a(wheels_value):\n",
    "    return \"you chose {}\".format(wheels_value)\n",
    "\n",
    "\n",
    "@app.callback(Output('colors-output', 'children'),\n",
    "              [Input('colors', 'value')])\n",
    "def callback_b(color_value):\n",
    "    return \"you chose {}\".format(color_value)\n",
    "\n",
    "@app.callback(Output('display-image', 'src'),\n",
    "              [Input('wheels', 'value'),\n",
    "               Input('colors', 'value')])\n",
    "def callback_images(wheel, color):\n",
    "    file = data[(data['wheels'] == wheel) & (data['color'] == color)]['image'].values[0]\n",
    "    mainpath = \"/home/oscar/Documentos/udemy/plotly-dash-joseport/Plotly-Dashboards-with-Dash-master/\"\n",
    "    filename = \"Data/Images/\" + file\n",
    "    return encode_image(mainpath + filename)"
   ]
  },
  {
   "cell_type": "code",
   "execution_count": 25,
   "metadata": {},
   "outputs": [
    {
     "data": {
      "text/html": [
       "<div>\n",
       "  <iframe src=\"/app/endpoints/2db7c421629e47b28ab5eae7dec240ae/\" width=800 height=600 frameborder=\"0\"></iframe>\n",
       "  <hr/><a href=\"/app/endpoints/2db7c421629e47b28ab5eae7dec240ae/\" target=\"_new\">Open in new window</a> for /app/endpoints/2db7c421629e47b28ab5eae7dec240ae/\n",
       "</div>"
      ],
      "text/plain": [
       "<jupyter_plotly_dash.dash_wrapper.JupyterDash at 0x7f14120cdc88>"
      ]
     },
     "execution_count": 25,
     "metadata": {},
     "output_type": "execute_result"
    }
   ],
   "source": [
    "app"
   ]
  },
  {
   "cell_type": "markdown",
   "metadata": {},
   "source": [
    "### Ejercicio Interactive Components"
   ]
  },
  {
   "cell_type": "markdown",
   "metadata": {},
   "source": [
    "**Objetivo:** Crear un Dashboard que tome dos o mas valores de entrada y regrese el producto de ambos como salida"
   ]
  },
  {
   "cell_type": "code",
   "execution_count": 43,
   "metadata": {},
   "outputs": [],
   "source": [
    "# perform inputs here\n",
    "\n",
    "from jupyter_plotly_dash import JupyterDash\n",
    "import dash_core_components as dcc\n",
    "import dash_html_components as html\n",
    "from dash.dependencies import Input, Output"
   ]
  },
  {
   "cell_type": "code",
   "execution_count": 44,
   "metadata": {},
   "outputs": [],
   "source": [
    "# launch the application\n",
    "app = JupyterDash('InteractiveComponentsExercise')"
   ]
  },
  {
   "cell_type": "code",
   "execution_count": 45,
   "metadata": {},
   "outputs": [],
   "source": [
    "# create a Dash layout that contains input components\n",
    "# and at least one output. Assign ID's to each component\n",
    "\n",
    "app.layout = html.Div([\n",
    "                dcc.RangeSlider(id = 'range-slider',\n",
    "                                min = -10,\n",
    "                                max = 10,\n",
    "                                marks = {i:str(i) for i in range(-10, 11)},\n",
    "                                value = [-1,1]),\n",
    "                html.H1(id = 'product')\n",
    "])\n",
    "\n",
    "@app.callback(Output('product', 'children'),\n",
    "             [Input('range-slider', 'value')])\n",
    "def update_value(value_list):\n",
    "    return value_list[0]*value_list[1]"
   ]
  },
  {
   "cell_type": "code",
   "execution_count": 46,
   "metadata": {},
   "outputs": [
    {
     "data": {
      "text/html": [
       "<div>\n",
       "  <iframe src=\"/app/endpoints/d382dda5328a414484634be63f957f72/\" width=800 height=600 frameborder=\"0\"></iframe>\n",
       "  <hr/><a href=\"/app/endpoints/d382dda5328a414484634be63f957f72/\" target=\"_new\">Open in new window</a> for /app/endpoints/d382dda5328a414484634be63f957f72/\n",
       "</div>"
      ],
      "text/plain": [
       "<jupyter_plotly_dash.dash_wrapper.JupyterDash at 0x7f14126c0358>"
      ]
     },
     "execution_count": 46,
     "metadata": {},
     "output_type": "execute_result"
    }
   ],
   "source": [
    "app"
   ]
  },
  {
   "cell_type": "code",
   "execution_count": 53,
   "metadata": {},
   "outputs": [
    {
     "name": "stdout",
     "output_type": "stream",
     "text": [
      "-10\n",
      "-9\n",
      "-8\n",
      "-7\n",
      "-6\n",
      "-5\n",
      "-4\n",
      "-3\n",
      "-2\n",
      "-1\n",
      "0\n",
      "1\n",
      "2\n",
      "3\n",
      "4\n",
      "5\n",
      "6\n",
      "7\n",
      "8\n",
      "9\n",
      "10\n"
     ]
    }
   ],
   "source": [
    "i for i in range(-10, 11):\n",
    "    print(i)"
   ]
  },
  {
   "cell_type": "code",
   "execution_count": null,
   "metadata": {},
   "outputs": [],
   "source": []
  }
 ],
 "metadata": {
  "kernelspec": {
   "display_name": "Python 3",
   "language": "python",
   "name": "python3"
  },
  "language_info": {
   "codemirror_mode": {
    "name": "ipython",
    "version": 3
   },
   "file_extension": ".py",
   "mimetype": "text/x-python",
   "name": "python",
   "nbconvert_exporter": "python",
   "pygments_lexer": "ipython3",
   "version": "3.6.6"
  }
 },
 "nbformat": 4,
 "nbformat_minor": 2
}

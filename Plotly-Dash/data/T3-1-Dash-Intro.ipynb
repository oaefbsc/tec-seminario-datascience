{
 "cells": [
  {
   "cell_type": "markdown",
   "metadata": {},
   "source": [
    "# Dash"
   ]
  },
  {
   "cell_type": "markdown",
   "metadata": {},
   "source": [
    "Dash es una biblioteca de gráficos HTML que permite realizar gráficos dinámicos con base en la web conocidos como **Dashboards**. La api de Dash para Python evita diseñar los gráficos usando lenguaje HTML, lenguaje CSS o cualquier otro lenguaje para la web, funciona como un envoltorio ('wraper') de estos lenguajes."
   ]
  },
  {
   "cell_type": "markdown",
   "metadata": {},
   "source": [
    "**Nota:** En la exposición del curso *\"Interactive Python Dashboards with Plotly and Dash\"* no se utiliza el entorno Jupyter-Notebooks para hacer la programación de los ejemplos y ejercicios. Por lo tanto, el código mostrado aquí utiliza un envoltorio de `dash` para Jupyter-Notebooks. El código utilizado en el curso se ejecuta desde terminal y se agrega al final para tener referencia de éste.\n",
    "\n",
    "Para insertar un objeto de **Dash** en el notebook es necesario importar el módulo `JupyterDash` del paquete `jupyter_plotly_dash`. https://pypi.org/project/jupyter-plotly-dash/"
   ]
  },
  {
   "cell_type": "markdown",
   "metadata": {},
   "source": [
    "Vamos a iniciar explorando los componentes principales de Dash y ejecutando el servidor de Dash (para Jupyter-Notebooks)"
   ]
  },
  {
   "cell_type": "code",
   "execution_count": 1,
   "metadata": {},
   "outputs": [],
   "source": [
    "from jupyter_plotly_dash import JupyterDash\n",
    "\n",
    "import dash\n",
    "import dash_core_components as dcc\n",
    "import dash_html_components as html"
   ]
  },
  {
   "cell_type": "code",
   "execution_count": 2,
   "metadata": {},
   "outputs": [],
   "source": [
    "# crea una aplicación Dash\n",
    "\n",
    "app = JupyterDash('SimpleExample')\n",
    "app.layout = html.Div(\n",
    "             children = [\n",
    "                 html.H1('Hello Dash!!'),\n",
    "                 html.Div('Dash: Web Dashboards with Python'),\n",
    "                 dcc.Graph(id = 'example',\n",
    "                          figure = {\n",
    "                                   'data':[\n",
    "                                       {'x':[1,2,3], 'y':[4,1,2], 'type':'bar','name':'SF'},\n",
    "                                       {'x':[1,2,3], 'y':[2,4,5], 'type':'bar','name':'NYC'} ],\n",
    "                                    'layout':{\n",
    "                                       'title': 'BAR PLOTS'}\n",
    "                                   })\n",
    "             ])"
   ]
  },
  {
   "cell_type": "code",
   "execution_count": 3,
   "metadata": {},
   "outputs": [
    {
     "data": {
      "text/html": [
       "<div>\n",
       "  <iframe src=\"/app/endpoints/0da45f52366c41bf9703f6bcef48596d/\" width=800 height=600 frameborder=\"0\"></iframe>\n",
       "  <hr/><a href=\"/app/endpoints/0da45f52366c41bf9703f6bcef48596d/\" target=\"_new\">Open in new window</a> for /app/endpoints/0da45f52366c41bf9703f6bcef48596d/\n",
       "</div>"
      ],
      "text/plain": [
       "<jupyter_plotly_dash.dash_wrapper.JupyterDash at 0x7f1c06c99a58>"
      ]
     },
     "execution_count": 3,
     "metadata": {},
     "output_type": "execute_result"
    }
   ],
   "source": [
    "app"
   ]
  },
  {
   "cell_type": "markdown",
   "metadata": {},
   "source": [
    "## Styling"
   ]
  },
  {
   "cell_type": "markdown",
   "metadata": {},
   "source": [
    "A continuación se van a añadir algunas características de estilo al gráfico"
   ]
  },
  {
   "cell_type": "code",
   "execution_count": 4,
   "metadata": {},
   "outputs": [],
   "source": [
    "app = JupyterDash('SimpleExample')\n",
    "\n",
    "colors = {'background': '#31928F', 'text':'#E5ECEB' }\n",
    "\n",
    "app.layout = html.Div(\n",
    "             children = [\n",
    "                 html.H1('Hello Dash!!', style = {'textAlign': 'center',\n",
    "                                                  'color': colors['text']}\n",
    "                        ),\n",
    "                 html.Div('Dash: Web Dashboards with Python'),\n",
    "                 dcc.Graph(id = 'example',\n",
    "                          figure = {\n",
    "                                   'data':[\n",
    "                                       {'x':[1,2,3], 'y':[4,1,2], 'type':'bar','name':'SF'},\n",
    "                                       {'x':[1,2,3], 'y':[2,4,5], 'type':'bar','name':'NYC'} ],\n",
    "                                    'layout':{\n",
    "                                        'plot_bgcolor': colors['background'],\n",
    "                                        'paper_bgcolor': colors['background'],\n",
    "                                        'font':{'color':colors['text']},\n",
    "                                        'title': 'BAR PLOTS'}\n",
    "                                   })\n",
    "             ], style = {'backgroundColor':colors['background']}\n",
    ")"
   ]
  },
  {
   "cell_type": "code",
   "execution_count": 5,
   "metadata": {},
   "outputs": [
    {
     "data": {
      "text/html": [
       "<div>\n",
       "  <iframe src=\"/app/endpoints/433e9e7b7a954cb4bb61a5e874a8415f/\" width=800 height=600 frameborder=\"0\"></iframe>\n",
       "  <hr/><a href=\"/app/endpoints/433e9e7b7a954cb4bb61a5e874a8415f/\" target=\"_new\">Open in new window</a> for /app/endpoints/433e9e7b7a954cb4bb61a5e874a8415f/\n",
       "</div>"
      ],
      "text/plain": [
       "<jupyter_plotly_dash.dash_wrapper.JupyterDash at 0x7f1c06d0efd0>"
      ]
     },
     "execution_count": 5,
     "metadata": {},
     "output_type": "execute_result"
    }
   ],
   "source": [
    "app"
   ]
  },
  {
   "cell_type": "markdown",
   "metadata": {},
   "source": [
    "## Converting Plotly Plot to Dashboard"
   ]
  },
  {
   "cell_type": "code",
   "execution_count": 6,
   "metadata": {},
   "outputs": [],
   "source": [
    "import plotly.graph_objs as go\n",
    "import numpy as np"
   ]
  },
  {
   "cell_type": "code",
   "execution_count": 7,
   "metadata": {},
   "outputs": [],
   "source": [
    "app = JupyterDash('SimpleExample')\n",
    "\n",
    "# creating data\n",
    "np.random.seed(42)\n",
    "random_x = np.random.randint(1, 101,100)\n",
    "random_y = np.random.randint(1, 101,100)\n",
    "\n",
    "app.layout = html.Div([dcc.Graph(id = 'scatterplot',\n",
    "                                figure = {'data':[\n",
    "                                         go.Scatter(\n",
    "                                         x = random_x,\n",
    "                                         y = random_y,\n",
    "                                         mode = 'markers'\n",
    "                                         )],\n",
    "                                         'layout': go.Layout(title = 'My Scatterplot')}                                \n",
    "                                )])"
   ]
  },
  {
   "cell_type": "code",
   "execution_count": 8,
   "metadata": {},
   "outputs": [
    {
     "data": {
      "text/html": [
       "<div>\n",
       "  <iframe src=\"/app/endpoints/6f3efe44b10f426cac79e830682862ce/\" width=800 height=600 frameborder=\"0\"></iframe>\n",
       "  <hr/><a href=\"/app/endpoints/6f3efe44b10f426cac79e830682862ce/\" target=\"_new\">Open in new window</a> for /app/endpoints/6f3efe44b10f426cac79e830682862ce/\n",
       "</div>"
      ],
      "text/plain": [
       "<jupyter_plotly_dash.dash_wrapper.JupyterDash at 0x7f1c06e98e48>"
      ]
     },
     "execution_count": 8,
     "metadata": {},
     "output_type": "execute_result"
    }
   ],
   "source": [
    "app"
   ]
  },
  {
   "cell_type": "markdown",
   "metadata": {},
   "source": [
    "Vamos a insertar algunas modificaciones a los marcadores y añadaremos una segunda gráfica al lienzo:"
   ]
  },
  {
   "cell_type": "code",
   "execution_count": 9,
   "metadata": {},
   "outputs": [],
   "source": [
    "app = JupyterDash('SimpleExample')\n",
    "\n",
    "# creating data\n",
    "np.random.seed(42)\n",
    "random_x = np.random.randint(1, 101,100)\n",
    "random_y = np.random.randint(1, 101,100)\n",
    "\n",
    "app.layout = html.Div([dcc.Graph(id = 'scatterplot',\n",
    "                                figure = {'data':[\n",
    "                                         go.Scatter(\n",
    "                                         x = random_x,\n",
    "                                         y = random_y,\n",
    "                                         mode = 'markers',\n",
    "                                         marker = {\n",
    "                                             'size':12,\n",
    "                                             'color':'rgb(51,204,153)',\n",
    "                                             'symbol':'pentagon',\n",
    "                                             'line':{'width':2}\n",
    "                                         }\n",
    "                                         )],\n",
    "                                         'layout': go.Layout(title = 'My Scatterplot',\n",
    "                                                             xaxis = {'title': 'Some X title'}\n",
    "                                         )}                                \n",
    "                                ),\n",
    "                      # second graph\n",
    "                       dcc.Graph(id = 'scatterplot2',\n",
    "                                figure = {'data':[\n",
    "                                         go.Scatter(\n",
    "                                         x = random_x,\n",
    "                                         y = random_y,\n",
    "                                         mode = 'markers',\n",
    "                                         marker = {\n",
    "                                             'size':12,\n",
    "                                             'color':'rgb(172, 177, 176)',\n",
    "                                             'symbol':'pentagon',\n",
    "                                             'line':{'width':2}\n",
    "                                         }\n",
    "                                         )],\n",
    "                                         'layout': go.Layout(title = 'My Scatterplot2',\n",
    "                                                             xaxis = {'title': 'Some X title'}\n",
    "                                         )}                                \n",
    "                                )\n",
    "                      ])"
   ]
  },
  {
   "cell_type": "code",
   "execution_count": 10,
   "metadata": {},
   "outputs": [
    {
     "data": {
      "text/html": [
       "<div>\n",
       "  <iframe src=\"/app/endpoints/44f15d25a7b149b590754047d311818c/\" width=800 height=600 frameborder=\"0\"></iframe>\n",
       "  <hr/><a href=\"/app/endpoints/44f15d25a7b149b590754047d311818c/\" target=\"_new\">Open in new window</a> for /app/endpoints/44f15d25a7b149b590754047d311818c/\n",
       "</div>"
      ],
      "text/plain": [
       "<jupyter_plotly_dash.dash_wrapper.JupyterDash at 0x7f1c06fcf048>"
      ]
     },
     "execution_count": 10,
     "metadata": {},
     "output_type": "execute_result"
    }
   ],
   "source": [
    "app"
   ]
  },
  {
   "cell_type": "markdown",
   "metadata": {},
   "source": [
    "A continuación se presenta el código para ejecutarse fuera de Jupyter-Notebooks. En particular, la diferencia consiste en importar `dash` directamente y crear la aplicación con la función `Dash()`, asegurarse que se corre desde `main()` y ejecutar el servidor de dash al final.\n",
    "\n",
    "```\n",
    "import dash\n",
    "import dash_core_components as dcc\n",
    "import dash_html_components as html\n",
    "\n",
    "app = dash.Dash()\n",
    "\n",
    "app.layout = html.Div(\n",
    "             children = [\n",
    "                 html.H1('Hello Dash!!'),\n",
    "                 html.Div('Dash: Web Dashboards with Python'),\n",
    "                 dcc.Graph(id = 'example',\n",
    "                          figure = {\n",
    "                                   'data':[\n",
    "                                       {'x':[1,2,3], 'y':[4,1,2], 'type':'bar','name':'SF'},\n",
    "                                       {'x':[1,2,3], 'y':[2,4,5], 'type':'bar','name':'NYC'} ],\n",
    "                                    'layout':{\n",
    "                                       'title': 'BAR PLOTS'}\n",
    "                                   })\n",
    "             ])\n",
    "\n",
    "if '__name__' == '__main__':\n",
    "    app.run_server()\n",
    "\n",
    "```"
   ]
  },
  {
   "cell_type": "code",
   "execution_count": null,
   "metadata": {},
   "outputs": [],
   "source": []
  }
 ],
 "metadata": {
  "kernelspec": {
   "display_name": "Python 3",
   "language": "python",
   "name": "python3"
  },
  "language_info": {
   "codemirror_mode": {
    "name": "ipython",
    "version": 3
   },
   "file_extension": ".py",
   "mimetype": "text/x-python",
   "name": "python",
   "nbconvert_exporter": "python",
   "pygments_lexer": "ipython3",
   "version": "3.6.6"
  }
 },
 "nbformat": 4,
 "nbformat_minor": 2
}

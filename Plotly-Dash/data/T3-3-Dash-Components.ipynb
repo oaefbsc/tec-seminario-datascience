{
 "cells": [
  {
   "cell_type": "markdown",
   "metadata": {},
   "source": [
    "# Dashboard Components"
   ]
  },
  {
   "cell_type": "markdown",
   "metadata": {},
   "source": [
    "Los componentes de Dash están contenidos en dos librerías:\n",
    "* `dash_html_components`: describen el diseño de la página web\n",
    "* `dash_core_components`: describen los elementos individuales del gráfico\n",
    "\n"
   ]
  },
  {
   "cell_type": "markdown",
   "metadata": {},
   "source": [
    "Estos tipos de componentes incluyen otros tipos de componentes a cosiderar:\n",
    "* HTML\n",
    "* Dash Core\n",
    "* Markdown Syntax en un Dashboard"
   ]
  },
  {
   "cell_type": "markdown",
   "metadata": {},
   "source": [
    "## Componentes dash_html"
   ]
  },
  {
   "cell_type": "markdown",
   "metadata": {},
   "source": [
    "Dash suaviza el conocimiento detallado de los lenguajes HTML y CSS al momento de crear dashboards personalizados. Captura los componentes HTML más relevantes e inserta parámetros dentro de éstos, ademas de definir un diccionario general de estilo CSS.\n",
    "\n",
    "Técnicamente no es necesario conocer HTML y CSS al utilizar Dash, sin embargo, para personalizar los dashboards es muy importante conocer estos lenguajes. A continuación revisaremos brevemente los componentes HTML más relevantes."
   ]
  },
  {
   "cell_type": "markdown",
   "metadata": {},
   "source": [
    "* **HTML Div** es un elemento que define una sección o bloque en la aplicación web  (dashboard).\n",
    "* **CCS** permite crear un estilo a los componentes HTML\n",
    "    * Letras, Colores, Bordes\n",
    "    * Dash usa diccionarios para hacer una llamada al componente CSS"
   ]
  },
  {
   "cell_type": "code",
   "execution_count": 1,
   "metadata": {},
   "outputs": [],
   "source": [
    "from jupyter_plotly_dash import JupyterDash\n",
    "\n",
    "import dash_html_components as html"
   ]
  },
  {
   "cell_type": "code",
   "execution_count": 2,
   "metadata": {},
   "outputs": [],
   "source": [
    "app = JupyterDash('DashHtmlComp-Example')\n",
    "app.layout = html.Div(['This is the outermost div!',\n",
    "                      html.Div(['This is an inner div!'],\n",
    "                              style = {'color':'red', 'border': '2px red solid'}),\n",
    "                      html.Div(['Another inner div!'],\n",
    "                              style = {'color':'blue', 'border': '3px blue solid'}),\n",
    "                      ],\n",
    "                       style = {'color':'green', 'border': '2px green solid'}\n",
    "                     )\n"
   ]
  },
  {
   "cell_type": "code",
   "execution_count": 3,
   "metadata": {},
   "outputs": [
    {
     "data": {
      "text/html": [
       "<div>\n",
       "  <iframe src=\"/app/endpoints/06c23af4e1b5447091829ae2818e6999/\" width=800 height=600 frameborder=\"0\"></iframe>\n",
       "  <hr/><a href=\"/app/endpoints/06c23af4e1b5447091829ae2818e6999/\" target=\"_new\">Open in new window</a> for /app/endpoints/06c23af4e1b5447091829ae2818e6999/\n",
       "</div>"
      ],
      "text/plain": [
       "<jupyter_plotly_dash.dash_wrapper.JupyterDash at 0x7f2dcb6bec88>"
      ]
     },
     "execution_count": 3,
     "metadata": {},
     "output_type": "execute_result"
    }
   ],
   "source": [
    "app"
   ]
  },
  {
   "cell_type": "markdown",
   "metadata": {},
   "source": [
    "En resumen **HTML Div** crea una divisiones. Dentro de cada división se pueden crear múltiples elementos por medio de una lista. Fuera de la lista de elementos se crea un diccionario que contiene los estilos: `style = {'property':'value']` "
   ]
  },
  {
   "cell_type": "markdown",
   "metadata": {},
   "source": [
    "## Componentes dash_core"
   ]
  },
  {
   "cell_type": "markdown",
   "metadata": {},
   "source": [
    "Estos componentes son llamadas más abstractas (de alto nivel) que permiten insertar rápidamente componentes comunes dentro del dashboard. Una referencia de los componentes dash core puede encontrarse en: https://dash.plot.ly/dash-core-components. \n",
    "\n",
    "Vamos a explorar los componentes disponibles y como se insertan en los dashboards."
   ]
  },
  {
   "cell_type": "code",
   "execution_count": 4,
   "metadata": {},
   "outputs": [],
   "source": [
    "from jupyter_plotly_dash import JupyterDash\n",
    "\n",
    "import dash_html_components as html\n",
    "import dash_core_components as dcc"
   ]
  },
  {
   "cell_type": "code",
   "execution_count": 5,
   "metadata": {},
   "outputs": [],
   "source": [
    "app = JupyterDash('DashCoreComp-Example')\n",
    "\n",
    "app.layout = html.Div([\n",
    "            \n",
    "            html.Label('Dropdown'),\n",
    "            dcc.Dropdown(options = [{'label':'New York City', 'value':'NYC'},\n",
    "                                   {'label': 'San Francisco', 'value':'SF'}],\n",
    "                         value = 'SF'),\n",
    "            html.Label('Slider'),\n",
    "            dcc.Slider(min = -10, max = 10, step = 0.5, value = 0,\n",
    "                      marks = {i: i for i in range(-10,10)}),\n",
    "            html.P(html.Label('Some Radio Items')),  # agrega espacio entre componentes \n",
    "            dcc.RadioItems(options = [{'label':'New York City', 'value':'NYC'},\n",
    "                                   {'label': 'San Francisco', 'value':'SF'}],\n",
    "                           value = 'SF')\n",
    "            ])"
   ]
  },
  {
   "cell_type": "code",
   "execution_count": 6,
   "metadata": {},
   "outputs": [
    {
     "data": {
      "text/html": [
       "<div>\n",
       "  <iframe src=\"/app/endpoints/de038a052ac949a6815af41bff35cb27/\" width=800 height=600 frameborder=\"0\"></iframe>\n",
       "  <hr/><a href=\"/app/endpoints/de038a052ac949a6815af41bff35cb27/\" target=\"_new\">Open in new window</a> for /app/endpoints/de038a052ac949a6815af41bff35cb27/\n",
       "</div>"
      ],
      "text/plain": [
       "<jupyter_plotly_dash.dash_wrapper.JupyterDash at 0x7f2dcb6ee860>"
      ]
     },
     "execution_count": 6,
     "metadata": {},
     "output_type": "execute_result"
    }
   ],
   "source": [
    "app"
   ]
  },
  {
   "cell_type": "markdown",
   "metadata": {},
   "source": [
    "## Markdown en Dash"
   ]
  },
  {
   "cell_type": "markdown",
   "metadata": {},
   "source": [
    "Dashboards también pueden desplegar texto markdown que facilita el formato de letras, crea listas, etc. Para obtener referencia sobre el lenguaje Markdown se puede consultar http://commonmark.org/help"
   ]
  },
  {
   "cell_type": "code",
   "execution_count": 7,
   "metadata": {},
   "outputs": [],
   "source": [
    "from jupyter_plotly_dash import JupyterDash\n",
    "\n",
    "import dash_html_components as html\n",
    "import dash_core_components as dcc"
   ]
  },
  {
   "cell_type": "code",
   "execution_count": 10,
   "metadata": {},
   "outputs": [],
   "source": [
    "app = JupyterDash('DashMarkDown-Example')\n",
    "\n",
    "markdown_text = '''\n",
    "### Dash and Markdown\n",
    "Dash apps can be written in Markdown.\n",
    "Dash uses the [CommonMark](http://commonmark.org/) specification of Markdown.\n",
    "Check out their [60 Seconds Markdown Tutorial](http://commonmark.org/help/)\n",
    "if this is your first introduction to Markdown!\n",
    "Markdown includes syntax for things like **bold text** and *italics*,\n",
    "[links](http://commonmark.org/help/), inline `code`, snippets, lists, quotes, and more.\n",
    "'''\n",
    "app.layout = html.Div([\n",
    "            dcc.Markdown(children = markdown_text)\n",
    "])"
   ]
  },
  {
   "cell_type": "code",
   "execution_count": 11,
   "metadata": {},
   "outputs": [
    {
     "data": {
      "text/html": [
       "<div>\n",
       "  <iframe src=\"/app/endpoints/72c06600f2ec459d9fe243fc6698988a/\" width=800 height=600 frameborder=\"0\"></iframe>\n",
       "  <hr/><a href=\"/app/endpoints/72c06600f2ec459d9fe243fc6698988a/\" target=\"_new\">Open in new window</a> for /app/endpoints/72c06600f2ec459d9fe243fc6698988a/\n",
       "</div>"
      ],
      "text/plain": [
       "<jupyter_plotly_dash.dash_wrapper.JupyterDash at 0x7f2dcb6ee550>"
      ]
     },
     "execution_count": 11,
     "metadata": {},
     "output_type": "execute_result"
    }
   ],
   "source": [
    "app"
   ]
  },
  {
   "cell_type": "markdown",
   "metadata": {},
   "source": [
    "## Ayuda en Dash"
   ]
  },
  {
   "cell_type": "markdown",
   "metadata": {},
   "source": [
    "Se puede obtener ayuda rápidamente mediante:\n",
    "* `help()` dentro del intérprete de python\n",
    "* `pydoc` fuera del intérprete y ejecutando desde la terminal"
   ]
  },
  {
   "cell_type": "code",
   "execution_count": 12,
   "metadata": {},
   "outputs": [],
   "source": [
    "import dash_html_components as html"
   ]
  },
  {
   "cell_type": "code",
   "execution_count": 13,
   "metadata": {},
   "outputs": [
    {
     "name": "stdout",
     "output_type": "stream",
     "text": [
      "Help on class Div in module builtins:\n",
      "\n",
      "class Div(dash.development.base_component.Component)\n",
      " |  A Div component.\n",
      " |  \n",
      " |  \n",
      " |  Keyword arguments:\n",
      " |  - children (optional): The children of this component\n",
      " |  - id (optional): The ID of this component, used to identify dash components\n",
      " |  in callbacks. The ID needs to be unique across all of the\n",
      " |  components in an app.\n",
      " |  - n_clicks (optional): An integer that represents the number of times\n",
      " |  that this element has been clicked on.\n",
      " |  - n_clicks_timestamp (optional): An integer that represents the time (in ms since 1970)\n",
      " |  at which n_clicks changed. This can be used to tell\n",
      " |  which button was changed most recently.\n",
      " |  - key (optional): A unique identifier for the component, used to improve\n",
      " |  performance by React.js while rendering components\n",
      " |  See https://reactjs.org/docs/lists-and-keys.html for more info\n",
      " |  - role (optional): The ARIA role attribute\n",
      " |  - data-* (optional): A wildcard data attribute\n",
      " |  - aria-* (optional): A wildcard aria attribute\n",
      " |  - accessKey (optional): Defines a keyboard shortcut to activate or add focus to the element.\n",
      " |  - className (optional): Often used with CSS to style elements with common properties.\n",
      " |  - contentEditable (optional): Indicates whether the element's content is editable.\n",
      " |  - contextMenu (optional): Defines the ID of a <menu> element which will serve as the element's context menu.\n",
      " |  - dir (optional): Defines the text direction. Allowed values are ltr (Left-To-Right) or rtl (Right-To-Left)\n",
      " |  - draggable (optional): Defines whether the element can be dragged.\n",
      " |  - hidden (optional): Prevents rendering of given element, while keeping child elements, e.g. script elements, active.\n",
      " |  - lang (optional): Defines the language used in the element.\n",
      " |  - spellCheck (optional): Indicates whether spell checking is allowed for the element.\n",
      " |  - style (optional): Defines CSS styles which will override styles previously set.\n",
      " |  - tabIndex (optional): Overrides the browser's default tab order and follows the one specified instead.\n",
      " |  - title (optional): Text to be displayed in a tooltip when hovering over the element.\n",
      " |  - fireEvent (optional): A callback for firing events to dash.\n",
      " |  \n",
      " |  Available events:\n",
      " |  \n",
      " |  Method resolution order:\n",
      " |      Div\n",
      " |      dash.development.base_component.Component\n",
      " |      collections.abc.MutableMapping\n",
      " |      collections.abc.Mapping\n",
      " |      collections.abc.Collection\n",
      " |      collections.abc.Sized\n",
      " |      collections.abc.Iterable\n",
      " |      collections.abc.Container\n",
      " |      object\n",
      " |  \n",
      " |  Methods defined here:\n",
      " |  \n",
      " |  __init__ = wrapper(self, children=None, id=undefined, n_clicks=undefined, n_clicks_timestamp=undefined, key=undefined, role=undefined, accessKey=undefined, className=undefined, contentEditable=undefined, contextMenu=undefined, dir=undefined, draggable=undefined, hidden=undefined, lang=undefined, spellCheck=undefined, style=undefined, tabIndex=undefined, title=undefined, **kwargs)\n",
      " |  \n",
      " |  __repr__(self)\n",
      " |  \n",
      " |  ----------------------------------------------------------------------\n",
      " |  Data and other attributes defined here:\n",
      " |  \n",
      " |  __abstractmethods__ = frozenset()\n",
      " |  \n",
      " |  ----------------------------------------------------------------------\n",
      " |  Methods inherited from dash.development.base_component.Component:\n",
      " |  \n",
      " |  __delitem__(self, id)\n",
      " |      Delete items by ID in the tree of children.\n",
      " |  \n",
      " |  __getitem__(self, id)\n",
      " |      Recursively find the element with the given ID through the tree\n",
      " |      of children.\n",
      " |  \n",
      " |  __iter__(self)\n",
      " |      Yield IDs in the tree of children.\n",
      " |  \n",
      " |  __len__(self)\n",
      " |      Return the number of items in the tree.\n",
      " |  \n",
      " |  __setitem__(self, id, item)\n",
      " |      Set an element by its ID.\n",
      " |  \n",
      " |  to_plotly_json(self)\n",
      " |  \n",
      " |  traverse(self)\n",
      " |      Yield each item in the tree.\n",
      " |  \n",
      " |  traverse_with_paths(self)\n",
      " |      Yield each item with its path in the tree.\n",
      " |  \n",
      " |  ----------------------------------------------------------------------\n",
      " |  Data descriptors inherited from dash.development.base_component.Component:\n",
      " |  \n",
      " |  __dict__\n",
      " |      dictionary for instance variables (if defined)\n",
      " |  \n",
      " |  __weakref__\n",
      " |      list of weak references to the object (if defined)\n",
      " |  \n",
      " |  ----------------------------------------------------------------------\n",
      " |  Data and other attributes inherited from dash.development.base_component.Component:\n",
      " |  \n",
      " |  REQUIRED = required\n",
      " |  \n",
      " |  UNDEFINED = undefined\n",
      " |  \n",
      " |  ----------------------------------------------------------------------\n",
      " |  Methods inherited from collections.abc.MutableMapping:\n",
      " |  \n",
      " |  clear(self)\n",
      " |      D.clear() -> None.  Remove all items from D.\n",
      " |  \n",
      " |  pop(self, key, default=<object object at 0x7f2e076c7050>)\n",
      " |      D.pop(k[,d]) -> v, remove specified key and return the corresponding value.\n",
      " |      If key is not found, d is returned if given, otherwise KeyError is raised.\n",
      " |  \n",
      " |  popitem(self)\n",
      " |      D.popitem() -> (k, v), remove and return some (key, value) pair\n",
      " |      as a 2-tuple; but raise KeyError if D is empty.\n",
      " |  \n",
      " |  setdefault(self, key, default=None)\n",
      " |      D.setdefault(k[,d]) -> D.get(k,d), also set D[k]=d if k not in D\n",
      " |  \n",
      " |  update(*args, **kwds)\n",
      " |      D.update([E, ]**F) -> None.  Update D from mapping/iterable E and F.\n",
      " |      If E present and has a .keys() method, does:     for k in E: D[k] = E[k]\n",
      " |      If E present and lacks .keys() method, does:     for (k, v) in E: D[k] = v\n",
      " |      In either case, this is followed by: for k, v in F.items(): D[k] = v\n",
      " |  \n",
      " |  ----------------------------------------------------------------------\n",
      " |  Methods inherited from collections.abc.Mapping:\n",
      " |  \n",
      " |  __contains__(self, key)\n",
      " |  \n",
      " |  __eq__(self, other)\n",
      " |      Return self==value.\n",
      " |  \n",
      " |  get(self, key, default=None)\n",
      " |      D.get(k[,d]) -> D[k] if k in D, else d.  d defaults to None.\n",
      " |  \n",
      " |  items(self)\n",
      " |      D.items() -> a set-like object providing a view on D's items\n",
      " |  \n",
      " |  keys(self)\n",
      " |      D.keys() -> a set-like object providing a view on D's keys\n",
      " |  \n",
      " |  values(self)\n",
      " |      D.values() -> an object providing a view on D's values\n",
      " |  \n",
      " |  ----------------------------------------------------------------------\n",
      " |  Data and other attributes inherited from collections.abc.Mapping:\n",
      " |  \n",
      " |  __hash__ = None\n",
      " |  \n",
      " |  __reversed__ = None\n",
      " |  \n",
      " |  ----------------------------------------------------------------------\n",
      " |  Class methods inherited from collections.abc.Collection:\n",
      " |  \n",
      " |  __subclasshook__(C) from abc.ABCMeta\n",
      " |      Abstract classes can override this to customize issubclass().\n",
      " |      \n",
      " |      This is invoked early on by abc.ABCMeta.__subclasscheck__().\n",
      " |      It should return True, False or NotImplemented.  If it returns\n",
      " |      NotImplemented, the normal algorithm is used.  Otherwise, it\n",
      " |      overrides the normal algorithm (and the outcome is cached).\n",
      "\n"
     ]
    }
   ],
   "source": [
    "help(html.Div)"
   ]
  },
  {
   "cell_type": "markdown",
   "metadata": {},
   "source": [
    "Dentro de la terminal se ejecuta:\n",
    "\n",
    "`pydoc -w dash_html_components.Div`\n",
    "\n",
    "\n",
    "Lo que generará un documento .html con la documentación del componente indicado."
   ]
  },
  {
   "cell_type": "code",
   "execution_count": null,
   "metadata": {},
   "outputs": [],
   "source": []
  }
 ],
 "metadata": {
  "kernelspec": {
   "display_name": "Python 3",
   "language": "python",
   "name": "python3"
  },
  "language_info": {
   "codemirror_mode": {
    "name": "ipython",
    "version": 3
   },
   "file_extension": ".py",
   "mimetype": "text/x-python",
   "name": "python",
   "nbconvert_exporter": "python",
   "pygments_lexer": "ipython3",
   "version": "3.6.6"
  }
 },
 "nbformat": 4,
 "nbformat_minor": 2
}

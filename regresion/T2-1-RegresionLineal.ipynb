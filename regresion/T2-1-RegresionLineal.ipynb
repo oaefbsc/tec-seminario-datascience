{
 "cells": [
  {
   "cell_type": "markdown",
   "metadata": {},
   "source": [
    "# Regresión Lineal"
   ]
  },
  {
   "cell_type": "markdown",
   "metadata": {},
   "source": [
    "## Regresión Lineal Simple"
   ]
  },
  {
   "cell_type": "markdown",
   "metadata": {},
   "source": [
    "La **regresión lineal simple** consiste en el cálculo de una **función lineal** que se ajuste a un conjunto de datos $\\{(x_i,y_i)\\}$, esto es: $$\\hat{y} = \\alpha + \\beta x$$\n",
    "donde los parámetros $\\alpha$ y $\\beta$ optimizan la función en el sentido que minimizan los cuadrados de las desviaciones verticales de la recta ajustada. Así, para cada valor real de $y$, se tiene un valor estimado por esta función $\\hat{y}(x)$ con el cual es posible calcular el **error** entre el valor real y el estimado: $$e = y - \\hat{y}(x_i)$$.\n",
    "\n",
    "Este valor estimado $E(y)$ de se acercará al valor real de $y$ en medida de $$y = \\alpha + \\beta x + \\varepsilon $$ donde $\\varepsilon$ es una variable aleatoria con distribución normal.\n",
    "\n",
    "La regresión lineal es un algoritmo de aprendizaje automático *supervisado*.  "
   ]
  },
  {
   "cell_type": "markdown",
   "metadata": {},
   "source": [
    "### Modelo lineal con datos simulados "
   ]
  },
  {
   "cell_type": "markdown",
   "metadata": {},
   "source": [
    "Se va a construir una función $ \\hat{y} = \\alpha + \\beta x$ usando datos simulados.\n",
    "* Se construye un vector $\\textbf{x}$ con 100 valores distribuidos según una distribución normal $N\\sim(1.5, 2.5)$\n",
    "* Con los valores de en $\\textbf{x}$ se calculan los valores estimados $\\hat{y} = 5 + 1.9x$ y los valores reales $y = 5 + 1.9x + \\varepsilon$"
   ]
  },
  {
   "cell_type": "code",
   "execution_count": 1,
   "metadata": {},
   "outputs": [],
   "source": [
    "import pandas as pd\n",
    "import numpy as np"
   ]
  },
  {
   "cell_type": "code",
   "execution_count": 2,
   "metadata": {},
   "outputs": [],
   "source": [
    "# simula datos predictores con distribución N~(1.5,2.5)\n",
    "x = 1.5 + 2.5 * np.random.randn(100)"
   ]
  },
  {
   "cell_type": "code",
   "execution_count": 3,
   "metadata": {},
   "outputs": [],
   "source": [
    "# simula datos residuales con distribución N~(0, 0.8)\n",
    "res = 0 + 0.8 * np.random.randn(100)"
   ]
  },
  {
   "cell_type": "code",
   "execution_count": 4,
   "metadata": {},
   "outputs": [],
   "source": [
    "# simula datos de la variable de respuesta estimada\n",
    "y_pred = 5 + 1.2 * x"
   ]
  },
  {
   "cell_type": "code",
   "execution_count": 5,
   "metadata": {},
   "outputs": [],
   "source": [
    "# simula datos de la variable de respueta real agregando el residuo\n",
    "y_real = 5 + 1.2 * x + res"
   ]
  },
  {
   "cell_type": "code",
   "execution_count": 6,
   "metadata": {},
   "outputs": [],
   "source": [
    "x_list = x.tolist()\n",
    "y_pred_list = y_pred.tolist()\n",
    "y_real_list = y_real.tolist()"
   ]
  },
  {
   "cell_type": "code",
   "execution_count": 7,
   "metadata": {},
   "outputs": [],
   "source": [
    "data = pd.DataFrame(\n",
    "    {\n",
    "        \"x\": x_list,\n",
    "        \"y_real\": y_real_list,\n",
    "        \"y_pred\": y_pred_list\n",
    "    }\n",
    ")"
   ]
  },
  {
   "cell_type": "code",
   "execution_count": 8,
   "metadata": {},
   "outputs": [
    {
     "data": {
      "text/html": [
       "<div>\n",
       "<style scoped>\n",
       "    .dataframe tbody tr th:only-of-type {\n",
       "        vertical-align: middle;\n",
       "    }\n",
       "\n",
       "    .dataframe tbody tr th {\n",
       "        vertical-align: top;\n",
       "    }\n",
       "\n",
       "    .dataframe thead th {\n",
       "        text-align: right;\n",
       "    }\n",
       "</style>\n",
       "<table border=\"1\" class=\"dataframe\">\n",
       "  <thead>\n",
       "    <tr style=\"text-align: right;\">\n",
       "      <th></th>\n",
       "      <th>x</th>\n",
       "      <th>y_real</th>\n",
       "      <th>y_pred</th>\n",
       "    </tr>\n",
       "  </thead>\n",
       "  <tbody>\n",
       "    <tr>\n",
       "      <th>0</th>\n",
       "      <td>5.340465</td>\n",
       "      <td>12.561304</td>\n",
       "      <td>11.408558</td>\n",
       "    </tr>\n",
       "    <tr>\n",
       "      <th>1</th>\n",
       "      <td>3.347939</td>\n",
       "      <td>10.211631</td>\n",
       "      <td>9.017527</td>\n",
       "    </tr>\n",
       "    <tr>\n",
       "      <th>2</th>\n",
       "      <td>1.727016</td>\n",
       "      <td>7.396757</td>\n",
       "      <td>7.072419</td>\n",
       "    </tr>\n",
       "    <tr>\n",
       "      <th>3</th>\n",
       "      <td>6.725550</td>\n",
       "      <td>12.362164</td>\n",
       "      <td>13.070660</td>\n",
       "    </tr>\n",
       "    <tr>\n",
       "      <th>4</th>\n",
       "      <td>5.127430</td>\n",
       "      <td>11.147434</td>\n",
       "      <td>11.152915</td>\n",
       "    </tr>\n",
       "  </tbody>\n",
       "</table>\n",
       "</div>"
      ],
      "text/plain": [
       "          x     y_real     y_pred\n",
       "0  5.340465  12.561304  11.408558\n",
       "1  3.347939  10.211631   9.017527\n",
       "2  1.727016   7.396757   7.072419\n",
       "3  6.725550  12.362164  13.070660\n",
       "4  5.127430  11.147434  11.152915"
      ]
     },
     "execution_count": 8,
     "metadata": {},
     "output_type": "execute_result"
    }
   ],
   "source": [
    "data.head()"
   ]
  },
  {
   "cell_type": "code",
   "execution_count": 9,
   "metadata": {},
   "outputs": [],
   "source": [
    "import matplotlib.pyplot as plt\n",
    "% matplotlib inline"
   ]
  },
  {
   "cell_type": "code",
   "execution_count": 10,
   "metadata": {},
   "outputs": [
    {
     "data": {
      "text/plain": [
       "Text(0.5,1,'Valores reales vs estimados')"
      ]
     },
     "execution_count": 10,
     "metadata": {},
     "output_type": "execute_result"
    },
    {
     "data": {
      "image/png": "[encoded data removed]",
      "text/plain": [
       "<Figure size 432x288 with 1 Axes>"
      ]
     },
     "metadata": {},
     "output_type": "display_data"
    }
   ],
   "source": [
    "# crea un vector con valores de la media de y_real\n",
    "y_mean = [np.mean(y_real) for i in range(0, len(x_list))]\n",
    "\n",
    "# grafica las series de datos\n",
    "plt.plot(x, y_pred, \"k\")\n",
    "plt.plot(x, y_real, \"co\")\n",
    "plt.plot(x, y_mean)\n",
    "plt.title(\"Valores reales vs estimados\")"
   ]
  },
  {
   "cell_type": "markdown",
   "metadata": {},
   "source": [
    "### Coeficiente de determinación"
   ]
  },
  {
   "cell_type": "markdown",
   "metadata": {},
   "source": [
    "Para validar la efectividad del ajuste del modelo lineal, se calcula el coeficiente de determinación $R^2$.\n",
    "\n",
    "Este coeficiente se obtiene a partir de tres tipos de diferencias:\n",
    "* diferencias de la regresión (SSR): $$SSR = \\sum{({\\hat{y}_i}-\\bar{y})^2}$$\n",
    "* diferencias del modelo (SSD): $$SSD = \\sum{(y_i-\\hat{y}_i)^2}$$\n",
    "* diferencias totales (SST): $$SST = \\sum{(y_i-\\bar{y})^2}$$\n",
    "\n",
    "$$ R^2 = \\frac{SSR}{SST}$$\n",
    "\n",
    "$R^2$ toma valores en el intervalo $[0,1]$. Un valor cercano a 1 representa una buena aproximación de los datos estimados a los datos reales. "
   ]
  },
  {
   "cell_type": "code",
   "execution_count": 11,
   "metadata": {},
   "outputs": [],
   "source": [
    "data[\"SSR\"] = (data[\"y_pred\"] - np.mean(data[\"y_real\"]))**2\n",
    "data[\"SSD\"] = (data[\"y_real\"] - data[\"y_pred\"])**2\n",
    "data[\"SST\"] = (data[\"y_real\"] - np.mean(data[\"y_real\"]))**2"
   ]
  },
  {
   "cell_type": "code",
   "execution_count": 12,
   "metadata": {},
   "outputs": [
    {
     "data": {
      "text/html": [
       "<div>\n",
       "<style scoped>\n",
       "    .dataframe tbody tr th:only-of-type {\n",
       "        vertical-align: middle;\n",
       "    }\n",
       "\n",
       "    .dataframe tbody tr th {\n",
       "        vertical-align: top;\n",
       "    }\n",
       "\n",
       "    .dataframe thead th {\n",
       "        text-align: right;\n",
       "    }\n",
       "</style>\n",
       "<table border=\"1\" class=\"dataframe\">\n",
       "  <thead>\n",
       "    <tr style=\"text-align: right;\">\n",
       "      <th></th>\n",
       "      <th>x</th>\n",
       "      <th>y_real</th>\n",
       "      <th>y_pred</th>\n",
       "      <th>SSR</th>\n",
       "      <th>SSD</th>\n",
       "      <th>SST</th>\n",
       "    </tr>\n",
       "  </thead>\n",
       "  <tbody>\n",
       "    <tr>\n",
       "      <th>0</th>\n",
       "      <td>5.340465</td>\n",
       "      <td>12.561304</td>\n",
       "      <td>11.408558</td>\n",
       "      <td>18.947966</td>\n",
       "      <td>1.328824</td>\n",
       "      <td>30.312427</td>\n",
       "    </tr>\n",
       "    <tr>\n",
       "      <th>1</th>\n",
       "      <td>3.347939</td>\n",
       "      <td>10.211631</td>\n",
       "      <td>9.017527</td>\n",
       "      <td>3.849032</td>\n",
       "      <td>1.425884</td>\n",
       "      <td>9.960329</td>\n",
       "    </tr>\n",
       "    <tr>\n",
       "      <th>2</th>\n",
       "      <td>1.727016</td>\n",
       "      <td>7.396757</td>\n",
       "      <td>7.072419</td>\n",
       "      <td>0.000282</td>\n",
       "      <td>0.105195</td>\n",
       "      <td>0.116366</td>\n",
       "    </tr>\n",
       "    <tr>\n",
       "      <th>3</th>\n",
       "      <td>6.725550</td>\n",
       "      <td>12.362164</td>\n",
       "      <td>13.070660</td>\n",
       "      <td>36.180561</td>\n",
       "      <td>0.501966</td>\n",
       "      <td>28.159282</td>\n",
       "    </tr>\n",
       "    <tr>\n",
       "      <th>4</th>\n",
       "      <td>5.127430</td>\n",
       "      <td>11.147434</td>\n",
       "      <td>11.152915</td>\n",
       "      <td>16.787733</td>\n",
       "      <td>0.000030</td>\n",
       "      <td>16.742842</td>\n",
       "    </tr>\n",
       "  </tbody>\n",
       "</table>\n",
       "</div>"
      ],
      "text/plain": [
       "          x     y_real     y_pred        SSR       SSD        SST\n",
       "0  5.340465  12.561304  11.408558  18.947966  1.328824  30.312427\n",
       "1  3.347939  10.211631   9.017527   3.849032  1.425884   9.960329\n",
       "2  1.727016   7.396757   7.072419   0.000282  0.105195   0.116366\n",
       "3  6.725550  12.362164  13.070660  36.180561  0.501966  28.159282\n",
       "4  5.127430  11.147434  11.152915  16.787733  0.000030  16.742842"
      ]
     },
     "execution_count": 12,
     "metadata": {},
     "output_type": "execute_result"
    }
   ],
   "source": [
    "data.head()"
   ]
  },
  {
   "cell_type": "code",
   "execution_count": 13,
   "metadata": {},
   "outputs": [],
   "source": [
    "SSR = sum(data[\"SSR\"])\n",
    "SSD = sum(data[\"SSD\"])\n",
    "SST = sum(data[\"SST\"])"
   ]
  },
  {
   "cell_type": "code",
   "execution_count": 14,
   "metadata": {},
   "outputs": [
    {
     "data": {
      "text/plain": [
       "(930.9559253061474, 45.72407835694364, 901.6949801557994)"
      ]
     },
     "execution_count": 14,
     "metadata": {},
     "output_type": "execute_result"
    }
   ],
   "source": [
    "(SSR, SSD, SST)"
   ]
  },
  {
   "cell_type": "code",
   "execution_count": 15,
   "metadata": {},
   "outputs": [
    {
     "data": {
      "text/plain": [
       "1.0324510458573166"
      ]
     },
     "execution_count": 15,
     "metadata": {},
     "output_type": "execute_result"
    }
   ],
   "source": [
    "R2 = SSR/SST\n",
    "R2"
   ]
  },
  {
   "cell_type": "code",
   "execution_count": 16,
   "metadata": {},
   "outputs": [
    {
     "data": {
      "text/plain": [
       "(array([ 1.,  0.,  0.,  6., 18., 31., 21., 14.,  7.,  2.]),\n",
       " array([-2.60308564, -2.15778973, -1.71249382, -1.26719792, -0.82190201,\n",
       "        -0.37660611,  0.0686898 ,  0.5139857 ,  0.95928161,  1.40457751,\n",
       "         1.84987342]),\n",
       " <a list of 10 Patch objects>)"
      ]
     },
     "execution_count": 16,
     "metadata": {},
     "output_type": "execute_result"
    },
    {
     "data": {
      "image/png": "[encoded data removed]",
      "text/plain": [
       "<Figure size 432x288 with 1 Axes>"
      ]
     },
     "metadata": {},
     "output_type": "display_data"
    }
   ],
   "source": [
    "error = data[\"y_real\"] - data[\"y_pred\"]\n",
    "plt.hist(error)"
   ]
  },
  {
   "cell_type": "markdown",
   "metadata": {},
   "source": [
    "### Cálculo de la recta de regresión"
   ]
  },
  {
   "cell_type": "markdown",
   "metadata": {},
   "source": [
    "El valor de los coeficientes $\\alpha$ y $\\beta$ están dados por el método de los mínimos cuadrados. Sea la suma del cuadrado de las desviaciones que deben minimizarse: $$SCE = \\sum{y - \\hat{y}(x_i)} = \\sum{(y - (\\alpha + \\beta x_i))^2}$$\n",
    "Para minizar SCE entonces:\n",
    "$$\\frac{\\partial SCE}{\\partial \\alpha} = 0$$\n",
    "\n",
    "$$\\frac{\\partial SCE}{\\partial \\beta} = 0$$\n",
    "\n",
    "lo que resulta en:\n",
    "$$\\beta = \\frac{\\sum(x_i-\\bar{x})(y_i-\\bar{y})}{\\sum(x_i-\\bar{x})^2}$$\n",
    "\n",
    "$$\\alpha = \\bar{y}-\\beta \\bar{x}$$"
   ]
  },
  {
   "cell_type": "code",
   "execution_count": 17,
   "metadata": {},
   "outputs": [
    {
     "data": {
      "text/plain": [
       "(1.7022947378910258, 7.055631894938097)"
      ]
     },
     "execution_count": 17,
     "metadata": {},
     "output_type": "execute_result"
    }
   ],
   "source": [
    "x_mean = np.mean(data[\"x\"])\n",
    "y_mean = np.mean(data[\"y_real\"])\n",
    "x_mean, y_mean"
   ]
  },
  {
   "cell_type": "code",
   "execution_count": 18,
   "metadata": {},
   "outputs": [
    {
     "data": {
      "text/html": [
       "<div>\n",
       "<style scoped>\n",
       "    .dataframe tbody tr th:only-of-type {\n",
       "        vertical-align: middle;\n",
       "    }\n",
       "\n",
       "    .dataframe tbody tr th {\n",
       "        vertical-align: top;\n",
       "    }\n",
       "\n",
       "    .dataframe thead th {\n",
       "        text-align: right;\n",
       "    }\n",
       "</style>\n",
       "<table border=\"1\" class=\"dataframe\">\n",
       "  <thead>\n",
       "    <tr style=\"text-align: right;\">\n",
       "      <th></th>\n",
       "      <th>x</th>\n",
       "      <th>y_real</th>\n",
       "      <th>y_pred</th>\n",
       "      <th>SSR</th>\n",
       "      <th>SSD</th>\n",
       "      <th>SST</th>\n",
       "    </tr>\n",
       "  </thead>\n",
       "  <tbody>\n",
       "    <tr>\n",
       "      <th>0</th>\n",
       "      <td>5.340465</td>\n",
       "      <td>12.561304</td>\n",
       "      <td>11.408558</td>\n",
       "      <td>18.947966</td>\n",
       "      <td>1.328824</td>\n",
       "      <td>30.312427</td>\n",
       "    </tr>\n",
       "    <tr>\n",
       "      <th>1</th>\n",
       "      <td>3.347939</td>\n",
       "      <td>10.211631</td>\n",
       "      <td>9.017527</td>\n",
       "      <td>3.849032</td>\n",
       "      <td>1.425884</td>\n",
       "      <td>9.960329</td>\n",
       "    </tr>\n",
       "    <tr>\n",
       "      <th>2</th>\n",
       "      <td>1.727016</td>\n",
       "      <td>7.396757</td>\n",
       "      <td>7.072419</td>\n",
       "      <td>0.000282</td>\n",
       "      <td>0.105195</td>\n",
       "      <td>0.116366</td>\n",
       "    </tr>\n",
       "    <tr>\n",
       "      <th>3</th>\n",
       "      <td>6.725550</td>\n",
       "      <td>12.362164</td>\n",
       "      <td>13.070660</td>\n",
       "      <td>36.180561</td>\n",
       "      <td>0.501966</td>\n",
       "      <td>28.159282</td>\n",
       "    </tr>\n",
       "    <tr>\n",
       "      <th>4</th>\n",
       "      <td>5.127430</td>\n",
       "      <td>11.147434</td>\n",
       "      <td>11.152915</td>\n",
       "      <td>16.787733</td>\n",
       "      <td>0.000030</td>\n",
       "      <td>16.742842</td>\n",
       "    </tr>\n",
       "  </tbody>\n",
       "</table>\n",
       "</div>"
      ],
      "text/plain": [
       "          x     y_real     y_pred        SSR       SSD        SST\n",
       "0  5.340465  12.561304  11.408558  18.947966  1.328824  30.312427\n",
       "1  3.347939  10.211631   9.017527   3.849032  1.425884   9.960329\n",
       "2  1.727016   7.396757   7.072419   0.000282  0.105195   0.116366\n",
       "3  6.725550  12.362164  13.070660  36.180561  0.501966  28.159282\n",
       "4  5.127430  11.147434  11.152915  16.787733  0.000030  16.742842"
      ]
     },
     "execution_count": 18,
     "metadata": {},
     "output_type": "execute_result"
    }
   ],
   "source": [
    "data.head()"
   ]
  },
  {
   "cell_type": "code",
   "execution_count": 19,
   "metadata": {},
   "outputs": [],
   "source": [
    "data[\"beta_n\"] = (data[\"x\"] - x_mean) * (data[\"y_real\"] - y_mean)\n",
    "data[\"beta_d\"] = (data[\"x\"] - x_mean) ** 2"
   ]
  },
  {
   "cell_type": "code",
   "execution_count": 20,
   "metadata": {},
   "outputs": [],
   "source": [
    "beta = sum(data[\"beta_n\"])/sum(data[\"beta_d\"])\n",
    "alfa = y_mean - beta*(x_mean)"
   ]
  },
  {
   "cell_type": "code",
   "execution_count": 21,
   "metadata": {},
   "outputs": [
    {
     "data": {
      "text/plain": [
       "(5.095111373881696, 1.1516927576744382)"
      ]
     },
     "execution_count": 21,
     "metadata": {},
     "output_type": "execute_result"
    }
   ],
   "source": [
    "alfa, beta"
   ]
  },
  {
   "cell_type": "code",
   "execution_count": 22,
   "metadata": {},
   "outputs": [
    {
     "name": "stdout",
     "output_type": "stream",
     "text": [
      "El modelo lineal está dato por la recta: y = 5.095111373881696 + 1.1516927576744382x\n"
     ]
    }
   ],
   "source": [
    "print(\"El modelo lineal está dato por la recta: \" + \"y = \" + str(alfa) + \" + \" + str(beta) + \"x\")"
   ]
  },
  {
   "cell_type": "code",
   "execution_count": 23,
   "metadata": {},
   "outputs": [],
   "source": [
    "data[\"y_model\"] = alfa + beta * data[\"x\"] "
   ]
  },
  {
   "cell_type": "code",
   "execution_count": 24,
   "metadata": {},
   "outputs": [
    {
     "data": {
      "text/html": [
       "<div>\n",
       "<style scoped>\n",
       "    .dataframe tbody tr th:only-of-type {\n",
       "        vertical-align: middle;\n",
       "    }\n",
       "\n",
       "    .dataframe tbody tr th {\n",
       "        vertical-align: top;\n",
       "    }\n",
       "\n",
       "    .dataframe thead th {\n",
       "        text-align: right;\n",
       "    }\n",
       "</style>\n",
       "<table border=\"1\" class=\"dataframe\">\n",
       "  <thead>\n",
       "    <tr style=\"text-align: right;\">\n",
       "      <th></th>\n",
       "      <th>x</th>\n",
       "      <th>y_real</th>\n",
       "      <th>y_pred</th>\n",
       "      <th>SSR</th>\n",
       "      <th>SSD</th>\n",
       "      <th>SST</th>\n",
       "      <th>beta_n</th>\n",
       "      <th>beta_d</th>\n",
       "      <th>y_model</th>\n",
       "    </tr>\n",
       "  </thead>\n",
       "  <tbody>\n",
       "    <tr>\n",
       "      <th>0</th>\n",
       "      <td>5.340465</td>\n",
       "      <td>12.561304</td>\n",
       "      <td>11.408558</td>\n",
       "      <td>18.947966</td>\n",
       "      <td>1.328824</td>\n",
       "      <td>30.312427</td>\n",
       "      <td>20.030573</td>\n",
       "      <td>13.236283</td>\n",
       "      <td>11.245686</td>\n",
       "    </tr>\n",
       "    <tr>\n",
       "      <th>1</th>\n",
       "      <td>3.347939</td>\n",
       "      <td>10.211631</td>\n",
       "      <td>9.017527</td>\n",
       "      <td>3.849032</td>\n",
       "      <td>1.425884</td>\n",
       "      <td>9.960329</td>\n",
       "      <td>5.193652</td>\n",
       "      <td>2.708145</td>\n",
       "      <td>8.950909</td>\n",
       "    </tr>\n",
       "    <tr>\n",
       "      <th>2</th>\n",
       "      <td>1.727016</td>\n",
       "      <td>7.396757</td>\n",
       "      <td>7.072419</td>\n",
       "      <td>0.000282</td>\n",
       "      <td>0.105195</td>\n",
       "      <td>0.116366</td>\n",
       "      <td>0.008433</td>\n",
       "      <td>0.000611</td>\n",
       "      <td>7.084103</td>\n",
       "    </tr>\n",
       "    <tr>\n",
       "      <th>3</th>\n",
       "      <td>6.725550</td>\n",
       "      <td>12.362164</td>\n",
       "      <td>13.070660</td>\n",
       "      <td>36.180561</td>\n",
       "      <td>0.501966</td>\n",
       "      <td>28.159282</td>\n",
       "      <td>26.656064</td>\n",
       "      <td>25.233092</td>\n",
       "      <td>12.840878</td>\n",
       "    </tr>\n",
       "    <tr>\n",
       "      <th>4</th>\n",
       "      <td>5.127430</td>\n",
       "      <td>11.147434</td>\n",
       "      <td>11.152915</td>\n",
       "      <td>16.787733</td>\n",
       "      <td>0.000030</td>\n",
       "      <td>16.742842</td>\n",
       "      <td>14.014973</td>\n",
       "      <td>11.731549</td>\n",
       "      <td>11.000335</td>\n",
       "    </tr>\n",
       "  </tbody>\n",
       "</table>\n",
       "</div>"
      ],
      "text/plain": [
       "          x     y_real     y_pred        SSR       SSD        SST     beta_n  \\\n",
       "0  5.340465  12.561304  11.408558  18.947966  1.328824  30.312427  20.030573   \n",
       "1  3.347939  10.211631   9.017527   3.849032  1.425884   9.960329   5.193652   \n",
       "2  1.727016   7.396757   7.072419   0.000282  0.105195   0.116366   0.008433   \n",
       "3  6.725550  12.362164  13.070660  36.180561  0.501966  28.159282  26.656064   \n",
       "4  5.127430  11.147434  11.152915  16.787733  0.000030  16.742842  14.014973   \n",
       "\n",
       "      beta_d    y_model  \n",
       "0  13.236283  11.245686  \n",
       "1   2.708145   8.950909  \n",
       "2   0.000611   7.084103  \n",
       "3  25.233092  12.840878  \n",
       "4  11.731549  11.000335  "
      ]
     },
     "execution_count": 24,
     "metadata": {},
     "output_type": "execute_result"
    }
   ],
   "source": [
    "data.head()"
   ]
  },
  {
   "cell_type": "code",
   "execution_count": 25,
   "metadata": {},
   "outputs": [],
   "source": [
    "SSR = sum((data[\"y_model\"] - y_mean)**2)\n",
    "SSD = sum((data[\"y_real\"] - data[\"y_model\"])**2)\n",
    "SST = sum((data[\"y_real\"] - y_mean)**2)"
   ]
  },
  {
   "cell_type": "code",
   "execution_count": 26,
   "metadata": {},
   "outputs": [
    {
     "data": {
      "text/plain": [
       "(857.4961188629145, 44.198861292884224, 901.6949801557994)"
      ]
     },
     "execution_count": 26,
     "metadata": {},
     "output_type": "execute_result"
    }
   ],
   "source": [
    "SSR, SSD, SST"
   ]
  },
  {
   "cell_type": "code",
   "execution_count": 27,
   "metadata": {},
   "outputs": [
    {
     "data": {
      "text/plain": [
       "0.9509824693875439"
      ]
     },
     "execution_count": 27,
     "metadata": {},
     "output_type": "execute_result"
    }
   ],
   "source": [
    "R2 = SSR / SST\n",
    "R2"
   ]
  },
  {
   "cell_type": "code",
   "execution_count": 28,
   "metadata": {},
   "outputs": [
    {
     "data": {
      "text/plain": [
       "Text(0.5,1,'Valores reales vs estimados')"
      ]
     },
     "execution_count": 28,
     "metadata": {},
     "output_type": "execute_result"
    },
    {
     "data": {
      "image/png": "[encoded data removed]",
      "text/plain": [
       "<Figure size 432x288 with 1 Axes>"
      ]
     },
     "metadata": {},
     "output_type": "display_data"
    }
   ],
   "source": [
    "# crea un vector con valores de la media de y_real\n",
    "y_mean = [np.mean(y_real) for i in range(0, len(x_list))]\n",
    "\n",
    "# grafica las series de datos\n",
    "plt.plot(x, y_real, \"co\")\n",
    "plt.plot(x, y_pred, \"k\")\n",
    "plt.plot(x, data[\"y_model\"], \"g\")\n",
    "plt.plot(x, y_mean)\n",
    "plt.title(\"Valores reales vs estimados\")"
   ]
  },
  {
   "cell_type": "markdown",
   "metadata": {},
   "source": [
    "### Error estándar de los residuos"
   ]
  },
  {
   "cell_type": "markdown",
   "metadata": {},
   "source": [
    "Otro coeficiente de significancia del modelo es el **error estandar residual** que es la desviación del término del error (parte de los datos que el modelo no es capaz de explicar). En el caso de la regresión lineal simple: $$ RSE = \\sqrt{\\frac{\\sum (y_i-\\hat{y}(x_i))^2}{n-2}} = \\sqrt{\\frac{SSD}{n-2}}$$ "
   ]
  },
  {
   "cell_type": "code",
   "execution_count": 29,
   "metadata": {},
   "outputs": [
    {
     "data": {
      "text/plain": [
       "0.6715718790292668"
      ]
     },
     "execution_count": 29,
     "metadata": {},
     "output_type": "execute_result"
    }
   ],
   "source": [
    "RSE = np.sqrt(SSD/(len(data)-2))\n",
    "RSE"
   ]
  },
  {
   "cell_type": "code",
   "execution_count": 30,
   "metadata": {},
   "outputs": [
    {
     "data": {
      "text/plain": [
       "7.055631894938097"
      ]
     },
     "execution_count": 30,
     "metadata": {},
     "output_type": "execute_result"
    }
   ],
   "source": [
    "np.mean(data[\"y_real\"])"
   ]
  },
  {
   "cell_type": "markdown",
   "metadata": {},
   "source": [
    "La relación entre el error estándar residual y la media determina el el porcentaje de datos que el modelo no puede estimar correctamente:"
   ]
  },
  {
   "cell_type": "code",
   "execution_count": 31,
   "metadata": {},
   "outputs": [
    {
     "data": {
      "text/plain": [
       "9.51823860753097"
      ]
     },
     "execution_count": 31,
     "metadata": {},
     "output_type": "execute_result"
    }
   ],
   "source": [
    "RSE / np.mean(data[\"y_real\"]) * 100"
   ]
  },
  {
   "cell_type": "markdown",
   "metadata": {},
   "source": [
    "En resumen, al generar series de valores aleatorios distribuidos de forma normal con media y varianza fijas se simuló una muestra de datos con los cuales se calculó un **modelo lineal** a partir de los parámetros $\\alpha$ y $\\beta$. Los gráficos nos auxilian para observar la calidad del ajuste del modelo lineal a los datos simulados. El coeficiente de determinación $R^2$ fue calculado para conocer la efectividad del modelo.\n",
    " "
   ]
  },
  {
   "cell_type": "markdown",
   "metadata": {},
   "source": [
    "### Regresión lineal usando el paquete Statsmodel"
   ]
  },
  {
   "cell_type": "markdown",
   "metadata": {},
   "source": [
    "Es importante conocer la **influencia** de la variable predictora respecto a la variable de salida, lo cual se verifica haciendo una prueba de hipótesis al parámetro $\\beta$ estimado. Por medio de una prueba de hipótesis la significancia del valor estimado $\\beta$ está dado por el **p-valor**.\n",
    "\n",
    "Si el *p-valor* es mayor que cierto nivel de umbral $\\xi$, se rechaza la hipótesis que el parámetro estimado $\\beta$  es un buen estimador, es decir, que la variable predictora tenga significancia sobre el valor de la variable de salida.\n",
    "\n",
    "Adicional al *p-valor* también se considera el estadístico $t$ para verificar la significancia del modelo. "
   ]
  },
  {
   "cell_type": "code",
   "execution_count": 32,
   "metadata": {},
   "outputs": [
    {
     "data": {
      "text/html": [
       "\n",
       "        <iframe\n",
       "            width=\"100%\"\n",
       "            height=\"350\"\n",
       "            src=\"https://www.statsmodels.org/stable/index.html\"\n",
       "            frameborder=\"0\"\n",
       "            allowfullscreen\n",
       "        ></iframe>\n",
       "        "
      ],
      "text/plain": [
       "<IPython.lib.display.IFrame at 0x7f6545254630>"
      ]
     },
     "execution_count": 32,
     "metadata": {},
     "output_type": "execute_result"
    }
   ],
   "source": [
    "from IPython.display import IFrame\n",
    "IFrame('https://www.statsmodels.org/stable/index.html', width='100%', height=350)\n",
    "\n",
    "# http://nbviewer.jupyter.org/github/ipython/ipython/blob/2.x/examples/Notebook/Display%20System.ipynb#LaTeX"
   ]
  },
  {
   "cell_type": "code",
   "execution_count": 33,
   "metadata": {},
   "outputs": [],
   "source": [
    "mainpath = \"/home/oscar/Documentos/udemy/machine-learning-joanby/python-ml-course-master/datasets\"\n",
    "filename = \"/ads/Advertising.csv\"\n",
    "data = pd.read_csv(mainpath + filename)"
   ]
  },
  {
   "cell_type": "code",
   "execution_count": 34,
   "metadata": {},
   "outputs": [
    {
     "data": {
      "text/html": [
       "<div>\n",
       "<style scoped>\n",
       "    .dataframe tbody tr th:only-of-type {\n",
       "        vertical-align: middle;\n",
       "    }\n",
       "\n",
       "    .dataframe tbody tr th {\n",
       "        vertical-align: top;\n",
       "    }\n",
       "\n",
       "    .dataframe thead th {\n",
       "        text-align: right;\n",
       "    }\n",
       "</style>\n",
       "<table border=\"1\" class=\"dataframe\">\n",
       "  <thead>\n",
       "    <tr style=\"text-align: right;\">\n",
       "      <th></th>\n",
       "      <th>TV</th>\n",
       "      <th>Radio</th>\n",
       "      <th>Newspaper</th>\n",
       "      <th>Sales</th>\n",
       "    </tr>\n",
       "  </thead>\n",
       "  <tbody>\n",
       "    <tr>\n",
       "      <th>0</th>\n",
       "      <td>230.1</td>\n",
       "      <td>37.8</td>\n",
       "      <td>69.2</td>\n",
       "      <td>22.1</td>\n",
       "    </tr>\n",
       "    <tr>\n",
       "      <th>1</th>\n",
       "      <td>44.5</td>\n",
       "      <td>39.3</td>\n",
       "      <td>45.1</td>\n",
       "      <td>10.4</td>\n",
       "    </tr>\n",
       "    <tr>\n",
       "      <th>2</th>\n",
       "      <td>17.2</td>\n",
       "      <td>45.9</td>\n",
       "      <td>69.3</td>\n",
       "      <td>9.3</td>\n",
       "    </tr>\n",
       "    <tr>\n",
       "      <th>3</th>\n",
       "      <td>151.5</td>\n",
       "      <td>41.3</td>\n",
       "      <td>58.5</td>\n",
       "      <td>18.5</td>\n",
       "    </tr>\n",
       "    <tr>\n",
       "      <th>4</th>\n",
       "      <td>180.8</td>\n",
       "      <td>10.8</td>\n",
       "      <td>58.4</td>\n",
       "      <td>12.9</td>\n",
       "    </tr>\n",
       "  </tbody>\n",
       "</table>\n",
       "</div>"
      ],
      "text/plain": [
       "      TV  Radio  Newspaper  Sales\n",
       "0  230.1   37.8       69.2   22.1\n",
       "1   44.5   39.3       45.1   10.4\n",
       "2   17.2   45.9       69.3    9.3\n",
       "3  151.5   41.3       58.5   18.5\n",
       "4  180.8   10.8       58.4   12.9"
      ]
     },
     "execution_count": 34,
     "metadata": {},
     "output_type": "execute_result"
    }
   ],
   "source": [
    "data.head()"
   ]
  },
  {
   "cell_type": "code",
   "execution_count": 35,
   "metadata": {},
   "outputs": [],
   "source": [
    "import statsmodels.formula.api as amf"
   ]
  },
  {
   "cell_type": "code",
   "execution_count": 36,
   "metadata": {},
   "outputs": [],
   "source": [
    "lm = amf.ols(formula = \"Sales~TV\", data = data).fit()"
   ]
  },
  {
   "cell_type": "code",
   "execution_count": 37,
   "metadata": {},
   "outputs": [
    {
     "data": {
      "text/plain": [
       "Intercept    7.032594\n",
       "TV           0.047537\n",
       "dtype: float64"
      ]
     },
     "execution_count": 37,
     "metadata": {},
     "output_type": "execute_result"
    }
   ],
   "source": [
    "lm.params"
   ]
  },
  {
   "cell_type": "markdown",
   "metadata": {},
   "source": [
    "El modelo lineal predictivo sería:$$sales = 7.032594 + 0.047537 \\cdot TV$$"
   ]
  },
  {
   "cell_type": "code",
   "execution_count": 38,
   "metadata": {},
   "outputs": [
    {
     "data": {
      "text/plain": [
       "Intercept    1.406300e-35\n",
       "TV           1.467390e-42\n",
       "dtype: float64"
      ]
     },
     "execution_count": 38,
     "metadata": {},
     "output_type": "execute_result"
    }
   ],
   "source": [
    "lm.pvalues"
   ]
  },
  {
   "cell_type": "markdown",
   "metadata": {},
   "source": [
    "Los $p$-valores de los parámetros son muy pequeños por lo que dichos parámetros son significativos para el modelo. "
   ]
  },
  {
   "cell_type": "code",
   "execution_count": 39,
   "metadata": {},
   "outputs": [
    {
     "data": {
      "text/plain": [
       "0.611875050850071"
      ]
     },
     "execution_count": 39,
     "metadata": {},
     "output_type": "execute_result"
    }
   ],
   "source": [
    "# R²\n",
    "lm.rsquared"
   ]
  },
  {
   "cell_type": "code",
   "execution_count": 40,
   "metadata": {},
   "outputs": [
    {
     "data": {
      "text/plain": [
       "0.6099148238341623"
      ]
     },
     "execution_count": 40,
     "metadata": {},
     "output_type": "execute_result"
    }
   ],
   "source": [
    "# R² ajustado\n",
    "lm.rsquared_adj"
   ]
  },
  {
   "cell_type": "markdown",
   "metadata": {},
   "source": [
    "Un conjunto de parámetros y estadísticos del modelo se puede obtener con la función `sumary()` "
   ]
  },
  {
   "cell_type": "code",
   "execution_count": 41,
   "metadata": {},
   "outputs": [
    {
     "data": {
      "text/html": [
       "<table class=\"simpletable\">\n",
       "<caption>OLS Regression Results</caption>\n",
       "<tr>\n",
       "  <th>Dep. Variable:</th>          <td>Sales</td>      <th>  R-squared:         </th> <td>   0.612</td>\n",
       "</tr>\n",
       "<tr>\n",
       "  <th>Model:</th>                   <td>OLS</td>       <th>  Adj. R-squared:    </th> <td>   0.610</td>\n",
       "</tr>\n",
       "<tr>\n",
       "  <th>Method:</th>             <td>Least Squares</td>  <th>  F-statistic:       </th> <td>   312.1</td>\n",
       "</tr>\n",
       "<tr>\n",
       "  <th>Date:</th>             <td>Wed, 29 Aug 2018</td> <th>  Prob (F-statistic):</th> <td>1.47e-42</td>\n",
       "</tr>\n",
       "<tr>\n",
       "  <th>Time:</th>                 <td>17:54:16</td>     <th>  Log-Likelihood:    </th> <td> -519.05</td>\n",
       "</tr>\n",
       "<tr>\n",
       "  <th>No. Observations:</th>      <td>   200</td>      <th>  AIC:               </th> <td>   1042.</td>\n",
       "</tr>\n",
       "<tr>\n",
       "  <th>Df Residuals:</th>          <td>   198</td>      <th>  BIC:               </th> <td>   1049.</td>\n",
       "</tr>\n",
       "<tr>\n",
       "  <th>Df Model:</th>              <td>     1</td>      <th>                     </th>     <td> </td>   \n",
       "</tr>\n",
       "<tr>\n",
       "  <th>Covariance Type:</th>      <td>nonrobust</td>    <th>                     </th>     <td> </td>   \n",
       "</tr>\n",
       "</table>\n",
       "<table class=\"simpletable\">\n",
       "<tr>\n",
       "      <td></td>         <th>coef</th>     <th>std err</th>      <th>t</th>      <th>P>|t|</th>  <th>[0.025</th>    <th>0.975]</th>  \n",
       "</tr>\n",
       "<tr>\n",
       "  <th>Intercept</th> <td>    7.0326</td> <td>    0.458</td> <td>   15.360</td> <td> 0.000</td> <td>    6.130</td> <td>    7.935</td>\n",
       "</tr>\n",
       "<tr>\n",
       "  <th>TV</th>        <td>    0.0475</td> <td>    0.003</td> <td>   17.668</td> <td> 0.000</td> <td>    0.042</td> <td>    0.053</td>\n",
       "</tr>\n",
       "</table>\n",
       "<table class=\"simpletable\">\n",
       "<tr>\n",
       "  <th>Omnibus:</th>       <td> 0.531</td> <th>  Durbin-Watson:     </th> <td>   1.935</td>\n",
       "</tr>\n",
       "<tr>\n",
       "  <th>Prob(Omnibus):</th> <td> 0.767</td> <th>  Jarque-Bera (JB):  </th> <td>   0.669</td>\n",
       "</tr>\n",
       "<tr>\n",
       "  <th>Skew:</th>          <td>-0.089</td> <th>  Prob(JB):          </th> <td>   0.716</td>\n",
       "</tr>\n",
       "<tr>\n",
       "  <th>Kurtosis:</th>      <td> 2.779</td> <th>  Cond. No.          </th> <td>    338.</td>\n",
       "</tr>\n",
       "</table><br/><br/>Warnings:<br/>[1] Standard Errors assume that the covariance matrix of the errors is correctly specified."
      ],
      "text/plain": [
       "<class 'statsmodels.iolib.summary.Summary'>\n",
       "\"\"\"\n",
       "                            OLS Regression Results                            \n",
       "==============================================================================\n",
       "Dep. Variable:                  Sales   R-squared:                       0.612\n",
       "Model:                            OLS   Adj. R-squared:                  0.610\n",
       "Method:                 Least Squares   F-statistic:                     312.1\n",
       "Date:                Wed, 29 Aug 2018   Prob (F-statistic):           1.47e-42\n",
       "Time:                        17:54:16   Log-Likelihood:                -519.05\n",
       "No. Observations:                 200   AIC:                             1042.\n",
       "Df Residuals:                     198   BIC:                             1049.\n",
       "Df Model:                           1                                         \n",
       "Covariance Type:            nonrobust                                         \n",
       "==============================================================================\n",
       "                 coef    std err          t      P>|t|      [0.025      0.975]\n",
       "------------------------------------------------------------------------------\n",
       "Intercept      7.0326      0.458     15.360      0.000       6.130       7.935\n",
       "TV             0.0475      0.003     17.668      0.000       0.042       0.053\n",
       "==============================================================================\n",
       "Omnibus:                        0.531   Durbin-Watson:                   1.935\n",
       "Prob(Omnibus):                  0.767   Jarque-Bera (JB):                0.669\n",
       "Skew:                          -0.089   Prob(JB):                        0.716\n",
       "Kurtosis:                       2.779   Cond. No.                         338.\n",
       "==============================================================================\n",
       "\n",
       "Warnings:\n",
       "[1] Standard Errors assume that the covariance matrix of the errors is correctly specified.\n",
       "\"\"\""
      ]
     },
     "execution_count": 41,
     "metadata": {},
     "output_type": "execute_result"
    }
   ],
   "source": [
    "lm.summary()"
   ]
  },
  {
   "cell_type": "markdown",
   "metadata": {},
   "source": [
    "Es posible hacer la estimación de valores $\\hat{y}(x)$ utilizando la función `predict()` "
   ]
  },
  {
   "cell_type": "code",
   "execution_count": 42,
   "metadata": {
    "collapsed": true
   },
   "outputs": [
    {
     "data": {
      "text/plain": [
       "0      17.970775\n",
       "1       9.147974\n",
       "2       7.850224\n",
       "3      14.234395\n",
       "4      15.627218\n",
       "5       7.446162\n",
       "6       9.765950\n",
       "7      12.746498\n",
       "8       7.441409\n",
       "9      16.530414\n",
       "10     10.174765\n",
       "11     17.238710\n",
       "12      8.163966\n",
       "13     11.667416\n",
       "14     16.734822\n",
       "15     16.321253\n",
       "16     10.255578\n",
       "17     20.409404\n",
       "18     10.322129\n",
       "19     14.034741\n",
       "20     17.414596\n",
       "21     18.317792\n",
       "22      7.660077\n",
       "23     17.885209\n",
       "24      9.994126\n",
       "25     19.529976\n",
       "26     13.825579\n",
       "27     18.446141\n",
       "28     18.859710\n",
       "29     10.388680\n",
       "         ...    \n",
       "170     9.409426\n",
       "171    14.852371\n",
       "172     7.964312\n",
       "173    15.037764\n",
       "174    17.604742\n",
       "175    20.195489\n",
       "176    18.840695\n",
       "177    15.123330\n",
       "178    20.185982\n",
       "179    14.904661\n",
       "180    14.476831\n",
       "181    17.419349\n",
       "182     9.704153\n",
       "183    20.704131\n",
       "184    19.097393\n",
       "185    16.777605\n",
       "186    13.663955\n",
       "187    16.116846\n",
       "188    20.628073\n",
       "189     7.921529\n",
       "190     8.910291\n",
       "191    10.621610\n",
       "192     7.850224\n",
       "193    14.961705\n",
       "194    14.148829\n",
       "195     8.848493\n",
       "196    11.510545\n",
       "197    15.446579\n",
       "198    20.513985\n",
       "199    18.065848\n",
       "Length: 200, dtype: float64"
      ]
     },
     "execution_count": 42,
     "metadata": {},
     "output_type": "execute_result"
    }
   ],
   "source": [
    "# equivalente a lm.predict(pd.DataFrame(data[\"TV\"]))\n",
    "\n",
    "sales_pred = lm.predict(data[\"TV\"])\n",
    "sales_pred"
   ]
  },
  {
   "cell_type": "code",
   "execution_count": 43,
   "metadata": {},
   "outputs": [
    {
     "data": {
      "text/plain": [
       "[<matplotlib.lines.Line2D at 0x7f653c302710>]"
      ]
     },
     "execution_count": 43,
     "metadata": {},
     "output_type": "execute_result"
    },
    {
     "data": {
      "image/png": "[encoded data removed]",
      "text/plain": [
       "<Figure size 432x288 with 1 Axes>"
      ]
     },
     "metadata": {},
     "output_type": "display_data"
    }
   ],
   "source": [
    "data.plot(kind = \"scatter\", x =\"TV\", y = \"Sales\")\n",
    "plt.plot(data[\"TV\"], sales_pred, c = \"gray\", linewidth = 2)"
   ]
  },
  {
   "cell_type": "markdown",
   "metadata": {},
   "source": [
    "Se calcula el error estándard residual (RSE):"
   ]
  },
  {
   "cell_type": "code",
   "execution_count": 44,
   "metadata": {},
   "outputs": [],
   "source": [
    "data_sre = (data[\"Sales\"]- sales_pred)**2"
   ]
  },
  {
   "cell_type": "code",
   "execution_count": 45,
   "metadata": {},
   "outputs": [
    {
     "data": {
      "text/plain": [
       "2102.530583131351"
      ]
     },
     "execution_count": 45,
     "metadata": {},
     "output_type": "execute_result"
    }
   ],
   "source": [
    "SSD = sum(data_sre)\n",
    "SSD"
   ]
  },
  {
   "cell_type": "code",
   "execution_count": 46,
   "metadata": {},
   "outputs": [
    {
     "data": {
      "text/plain": [
       "3.258656368650462"
      ]
     },
     "execution_count": 46,
     "metadata": {},
     "output_type": "execute_result"
    }
   ],
   "source": [
    "RSE = np.sqrt(SSD/(len(data)-2))\n",
    "RSE"
   ]
  },
  {
   "cell_type": "code",
   "execution_count": 47,
   "metadata": {},
   "outputs": [
    {
     "data": {
      "text/plain": [
       "14.022500000000003"
      ]
     },
     "execution_count": 47,
     "metadata": {},
     "output_type": "execute_result"
    }
   ],
   "source": [
    "sales_med = np.mean(data[\"Sales\"])\n",
    "sales_med"
   ]
  },
  {
   "cell_type": "code",
   "execution_count": 48,
   "metadata": {},
   "outputs": [
    {
     "data": {
      "text/plain": [
       "0.23238768897489473"
      ]
     },
     "execution_count": 48,
     "metadata": {},
     "output_type": "execute_result"
    }
   ],
   "source": [
    "error = RSE/sales_med\n",
    "error"
   ]
  },
  {
   "cell_type": "markdown",
   "metadata": {},
   "source": [
    "El modelo no explica o aproxima con certeza el 23% de los datos"
   ]
  },
  {
   "cell_type": "markdown",
   "metadata": {},
   "source": [
    "plt.hist(data[\"Sales\"]- sales_pred)"
   ]
  },
  {
   "cell_type": "markdown",
   "metadata": {},
   "source": [
    "## Regresión lineal multivariable"
   ]
  },
  {
   "cell_type": "markdown",
   "metadata": {},
   "source": [
    "La **regresión lineal multivariable** consiste en el cálculo de una función: $$\\hat{y}:= \\alpha + \\sum_{i=1}^{k}\\beta_i x_i$$ donde los parámetros $\\alpha$ y ${\\beta_i}^{'}s$ optimizan la función en el sentido que minimizan el error cuadrático entre los valores reales y los valores estimados.\n",
    "\n",
    "Un estadístico que verifica la confiabilidad estadística de los las ${\\beta_i}^{'}s$ es: $$F = \\frac{SSR}{k} \\div   \\frac{SSD}{n-k-1}$$ \n",
    "\n",
    "Añadimos otro coeficiente de significancia para validar el modelo: el **error estandar residual** que es la desviación del término del error (parte de los datos que el modelo no es capaz de explicar).\n",
    "\n",
    "En el caso de la regresión lineal múltiple: $$ RSE = \\sqrt{\\frac{\\sum (y_i-\\hat{y}(x_i))^2}{n-k-1}}= \\sqrt{\\frac{SSD}{n-k-1}}$$\n",
    "\n",
    "El modelo lineal tendrá que estimar $y$ en función de dos o más variables predictoras. El cálculo de los coeficientes ${\\beta_i}^{'}s$ tendrá asociado un coeficiente de significancia $p$, que a menor valor ofrece mayor significancia del parámetro $\\beta_i$, así la variable predictora $x_i$ tendrá influencia sobre el modelo.   "
   ]
  },
  {
   "cell_type": "markdown",
   "metadata": {},
   "source": [
    "Así, retomando la campaña de mercadotecnia y ventas de la sección anterior, podemos mencionar que la complejidad del análisis se incrementa ya que si se tienen $k$ variables predictoras existen $2^k-1$ posibles modelos lineales:\n",
    "1. Sales-TV\n",
    "2. Sales-Newspaper\n",
    "3. Sales-Radio\n",
    "4. Sales-TV-Newspaper\n",
    "5. Sales-TV-Radio\n",
    "6. Sales-Newpaper-Radio\n",
    "7. Sales-TV-Newspaer-Radio"
   ]
  },
  {
   "cell_type": "markdown",
   "metadata": {},
   "source": [
    "Una guía de filtrado sobre el modelo a evaluar sugiere utilizar alguno de los siguientes pasos:\n",
    "1. Evaluar un modelo lineal que utilice todas las variables predictoras y utilizar aquellas variables con los p-valores más pequeños, eliminando las variables cuyo p-valor sea mayor a cierto umbral $\\xi$.\n",
    "2. Utilizar una nueva variable predictora de tal forma que eleve el valor $R^2$.\n",
    "3. Evaluar un modelo constructivo: iniciar con una variable e ir aumentando variables al modelo. Aquella variable que tenga el menor valor de RSE se irá añadiendo al modelo y/o aquella variable que tenga el mayor valor de $R^2$ y el *p-valor* lo suficientemente menor a $\\xi$ también se agregará al modelo.\n",
    "4. Evaluar un model destructivo: iniciar con todoas las variables e ir eliminando variables al modelo dependiendo de los valores $R^2$, *p-valor* y/o el resultado del RSE. "
   ]
  },
  {
   "cell_type": "markdown",
   "metadata": {},
   "source": [
    "### Ejercicio:\n",
    "Agregar al modelo las dos variables restantes y evaluar sus coeficientes de significancia.\n",
    "Agregar todas las variables al modelo y verificar si la calidad del modelo aumenta."
   ]
  },
  {
   "cell_type": "markdown",
   "metadata": {},
   "source": [
    "Añadimos **Newspaper** al modelo predictivo:"
   ]
  },
  {
   "cell_type": "code",
   "execution_count": 51,
   "metadata": {},
   "outputs": [],
   "source": [
    "lm2 = amf.ols(formula = \"Sales~TV+Newspaper\", data = data).fit()"
   ]
  },
  {
   "cell_type": "code",
   "execution_count": 52,
   "metadata": {},
   "outputs": [
    {
     "data": {
      "text/plain": [
       "Intercept    5.774948\n",
       "TV           0.046901\n",
       "Newspaper    0.044219\n",
       "dtype: float64"
      ]
     },
     "execution_count": 52,
     "metadata": {},
     "output_type": "execute_result"
    }
   ],
   "source": [
    "lm2.params"
   ]
  },
  {
   "cell_type": "code",
   "execution_count": 53,
   "metadata": {},
   "outputs": [
    {
     "data": {
      "text/plain": [
       "Intercept    3.145860e-22\n",
       "TV           5.507584e-44\n",
       "Newspaper    2.217084e-05\n",
       "dtype: float64"
      ]
     },
     "execution_count": 53,
     "metadata": {},
     "output_type": "execute_result"
    }
   ],
   "source": [
    "lm2.pvalues"
   ]
  },
  {
   "cell_type": "markdown",
   "metadata": {},
   "source": [
    "El resultado sugiere que los parámetros son significativos: $sales = 5.77 + 0.046 \\cdot TV + 0.044\\cdot Newspaper$"
   ]
  },
  {
   "cell_type": "code",
   "execution_count": 54,
   "metadata": {},
   "outputs": [
    {
     "data": {
      "text/plain": [
       "0.6458354938293271"
      ]
     },
     "execution_count": 54,
     "metadata": {},
     "output_type": "execute_result"
    }
   ],
   "source": [
    "lm2.rsquared"
   ]
  },
  {
   "cell_type": "code",
   "execution_count": 55,
   "metadata": {},
   "outputs": [
    {
     "data": {
      "text/plain": [
       "0.6422399150864777"
      ]
     },
     "execution_count": 55,
     "metadata": {},
     "output_type": "execute_result"
    }
   ],
   "source": [
    "lm2.rsquared_adj"
   ]
  },
  {
   "cell_type": "markdown",
   "metadata": {},
   "source": [
    "Hacemos algunas predicciones usando el modelo con dos variables: TV y Newspaper:"
   ]
  },
  {
   "cell_type": "code",
   "execution_count": 56,
   "metadata": {},
   "outputs": [],
   "source": [
    "sales_pred = lm2.predict(data[['TV', 'Newspaper']])"
   ]
  },
  {
   "cell_type": "code",
   "execution_count": 57,
   "metadata": {
    "collapsed": true
   },
   "outputs": [
    {
     "data": {
      "text/plain": [
       "0      19.626901\n",
       "1       9.856348\n",
       "2       9.646055\n",
       "3      15.467318\n",
       "4      16.837102\n",
       "5       9.499445\n",
       "6       9.510924\n",
       "7      11.925419\n",
       "8       6.222518\n",
       "9      16.083262\n",
       "10      9.945228\n",
       "11     16.021516\n",
       "12      9.805257\n",
       "13     10.666196\n",
       "14     17.381579\n",
       "15     17.278653\n",
       "16     13.995865\n",
       "17     21.440393\n",
       "18      9.829727\n",
       "19     13.528088\n",
       "20     18.379490\n",
       "21     17.948453\n",
       "22      8.587327\n",
       "23     17.641044\n",
       "24      9.506109\n",
       "25     18.967556\n",
       "26     13.034296\n",
       "27     18.048554\n",
       "28     18.456595\n",
       "29     10.890326\n",
       "         ...    \n",
       "170     8.933646\n",
       "171    15.586198\n",
       "172     7.445942\n",
       "173    14.239121\n",
       "174    16.785052\n",
       "175    20.610266\n",
       "176    18.322864\n",
       "177    15.314058\n",
       "178    19.800514\n",
       "179    14.320051\n",
       "180    13.486699\n",
       "181    17.234475\n",
       "182     9.724113\n",
       "183    22.438692\n",
       "184    19.005059\n",
       "185    16.256398\n",
       "186    13.493904\n",
       "187    15.542563\n",
       "188    19.352307\n",
       "189     7.686735\n",
       "190     7.884019\n",
       "191     9.581306\n",
       "192     7.978983\n",
       "193    13.757260\n",
       "194    13.061376\n",
       "195     8.176802\n",
       "196    10.551220\n",
       "197    14.359467\n",
       "198    22.003458\n",
       "199    17.045429\n",
       "Length: 200, dtype: float64"
      ]
     },
     "execution_count": 57,
     "metadata": {},
     "output_type": "execute_result"
    }
   ],
   "source": [
    "sales_pred"
   ]
  },
  {
   "cell_type": "code",
   "execution_count": 59,
   "metadata": {},
   "outputs": [
    {
     "data": {
      "text/plain": [
       "1918.561811896828"
      ]
     },
     "execution_count": 59,
     "metadata": {},
     "output_type": "execute_result"
    }
   ],
   "source": [
    "SSD = sum((data['Sales'] - sales_pred)**2)\n",
    "SSD"
   ]
  },
  {
   "cell_type": "code",
   "execution_count": 61,
   "metadata": {},
   "outputs": [
    {
     "data": {
      "text/plain": [
       "3.120719860252886"
      ]
     },
     "execution_count": 61,
     "metadata": {},
     "output_type": "execute_result"
    }
   ],
   "source": [
    "RSE = np.sqrt(SSD/(len(data)-2-1))\n",
    "RSE"
   ]
  },
  {
   "cell_type": "code",
   "execution_count": 64,
   "metadata": {},
   "outputs": [
    {
     "data": {
      "text/plain": [
       "0.22255089037282122"
      ]
     },
     "execution_count": 64,
     "metadata": {},
     "output_type": "execute_result"
    }
   ],
   "source": [
    "error = RSE / sales_med\n",
    "error"
   ]
  },
  {
   "cell_type": "markdown",
   "metadata": {},
   "source": [
    "Este modelo no estima o aproxima con exactitud 22% de los datos."
   ]
  },
  {
   "cell_type": "code",
   "execution_count": 65,
   "metadata": {},
   "outputs": [
    {
     "data": {
      "text/html": [
       "<table class=\"simpletable\">\n",
       "<caption>OLS Regression Results</caption>\n",
       "<tr>\n",
       "  <th>Dep. Variable:</th>          <td>Sales</td>      <th>  R-squared:         </th> <td>   0.646</td>\n",
       "</tr>\n",
       "<tr>\n",
       "  <th>Model:</th>                   <td>OLS</td>       <th>  Adj. R-squared:    </th> <td>   0.642</td>\n",
       "</tr>\n",
       "<tr>\n",
       "  <th>Method:</th>             <td>Least Squares</td>  <th>  F-statistic:       </th> <td>   179.6</td>\n",
       "</tr>\n",
       "<tr>\n",
       "  <th>Date:</th>             <td>Wed, 29 Aug 2018</td> <th>  Prob (F-statistic):</th> <td>3.95e-45</td>\n",
       "</tr>\n",
       "<tr>\n",
       "  <th>Time:</th>                 <td>19:17:21</td>     <th>  Log-Likelihood:    </th> <td> -509.89</td>\n",
       "</tr>\n",
       "<tr>\n",
       "  <th>No. Observations:</th>      <td>   200</td>      <th>  AIC:               </th> <td>   1026.</td>\n",
       "</tr>\n",
       "<tr>\n",
       "  <th>Df Residuals:</th>          <td>   197</td>      <th>  BIC:               </th> <td>   1036.</td>\n",
       "</tr>\n",
       "<tr>\n",
       "  <th>Df Model:</th>              <td>     2</td>      <th>                     </th>     <td> </td>   \n",
       "</tr>\n",
       "<tr>\n",
       "  <th>Covariance Type:</th>      <td>nonrobust</td>    <th>                     </th>     <td> </td>   \n",
       "</tr>\n",
       "</table>\n",
       "<table class=\"simpletable\">\n",
       "<tr>\n",
       "      <td></td>         <th>coef</th>     <th>std err</th>      <th>t</th>      <th>P>|t|</th>  <th>[0.025</th>    <th>0.975]</th>  \n",
       "</tr>\n",
       "<tr>\n",
       "  <th>Intercept</th> <td>    5.7749</td> <td>    0.525</td> <td>   10.993</td> <td> 0.000</td> <td>    4.739</td> <td>    6.811</td>\n",
       "</tr>\n",
       "<tr>\n",
       "  <th>TV</th>        <td>    0.0469</td> <td>    0.003</td> <td>   18.173</td> <td> 0.000</td> <td>    0.042</td> <td>    0.052</td>\n",
       "</tr>\n",
       "<tr>\n",
       "  <th>Newspaper</th> <td>    0.0442</td> <td>    0.010</td> <td>    4.346</td> <td> 0.000</td> <td>    0.024</td> <td>    0.064</td>\n",
       "</tr>\n",
       "</table>\n",
       "<table class=\"simpletable\">\n",
       "<tr>\n",
       "  <th>Omnibus:</th>       <td> 0.658</td> <th>  Durbin-Watson:     </th> <td>   1.969</td>\n",
       "</tr>\n",
       "<tr>\n",
       "  <th>Prob(Omnibus):</th> <td> 0.720</td> <th>  Jarque-Bera (JB):  </th> <td>   0.415</td>\n",
       "</tr>\n",
       "<tr>\n",
       "  <th>Skew:</th>          <td>-0.093</td> <th>  Prob(JB):          </th> <td>   0.813</td>\n",
       "</tr>\n",
       "<tr>\n",
       "  <th>Kurtosis:</th>      <td> 3.122</td> <th>  Cond. No.          </th> <td>    410.</td>\n",
       "</tr>\n",
       "</table><br/><br/>Warnings:<br/>[1] Standard Errors assume that the covariance matrix of the errors is correctly specified."
      ],
      "text/plain": [
       "<class 'statsmodels.iolib.summary.Summary'>\n",
       "\"\"\"\n",
       "                            OLS Regression Results                            \n",
       "==============================================================================\n",
       "Dep. Variable:                  Sales   R-squared:                       0.646\n",
       "Model:                            OLS   Adj. R-squared:                  0.642\n",
       "Method:                 Least Squares   F-statistic:                     179.6\n",
       "Date:                Wed, 29 Aug 2018   Prob (F-statistic):           3.95e-45\n",
       "Time:                        19:17:21   Log-Likelihood:                -509.89\n",
       "No. Observations:                 200   AIC:                             1026.\n",
       "Df Residuals:                     197   BIC:                             1036.\n",
       "Df Model:                           2                                         \n",
       "Covariance Type:            nonrobust                                         \n",
       "==============================================================================\n",
       "                 coef    std err          t      P>|t|      [0.025      0.975]\n",
       "------------------------------------------------------------------------------\n",
       "Intercept      5.7749      0.525     10.993      0.000       4.739       6.811\n",
       "TV             0.0469      0.003     18.173      0.000       0.042       0.052\n",
       "Newspaper      0.0442      0.010      4.346      0.000       0.024       0.064\n",
       "==============================================================================\n",
       "Omnibus:                        0.658   Durbin-Watson:                   1.969\n",
       "Prob(Omnibus):                  0.720   Jarque-Bera (JB):                0.415\n",
       "Skew:                          -0.093   Prob(JB):                        0.813\n",
       "Kurtosis:                       3.122   Cond. No.                         410.\n",
       "==============================================================================\n",
       "\n",
       "Warnings:\n",
       "[1] Standard Errors assume that the covariance matrix of the errors is correctly specified.\n",
       "\"\"\""
      ]
     },
     "execution_count": 65,
     "metadata": {},
     "output_type": "execute_result"
    }
   ],
   "source": [
    "lm2.summary()"
   ]
  },
  {
   "cell_type": "markdown",
   "metadata": {},
   "source": [
    "Añadimos **Radio** al modelo predictivo:"
   ]
  },
  {
   "cell_type": "code",
   "execution_count": 69,
   "metadata": {},
   "outputs": [],
   "source": [
    "lm3 = amf.ols(formula = \"Sales~TV+Radio\", data = data).fit()"
   ]
  },
  {
   "cell_type": "code",
   "execution_count": 70,
   "metadata": {},
   "outputs": [
    {
     "data": {
      "text/html": [
       "<table class=\"simpletable\">\n",
       "<caption>OLS Regression Results</caption>\n",
       "<tr>\n",
       "  <th>Dep. Variable:</th>          <td>Sales</td>      <th>  R-squared:         </th> <td>   0.897</td>\n",
       "</tr>\n",
       "<tr>\n",
       "  <th>Model:</th>                   <td>OLS</td>       <th>  Adj. R-squared:    </th> <td>   0.896</td>\n",
       "</tr>\n",
       "<tr>\n",
       "  <th>Method:</th>             <td>Least Squares</td>  <th>  F-statistic:       </th> <td>   859.6</td>\n",
       "</tr>\n",
       "<tr>\n",
       "  <th>Date:</th>             <td>Wed, 29 Aug 2018</td> <th>  Prob (F-statistic):</th> <td>4.83e-98</td>\n",
       "</tr>\n",
       "<tr>\n",
       "  <th>Time:</th>                 <td>19:23:03</td>     <th>  Log-Likelihood:    </th> <td> -386.20</td>\n",
       "</tr>\n",
       "<tr>\n",
       "  <th>No. Observations:</th>      <td>   200</td>      <th>  AIC:               </th> <td>   778.4</td>\n",
       "</tr>\n",
       "<tr>\n",
       "  <th>Df Residuals:</th>          <td>   197</td>      <th>  BIC:               </th> <td>   788.3</td>\n",
       "</tr>\n",
       "<tr>\n",
       "  <th>Df Model:</th>              <td>     2</td>      <th>                     </th>     <td> </td>   \n",
       "</tr>\n",
       "<tr>\n",
       "  <th>Covariance Type:</th>      <td>nonrobust</td>    <th>                     </th>     <td> </td>   \n",
       "</tr>\n",
       "</table>\n",
       "<table class=\"simpletable\">\n",
       "<tr>\n",
       "      <td></td>         <th>coef</th>     <th>std err</th>      <th>t</th>      <th>P>|t|</th>  <th>[0.025</th>    <th>0.975]</th>  \n",
       "</tr>\n",
       "<tr>\n",
       "  <th>Intercept</th> <td>    2.9211</td> <td>    0.294</td> <td>    9.919</td> <td> 0.000</td> <td>    2.340</td> <td>    3.502</td>\n",
       "</tr>\n",
       "<tr>\n",
       "  <th>TV</th>        <td>    0.0458</td> <td>    0.001</td> <td>   32.909</td> <td> 0.000</td> <td>    0.043</td> <td>    0.048</td>\n",
       "</tr>\n",
       "<tr>\n",
       "  <th>Radio</th>     <td>    0.1880</td> <td>    0.008</td> <td>   23.382</td> <td> 0.000</td> <td>    0.172</td> <td>    0.204</td>\n",
       "</tr>\n",
       "</table>\n",
       "<table class=\"simpletable\">\n",
       "<tr>\n",
       "  <th>Omnibus:</th>       <td>60.022</td> <th>  Durbin-Watson:     </th> <td>   2.081</td>\n",
       "</tr>\n",
       "<tr>\n",
       "  <th>Prob(Omnibus):</th> <td> 0.000</td> <th>  Jarque-Bera (JB):  </th> <td> 148.679</td>\n",
       "</tr>\n",
       "<tr>\n",
       "  <th>Skew:</th>          <td>-1.323</td> <th>  Prob(JB):          </th> <td>5.19e-33</td>\n",
       "</tr>\n",
       "<tr>\n",
       "  <th>Kurtosis:</th>      <td> 6.292</td> <th>  Cond. No.          </th> <td>    425.</td>\n",
       "</tr>\n",
       "</table><br/><br/>Warnings:<br/>[1] Standard Errors assume that the covariance matrix of the errors is correctly specified."
      ],
      "text/plain": [
       "<class 'statsmodels.iolib.summary.Summary'>\n",
       "\"\"\"\n",
       "                            OLS Regression Results                            \n",
       "==============================================================================\n",
       "Dep. Variable:                  Sales   R-squared:                       0.897\n",
       "Model:                            OLS   Adj. R-squared:                  0.896\n",
       "Method:                 Least Squares   F-statistic:                     859.6\n",
       "Date:                Wed, 29 Aug 2018   Prob (F-statistic):           4.83e-98\n",
       "Time:                        19:23:03   Log-Likelihood:                -386.20\n",
       "No. Observations:                 200   AIC:                             778.4\n",
       "Df Residuals:                     197   BIC:                             788.3\n",
       "Df Model:                           2                                         \n",
       "Covariance Type:            nonrobust                                         \n",
       "==============================================================================\n",
       "                 coef    std err          t      P>|t|      [0.025      0.975]\n",
       "------------------------------------------------------------------------------\n",
       "Intercept      2.9211      0.294      9.919      0.000       2.340       3.502\n",
       "TV             0.0458      0.001     32.909      0.000       0.043       0.048\n",
       "Radio          0.1880      0.008     23.382      0.000       0.172       0.204\n",
       "==============================================================================\n",
       "Omnibus:                       60.022   Durbin-Watson:                   2.081\n",
       "Prob(Omnibus):                  0.000   Jarque-Bera (JB):              148.679\n",
       "Skew:                          -1.323   Prob(JB):                     5.19e-33\n",
       "Kurtosis:                       6.292   Cond. No.                         425.\n",
       "==============================================================================\n",
       "\n",
       "Warnings:\n",
       "[1] Standard Errors assume that the covariance matrix of the errors is correctly specified.\n",
       "\"\"\""
      ]
     },
     "execution_count": 70,
     "metadata": {},
     "output_type": "execute_result"
    }
   ],
   "source": [
    "lm3.summary()"
   ]
  },
  {
   "cell_type": "markdown",
   "metadata": {},
   "source": [
    "Hacemos algunas predicciones usando el modelo con las variables: TV y Radio:"
   ]
  },
  {
   "cell_type": "code",
   "execution_count": 72,
   "metadata": {
    "collapsed": true
   },
   "outputs": [
    {
     "data": {
      "text/plain": [
       "0      20.555465\n",
       "1      12.345362\n",
       "2      12.337018\n",
       "3      17.617116\n",
       "4      13.223908\n",
       "5      12.512084\n",
       "6      11.718212\n",
       "7      12.105516\n",
       "8       3.709379\n",
       "9      12.551697\n",
       "10      7.035860\n",
       "11     17.256520\n",
       "12     10.608662\n",
       "13      8.810951\n",
       "14     18.444668\n",
       "15     20.828915\n",
       "16     12.903865\n",
       "17     23.241076\n",
       "18      9.941215\n",
       "19     14.153846\n",
       "20     18.121392\n",
       "21     14.742064\n",
       "22      6.514172\n",
       "23     16.544027\n",
       "24      8.140352\n",
       "25     15.608021\n",
       "26     14.967694\n",
       "27     17.046335\n",
       "28     19.399541\n",
       "29      9.159297\n",
       "         ...    \n",
       "170     7.389574\n",
       "171    14.376846\n",
       "172     7.596578\n",
       "173    11.960970\n",
       "174    13.736151\n",
       "175    24.783526\n",
       "176    19.964022\n",
       "177    12.174924\n",
       "178    16.013844\n",
       "179    12.378040\n",
       "180    10.575089\n",
       "181    13.933696\n",
       "182     6.564088\n",
       "183    24.163936\n",
       "184    18.537949\n",
       "185    20.779377\n",
       "186     9.698684\n",
       "187    17.060279\n",
       "188    18.620097\n",
       "189     6.051445\n",
       "190    12.454978\n",
       "191     8.405926\n",
       "192     4.478859\n",
       "193    18.448761\n",
       "194    16.463190\n",
       "195     5.364512\n",
       "196     8.152375\n",
       "197    12.768048\n",
       "198    23.792923\n",
       "199    15.157543\n",
       "Length: 200, dtype: float64"
      ]
     },
     "execution_count": 72,
     "metadata": {},
     "output_type": "execute_result"
    }
   ],
   "source": [
    "sales_pred = lm3.predict(data[['TV', 'Radio']])\n",
    "sales_pred"
   ]
  },
  {
   "cell_type": "code",
   "execution_count": 73,
   "metadata": {},
   "outputs": [
    {
     "data": {
      "text/plain": [
       "556.9139800676185"
      ]
     },
     "execution_count": 73,
     "metadata": {},
     "output_type": "execute_result"
    }
   ],
   "source": [
    "SSD = sum((data['Sales'] - sales_pred)**2)\n",
    "SSD"
   ]
  },
  {
   "cell_type": "code",
   "execution_count": 74,
   "metadata": {},
   "outputs": [
    {
     "data": {
      "text/plain": [
       "1.6813609125080011"
      ]
     },
     "execution_count": 74,
     "metadata": {},
     "output_type": "execute_result"
    }
   ],
   "source": [
    "RSE = np.sqrt(SSD/(len(data)-2-1))\n",
    "RSE"
   ]
  },
  {
   "cell_type": "code",
   "execution_count": 76,
   "metadata": {},
   "outputs": [
    {
     "data": {
      "text/plain": [
       "0.1199045043685506"
      ]
     },
     "execution_count": 76,
     "metadata": {},
     "output_type": "execute_result"
    }
   ],
   "source": [
    "RSE/sales_med"
   ]
  },
  {
   "cell_type": "markdown",
   "metadata": {},
   "source": [
    "Este modelo no estima o aproxima con exactitud 12% de los datos"
   ]
  },
  {
   "cell_type": "markdown",
   "metadata": {},
   "source": [
    "Con esta información podemos concluir hasta el momento que hay una mejor ajuste del modelo lineal con las variables *TV* y *Radio* más aún que por separadas las cada una de las tres características. Ahora bien, ¿podría mejorarse el ajuste considerando las tres variables?"
   ]
  },
  {
   "cell_type": "code",
   "execution_count": 78,
   "metadata": {},
   "outputs": [],
   "source": [
    "lm4 = amf.ols(formula = \"Sales~TV+Radio+Newspaper\", data = data).fit()"
   ]
  },
  {
   "cell_type": "code",
   "execution_count": 79,
   "metadata": {},
   "outputs": [
    {
     "data": {
      "text/html": [
       "<table class=\"simpletable\">\n",
       "<caption>OLS Regression Results</caption>\n",
       "<tr>\n",
       "  <th>Dep. Variable:</th>          <td>Sales</td>      <th>  R-squared:         </th> <td>   0.897</td>\n",
       "</tr>\n",
       "<tr>\n",
       "  <th>Model:</th>                   <td>OLS</td>       <th>  Adj. R-squared:    </th> <td>   0.896</td>\n",
       "</tr>\n",
       "<tr>\n",
       "  <th>Method:</th>             <td>Least Squares</td>  <th>  F-statistic:       </th> <td>   570.3</td>\n",
       "</tr>\n",
       "<tr>\n",
       "  <th>Date:</th>             <td>Wed, 29 Aug 2018</td> <th>  Prob (F-statistic):</th> <td>1.58e-96</td>\n",
       "</tr>\n",
       "<tr>\n",
       "  <th>Time:</th>                 <td>20:42:36</td>     <th>  Log-Likelihood:    </th> <td> -386.18</td>\n",
       "</tr>\n",
       "<tr>\n",
       "  <th>No. Observations:</th>      <td>   200</td>      <th>  AIC:               </th> <td>   780.4</td>\n",
       "</tr>\n",
       "<tr>\n",
       "  <th>Df Residuals:</th>          <td>   196</td>      <th>  BIC:               </th> <td>   793.6</td>\n",
       "</tr>\n",
       "<tr>\n",
       "  <th>Df Model:</th>              <td>     3</td>      <th>                     </th>     <td> </td>   \n",
       "</tr>\n",
       "<tr>\n",
       "  <th>Covariance Type:</th>      <td>nonrobust</td>    <th>                     </th>     <td> </td>   \n",
       "</tr>\n",
       "</table>\n",
       "<table class=\"simpletable\">\n",
       "<tr>\n",
       "      <td></td>         <th>coef</th>     <th>std err</th>      <th>t</th>      <th>P>|t|</th>  <th>[0.025</th>    <th>0.975]</th>  \n",
       "</tr>\n",
       "<tr>\n",
       "  <th>Intercept</th> <td>    2.9389</td> <td>    0.312</td> <td>    9.422</td> <td> 0.000</td> <td>    2.324</td> <td>    3.554</td>\n",
       "</tr>\n",
       "<tr>\n",
       "  <th>TV</th>        <td>    0.0458</td> <td>    0.001</td> <td>   32.809</td> <td> 0.000</td> <td>    0.043</td> <td>    0.049</td>\n",
       "</tr>\n",
       "<tr>\n",
       "  <th>Radio</th>     <td>    0.1885</td> <td>    0.009</td> <td>   21.893</td> <td> 0.000</td> <td>    0.172</td> <td>    0.206</td>\n",
       "</tr>\n",
       "<tr>\n",
       "  <th>Newspaper</th> <td>   -0.0010</td> <td>    0.006</td> <td>   -0.177</td> <td> 0.860</td> <td>   -0.013</td> <td>    0.011</td>\n",
       "</tr>\n",
       "</table>\n",
       "<table class=\"simpletable\">\n",
       "<tr>\n",
       "  <th>Omnibus:</th>       <td>60.414</td> <th>  Durbin-Watson:     </th> <td>   2.084</td>\n",
       "</tr>\n",
       "<tr>\n",
       "  <th>Prob(Omnibus):</th> <td> 0.000</td> <th>  Jarque-Bera (JB):  </th> <td> 151.241</td>\n",
       "</tr>\n",
       "<tr>\n",
       "  <th>Skew:</th>          <td>-1.327</td> <th>  Prob(JB):          </th> <td>1.44e-33</td>\n",
       "</tr>\n",
       "<tr>\n",
       "  <th>Kurtosis:</th>      <td> 6.332</td> <th>  Cond. No.          </th> <td>    454.</td>\n",
       "</tr>\n",
       "</table><br/><br/>Warnings:<br/>[1] Standard Errors assume that the covariance matrix of the errors is correctly specified."
      ],
      "text/plain": [
       "<class 'statsmodels.iolib.summary.Summary'>\n",
       "\"\"\"\n",
       "                            OLS Regression Results                            \n",
       "==============================================================================\n",
       "Dep. Variable:                  Sales   R-squared:                       0.897\n",
       "Model:                            OLS   Adj. R-squared:                  0.896\n",
       "Method:                 Least Squares   F-statistic:                     570.3\n",
       "Date:                Wed, 29 Aug 2018   Prob (F-statistic):           1.58e-96\n",
       "Time:                        20:42:36   Log-Likelihood:                -386.18\n",
       "No. Observations:                 200   AIC:                             780.4\n",
       "Df Residuals:                     196   BIC:                             793.6\n",
       "Df Model:                           3                                         \n",
       "Covariance Type:            nonrobust                                         \n",
       "==============================================================================\n",
       "                 coef    std err          t      P>|t|      [0.025      0.975]\n",
       "------------------------------------------------------------------------------\n",
       "Intercept      2.9389      0.312      9.422      0.000       2.324       3.554\n",
       "TV             0.0458      0.001     32.809      0.000       0.043       0.049\n",
       "Radio          0.1885      0.009     21.893      0.000       0.172       0.206\n",
       "Newspaper     -0.0010      0.006     -0.177      0.860      -0.013       0.011\n",
       "==============================================================================\n",
       "Omnibus:                       60.414   Durbin-Watson:                   2.084\n",
       "Prob(Omnibus):                  0.000   Jarque-Bera (JB):              151.241\n",
       "Skew:                          -1.327   Prob(JB):                     1.44e-33\n",
       "Kurtosis:                       6.332   Cond. No.                         454.\n",
       "==============================================================================\n",
       "\n",
       "Warnings:\n",
       "[1] Standard Errors assume that the covariance matrix of the errors is correctly specified.\n",
       "\"\"\""
      ]
     },
     "execution_count": 79,
     "metadata": {},
     "output_type": "execute_result"
    }
   ],
   "source": [
    "lm4.summary()"
   ]
  },
  {
   "cell_type": "markdown",
   "metadata": {},
   "source": [
    "Para este caso podemos observar que el *p-valor* es cercano a 1, y valor del parámetro $\\beta$ asociado a esta variable predictora es casi 0. Por tanto, es inmediato suponer que esta variable no aporta significatividad al modelo."
   ]
  },
  {
   "cell_type": "code",
   "execution_count": 82,
   "metadata": {
    "collapsed": true
   },
   "outputs": [
    {
     "data": {
      "text/plain": [
       "0      20.523974\n",
       "1      12.337855\n",
       "2      12.307671\n",
       "3      17.597830\n",
       "4      13.188672\n",
       "5      12.478348\n",
       "6      11.729760\n",
       "7      12.122953\n",
       "8       3.727341\n",
       "9      12.550849\n",
       "10      7.032299\n",
       "11     17.285129\n",
       "12     10.577121\n",
       "13      8.826300\n",
       "14     18.434366\n",
       "15     20.819300\n",
       "16     12.823657\n",
       "17     23.224957\n",
       "18      9.951682\n",
       "19     14.166073\n",
       "20     18.100767\n",
       "21     14.740538\n",
       "22      6.489150\n",
       "23     16.545933\n",
       "24      8.146519\n",
       "25     15.610039\n",
       "26     14.989514\n",
       "27     17.051673\n",
       "28     19.410538\n",
       "29      9.144024\n",
       "         ...    \n",
       "170     7.394980\n",
       "171    14.358274\n",
       "172     7.607692\n",
       "173    11.970939\n",
       "174    13.744357\n",
       "175    24.786870\n",
       "176    19.979373\n",
       "177    12.162046\n",
       "178    16.010997\n",
       "179    12.384555\n",
       "180    10.587200\n",
       "181    13.928099\n",
       "182     6.554670\n",
       "183    24.133100\n",
       "184    18.538521\n",
       "185    20.803011\n",
       "186     9.691373\n",
       "187    17.076442\n",
       "188    18.644306\n",
       "189     6.051624\n",
       "190    12.489159\n",
       "191     8.424019\n",
       "192     4.466230\n",
       "193    18.486958\n",
       "194    16.495300\n",
       "195     5.370342\n",
       "196     8.165312\n",
       "197    12.785921\n",
       "198    23.767321\n",
       "199    15.173196\n",
       "Length: 200, dtype: float64"
      ]
     },
     "execution_count": 82,
     "metadata": {},
     "output_type": "execute_result"
    }
   ],
   "source": [
    "sales_pred = lm4.predict(data[['TV', 'Radio', 'Newspaper']])\n",
    "sales_pred"
   ]
  },
  {
   "cell_type": "code",
   "execution_count": 87,
   "metadata": {},
   "outputs": [
    {
     "data": {
      "text/plain": [
       "556.8252629021869"
      ]
     },
     "execution_count": 87,
     "metadata": {},
     "output_type": "execute_result"
    }
   ],
   "source": [
    "SSD = sum((data['Sales'] - sales_pred)**2)\n",
    "SSD"
   ]
  },
  {
   "cell_type": "code",
   "execution_count": 86,
   "metadata": {},
   "outputs": [
    {
     "data": {
      "text/plain": [
       "1.6855103734147436"
      ]
     },
     "execution_count": 86,
     "metadata": {},
     "output_type": "execute_result"
    }
   ],
   "source": [
    "RSE = np.sqrt(SSD/(len(data)-3-1)) # se modifica k = 3\n",
    "RSE"
   ]
  },
  {
   "cell_type": "code",
   "execution_count": 88,
   "metadata": {},
   "outputs": [
    {
     "data": {
      "text/plain": [
       "0.12020041885646235"
      ]
     },
     "execution_count": 88,
     "metadata": {},
     "output_type": "execute_result"
    }
   ],
   "source": [
    "RSE/sales_med"
   ]
  },
  {
   "cell_type": "markdown",
   "metadata": {},
   "source": [
    "Este modelo no estima o aproxima con exactitud 12% de los datos"
   ]
  },
  {
   "cell_type": "markdown",
   "metadata": {},
   "source": [
    "**Conlusiones:** Por mencionar lo menos, el modelo que considera las tres variables predictoras: TV, Radio, y Newspaper, es parecido al modelo que considera TV y Radio solamente. No existe, diferencia considerable entre los dos modelos, además que el parametro para Newspapers no aporta casi nada al modelo.\n",
    "\n",
    "¿Cuál es la razón de la falta de significancia de la variable predictora Newspaper?"
   ]
  },
  {
   "cell_type": "markdown",
   "metadata": {},
   "source": [
    "## Muticolinealidad"
   ]
  },
  {
   "cell_type": "markdown",
   "metadata": {},
   "source": [
    "La multicolineadad es la razón por la cual el modelo no se benefició de añadir otra variable predictora al modelo. Este concepto alude a la correlación entre variables predictoras del modelo, es un problema muy común en el análisis de regresión.\n",
    "\n",
    "Resultado del análisis de correlación previo, notamos que existe a correlación significativa entre la variable Radio y Newspaper, esto aumenta la variabilidad del coficiente $\\beta$ que se está estimando para la variable predictora. Esto representa un problema pues una variable interactúa de manera negativa con la otra.\n",
    "\n",
    "Para identificar con precisión este problema se utiliza el estadístico $t$ y la matriz de correlación. Dado el caso de alta correlación entre variables predictoras, es necesario identificar el efecto que esto provoca al modelo, con la finalidad de deseachar del modelo una o más de variables significativamente correlacionadas, esto se hace echando mano de la técnica del **factor de inflación de la varianza** conocido como **VIF**.\n",
    "\n",
    "Esta prueba detecta la multicolinealidad entre variables a través de un estadístico: el método cuantifica la aparición de una variabilidad en un coeficiente estimado de una variable predictora debida a la alta correlación entre dos o más variables predictoras. El *VIF* deberá ser calculado para cada una de las variables predictoras y si el valor es muy alto para una variable en particular, entonces deberá ser eliminada del modelo."
   ]
  },
  {
   "cell_type": "markdown",
   "metadata": {},
   "source": [
    "El factor de inflación de varianza puede interpretarse según los siguientes valores:\n",
    "   * Si $VIF = 1$: Las variables no están correlacionadas.\n",
    "   * Si $VIF < 5$: Las variables tienen una correlación moderada y pueden ser parte del modelo.\n",
    "   * Si $VIF > 5$: Las variables están altamente correlacionadas y deben ser retiradas del modelo."
   ]
  },
  {
   "cell_type": "markdown",
   "metadata": {},
   "source": [
    "Para nuestro ejemplo vamos a calcular el valor del VIF para cada caso en el que se relacione un par de variables contra otra individual. Así, compararemos:\n",
    "* TV ~ Radio + Newspaper\n",
    "* Radio ~ TV + Newspaper\n",
    "* Newspaper ~ Radio + TV"
   ]
  },
  {
   "cell_type": "code",
   "execution_count": 92,
   "metadata": {},
   "outputs": [
    {
     "data": {
      "text/plain": [
       "1.0046107849396502"
      ]
     },
     "execution_count": 92,
     "metadata": {},
     "output_type": "execute_result"
    }
   ],
   "source": [
    "# TV ~ Radio + Newspaper\n",
    "lm_tv = amf.ols(formula = \"TV ~ Radio + Newspaper\", data = data).fit()\n",
    "r_squared_tv = lm_tv.rsquared\n",
    "VIF = 1 / (1 - r_squared_tv)\n",
    "VIF"
   ]
  },
  {
   "cell_type": "code",
   "execution_count": 93,
   "metadata": {},
   "outputs": [
    {
     "data": {
      "text/plain": [
       "1.1449519171055353"
      ]
     },
     "execution_count": 93,
     "metadata": {},
     "output_type": "execute_result"
    }
   ],
   "source": [
    "# Radio ~ TV + Newspaper\n",
    "lm_ra = amf.ols(formula = \"Radio ~ TV + Newspaper\", data = data).fit()\n",
    "r_squared_ra = lm_ra.rsquared\n",
    "VIF = 1 / (1 - r_squared_ra)\n",
    "VIF"
   ]
  },
  {
   "cell_type": "code",
   "execution_count": 95,
   "metadata": {},
   "outputs": [
    {
     "data": {
      "text/plain": [
       "1.1451873787239288"
      ]
     },
     "execution_count": 95,
     "metadata": {},
     "output_type": "execute_result"
    }
   ],
   "source": [
    "# Newspaper ~ Radio + TV\n",
    "lm_new = amf.ols(formula = \"Newspaper ~ Radio + TV\", data = data).fit()\n",
    "r_squared_new = lm_new.rsquared\n",
    "VIF = 1 / (1 - r_squared_new)\n",
    "VIF"
   ]
  },
  {
   "cell_type": "markdown",
   "metadata": {},
   "source": [
    "El resultado del cálculo de los valores VIF nos ayuda a elegir como variable principal para la estimacion a la 'TV', mientras que la decisión de elegir entre 'Radio' y 'Newspaper' es dudosa pues sus valores son casi iguales, en este caso se verifica aquella variable que ofrece mejores resultados en los estadísticos generales al construir el modelo. Así pues, el mejor modelo final es: **lm3** con Sales ~ TV + Radio."
   ]
  },
  {
   "cell_type": "code",
   "execution_count": null,
   "metadata": {},
   "outputs": [],
   "source": []
  }
 ],
 "metadata": {
  "kernelspec": {
   "display_name": "Python 3",
   "language": "python",
   "name": "python3"
  },
  "language_info": {
   "codemirror_mode": {
    "name": "ipython",
    "version": 3
   },
   "file_extension": ".py",
   "mimetype": "text/x-python",
   "name": "python",
   "nbconvert_exporter": "python",
   "pygments_lexer": "ipython3",
   "version": "3.6.4"
  }
 },
 "nbformat": 4,
 "nbformat_minor": 2
}
